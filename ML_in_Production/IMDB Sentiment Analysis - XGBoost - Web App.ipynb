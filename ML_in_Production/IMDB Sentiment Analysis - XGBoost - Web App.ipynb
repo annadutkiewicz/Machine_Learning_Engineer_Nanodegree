{
 "cells": [
  {
   "cell_type": "markdown",
   "metadata": {},
   "source": [
    "# Sentiment Analysis Web App\n",
    "\n",
    "_Deep Learning Nanodegree Program | Deployment_\n",
    "\n",
    "---\n",
    "\n",
    "In this notebook we will use Amazon's SageMaker service to construct a random tree model to predict the sentiment of a movie review. In addition, we will deploy this model to an endpoint and construct a very simple web app which will interact with our model's deployed endpoint.\n",
    "\n",
    "## General Outline\n",
    "\n",
    "Typically, when using a notebook instance with SageMaker, you will proceed through the following steps. Of course, not every step will need to be done with each project. Also, there is quite a lot of room for variation in many of the steps, as you will see throughout these lessons.\n",
    "\n",
    "1. Download or otherwise retrieve the data.\n",
    "2. Process / Prepare the data.\n",
    "3. Upload the processed data to S3.\n",
    "4. Train a chosen model.\n",
    "5. Test the trained model (typically using a batch transform job).\n",
    "6. Deploy the trained model.\n",
    "7. Use the deployed model.\n",
    "\n",
    "In this notebook we will progress through each of the steps above. We will also see that the final step, using the deployed model, can be quite challenging."
   ]
  },
  {
   "cell_type": "markdown",
   "metadata": {},
   "source": [
    "## Step 1: Downloading the data\n",
    "\n",
    "The dataset we are going to use is very popular among researchers in Natural Language Processing, usually referred to as the [IMDb dataset](http://ai.stanford.edu/~amaas/data/sentiment/). It consists of movie reviews from the website [imdb.com](http://www.imdb.com/), each labeled as either '**pos**itive', if the reviewer enjoyed the film, or '**neg**ative' otherwise.\n",
    "\n",
    "> Maas, Andrew L., et al. [Learning Word Vectors for Sentiment Analysis](http://ai.stanford.edu/~amaas/data/sentiment/). In _Proceedings of the 49th Annual Meeting of the Association for Computational Linguistics: Human Language Technologies_. Association for Computational Linguistics, 2011.\n",
    "\n",
    "We begin by using some Jupyter Notebook magic to download and extract the dataset."
   ]
  },
  {
   "cell_type": "code",
   "execution_count": 1,
   "metadata": {},
   "outputs": [
    {
     "name": "stdout",
     "output_type": "stream",
     "text": [
      "mkdir: cannot create directory ‘../data’: File exists\n",
      "--2020-06-29 18:19:58--  http://ai.stanford.edu/~amaas/data/sentiment/aclImdb_v1.tar.gz\n",
      "Resolving ai.stanford.edu (ai.stanford.edu)... 171.64.68.10\n",
      "Connecting to ai.stanford.edu (ai.stanford.edu)|171.64.68.10|:80... connected.\n",
      "HTTP request sent, awaiting response... 200 OK\n",
      "Length: 84125825 (80M) [application/x-gzip]\n",
      "Saving to: ‘../data/aclImdb_v1.tar.gz’\n",
      "\n",
      "../data/aclImdb_v1. 100%[===================>]  80.23M  24.3MB/s    in 3.9s    \n",
      "\n",
      "2020-06-29 18:20:02 (20.5 MB/s) - ‘../data/aclImdb_v1.tar.gz’ saved [84125825/84125825]\n",
      "\n"
     ]
    }
   ],
   "source": [
    "%mkdir ../data\n",
    "!wget -O ../data/aclImdb_v1.tar.gz http://ai.stanford.edu/~amaas/data/sentiment/aclImdb_v1.tar.gz\n",
    "!tar -zxf ../data/aclImdb_v1.tar.gz -C ../data"
   ]
  },
  {
   "cell_type": "markdown",
   "metadata": {},
   "source": [
    "## Step 2: Preparing and Processing the data\n",
    "\n",
    "The data we have downloaded is split into various files, each of which contains a single review. It will be much easier going forward if we combine these individual files into two large files, one for training and one for testing."
   ]
  },
  {
   "cell_type": "code",
   "execution_count": 2,
   "metadata": {},
   "outputs": [],
   "source": [
    "import os\n",
    "import glob\n",
    "\n",
    "def read_imdb_data(data_dir='../data/aclImdb'):\n",
    "    data = {}\n",
    "    labels = {}\n",
    "    \n",
    "    for data_type in ['train', 'test']:\n",
    "        data[data_type] = {}\n",
    "        labels[data_type] = {}\n",
    "        \n",
    "        for sentiment in ['pos', 'neg']:\n",
    "            data[data_type][sentiment] = []\n",
    "            labels[data_type][sentiment] = []\n",
    "            \n",
    "            path = os.path.join(data_dir, data_type, sentiment, '*.txt')\n",
    "            files = glob.glob(path)\n",
    "            \n",
    "            for f in files:\n",
    "                with open(f) as review:\n",
    "                    data[data_type][sentiment].append(review.read())\n",
    "                    # Here we represent a positive review by '1' and a negative review by '0'\n",
    "                    labels[data_type][sentiment].append(1 if sentiment == 'pos' else 0)\n",
    "                    \n",
    "            assert len(data[data_type][sentiment]) == len(labels[data_type][sentiment]), \\\n",
    "                    \"{}/{} data size does not match labels size\".format(data_type, sentiment)\n",
    "                \n",
    "    return data, labels"
   ]
  },
  {
   "cell_type": "code",
   "execution_count": 3,
   "metadata": {},
   "outputs": [
    {
     "name": "stdout",
     "output_type": "stream",
     "text": [
      "IMDB reviews: train = 12500 pos / 12500 neg, test = 12500 pos / 12500 neg\n"
     ]
    }
   ],
   "source": [
    "data, labels = read_imdb_data()\n",
    "print(\"IMDB reviews: train = {} pos / {} neg, test = {} pos / {} neg\".format(\n",
    "            len(data['train']['pos']), len(data['train']['neg']),\n",
    "            len(data['test']['pos']), len(data['test']['neg'])))"
   ]
  },
  {
   "cell_type": "code",
   "execution_count": 4,
   "metadata": {},
   "outputs": [],
   "source": [
    "from sklearn.utils import shuffle\n",
    "\n",
    "def prepare_imdb_data(data, labels):\n",
    "    \"\"\"Prepare training and test sets from IMDb movie reviews.\"\"\"\n",
    "    \n",
    "    #Combine positive and negative reviews and labels\n",
    "    data_train = data['train']['pos'] + data['train']['neg']\n",
    "    data_test = data['test']['pos'] + data['test']['neg']\n",
    "    labels_train = labels['train']['pos'] + labels['train']['neg']\n",
    "    labels_test = labels['test']['pos'] + labels['test']['neg']\n",
    "    \n",
    "    #Shuffle reviews and corresponding labels within training and test sets\n",
    "    data_train, labels_train = shuffle(data_train, labels_train)\n",
    "    data_test, labels_test = shuffle(data_test, labels_test)\n",
    "    \n",
    "    # Return a unified training data, test data, training labels, test labets\n",
    "    return data_train, data_test, labels_train, labels_test"
   ]
  },
  {
   "cell_type": "code",
   "execution_count": 5,
   "metadata": {},
   "outputs": [
    {
     "name": "stdout",
     "output_type": "stream",
     "text": [
      "IMDb reviews (combined): train = 25000, test = 25000\n"
     ]
    }
   ],
   "source": [
    "train_X, test_X, train_y, test_y = prepare_imdb_data(data, labels)\n",
    "print(\"IMDb reviews (combined): train = {}, test = {}\".format(len(train_X), len(test_X)))"
   ]
  },
  {
   "cell_type": "code",
   "execution_count": 6,
   "metadata": {},
   "outputs": [
    {
     "data": {
      "text/plain": [
       "'Just saw this at the 2003 Vancouver International Film Festival and it was funny as hell and a bit surreal. Takes place in Toronto, where these two losers live in this run-down house in the middle of a freeway system. David Hewlett (PIN, CUBE, CYPHER) and Andrew Miller (CUBE) are just great as the two losers who wish the world would just go away. The acting, dialogue and writing are very good, and the whole film looks great for such a low-budget flick. Director/Writer Vincenzo Natali was in attendance at this screening, and he seemed so intelligent and down-to-earth. This guy is so inventive with these great stories that work so well within small budgets, it puts big budget Hollywood crap to shame!'"
      ]
     },
     "execution_count": 6,
     "metadata": {},
     "output_type": "execute_result"
    }
   ],
   "source": [
    "train_X[100]"
   ]
  },
  {
   "cell_type": "markdown",
   "metadata": {},
   "source": [
    "## Processing the data\n",
    "\n",
    "Now that we have our training and testing datasets merged and ready to use, we need to start processing the raw data into something that will be useable by our machine learning algorithm. To begin with, we remove any html formatting and any non-alpha numeric characters that may appear in the reviews. We will do this in a very simplistic way using Python's regular expression module. We will discuss the reason for this rather simplistic pre-processing later on."
   ]
  },
  {
   "cell_type": "code",
   "execution_count": 7,
   "metadata": {},
   "outputs": [],
   "source": [
    "import re\n",
    "\n",
    "REPLACE_NO_SPACE = re.compile(\"(\\.)|(\\;)|(\\:)|(\\!)|(\\')|(\\?)|(\\,)|(\\\")|(\\()|(\\))|(\\[)|(\\])\")\n",
    "REPLACE_WITH_SPACE = re.compile(\"(<br\\s*/><br\\s*/>)|(\\-)|(\\/)\")\n",
    "\n",
    "def review_to_words(review):\n",
    "    words = REPLACE_NO_SPACE.sub(\"\", review.lower())\n",
    "    words = REPLACE_WITH_SPACE.sub(\" \", words)\n",
    "    return words"
   ]
  },
  {
   "cell_type": "code",
   "execution_count": 8,
   "metadata": {},
   "outputs": [
    {
     "data": {
      "text/plain": [
       "'just saw this at the 2003 vancouver international film festival and it was funny as hell and a bit surreal takes place in toronto where these two losers live in this run down house in the middle of a freeway system david hewlett pin cube cypher and andrew miller cube are just great as the two losers who wish the world would just go away the acting dialogue and writing are very good and the whole film looks great for such a low budget flick director writer vincenzo natali was in attendance at this screening and he seemed so intelligent and down to earth this guy is so inventive with these great stories that work so well within small budgets it puts big budget hollywood crap to shame'"
      ]
     },
     "execution_count": 8,
     "metadata": {},
     "output_type": "execute_result"
    }
   ],
   "source": [
    "review_to_words(train_X[100])"
   ]
  },
  {
   "cell_type": "code",
   "execution_count": 9,
   "metadata": {},
   "outputs": [],
   "source": [
    "import pickle\n",
    "\n",
    "cache_dir = os.path.join(\"../cache\", \"sentiment_web_app\")  # where to store cache files\n",
    "os.makedirs(cache_dir, exist_ok=True)  # ensure cache directory exists\n",
    "\n",
    "def preprocess_data(data_train, data_test, labels_train, labels_test,\n",
    "                    cache_dir=cache_dir, cache_file=\"preprocessed_data.pkl\"):\n",
    "    \"\"\"Convert each review to words; read from cache if available.\"\"\"\n",
    "\n",
    "    # If cache_file is not None, try to read from it first\n",
    "    cache_data = None\n",
    "    if cache_file is not None:\n",
    "        try:\n",
    "            with open(os.path.join(cache_dir, cache_file), \"rb\") as f:\n",
    "                cache_data = pickle.load(f)\n",
    "            print(\"Read preprocessed data from cache file:\", cache_file)\n",
    "        except:\n",
    "            pass  # unable to read from cache, but that's okay\n",
    "    \n",
    "    # If cache is missing, then do the heavy lifting\n",
    "    if cache_data is None:\n",
    "        # Preprocess training and test data to obtain words for each review\n",
    "        #words_train = list(map(review_to_words, data_train))\n",
    "        #words_test = list(map(review_to_words, data_test))\n",
    "        words_train = [review_to_words(review) for review in data_train]\n",
    "        words_test = [review_to_words(review) for review in data_test]\n",
    "        \n",
    "        # Write to cache file for future runs\n",
    "        if cache_file is not None:\n",
    "            cache_data = dict(words_train=words_train, words_test=words_test,\n",
    "                              labels_train=labels_train, labels_test=labels_test)\n",
    "            with open(os.path.join(cache_dir, cache_file), \"wb\") as f:\n",
    "                pickle.dump(cache_data, f)\n",
    "            print(\"Wrote preprocessed data to cache file:\", cache_file)\n",
    "    else:\n",
    "        # Unpack data loaded from cache file\n",
    "        words_train, words_test, labels_train, labels_test = (cache_data['words_train'],\n",
    "                cache_data['words_test'], cache_data['labels_train'], cache_data['labels_test'])\n",
    "    \n",
    "    return words_train, words_test, labels_train, labels_test"
   ]
  },
  {
   "cell_type": "code",
   "execution_count": 10,
   "metadata": {},
   "outputs": [
    {
     "name": "stdout",
     "output_type": "stream",
     "text": [
      "Wrote preprocessed data to cache file: preprocessed_data.pkl\n"
     ]
    }
   ],
   "source": [
    "# Preprocess data\n",
    "train_X, test_X, train_y, test_y = preprocess_data(train_X, test_X, train_y, test_y)"
   ]
  },
  {
   "cell_type": "markdown",
   "metadata": {},
   "source": [
    "### Extract Bag-of-Words features\n",
    "\n",
    "For the model we will be implementing, rather than using the reviews directly, we are going to transform each review into a Bag-of-Words feature representation. Keep in mind that 'in the wild' we will only have access to the training set so our transformer can only use the training set to construct a representation."
   ]
  },
  {
   "cell_type": "code",
   "execution_count": 11,
   "metadata": {},
   "outputs": [
    {
     "name": "stderr",
     "output_type": "stream",
     "text": [
      "/home/ec2-user/anaconda3/envs/python3/lib/python3.6/site-packages/sklearn/externals/joblib/__init__.py:15: FutureWarning: sklearn.externals.joblib is deprecated in 0.21 and will be removed in 0.23. Please import this functionality directly from joblib, which can be installed with: pip install joblib. If this warning is raised when loading pickled models, you may need to re-serialize those models with scikit-learn 0.21+.\n",
      "  warnings.warn(msg, category=FutureWarning)\n"
     ]
    }
   ],
   "source": [
    "import numpy as np\n",
    "from sklearn.feature_extraction.text import CountVectorizer\n",
    "from sklearn.externals import joblib\n",
    "# joblib is an enhanced version of pickle that is more efficient for storing NumPy arrays\n",
    "\n",
    "def extract_BoW_features(words_train, words_test, vocabulary_size=5000,\n",
    "                         cache_dir=cache_dir, cache_file=\"bow_features.pkl\"):\n",
    "    \"\"\"Extract Bag-of-Words for a given set of documents, already preprocessed into words.\"\"\"\n",
    "    \n",
    "    # If cache_file is not None, try to read from it first\n",
    "    cache_data = None\n",
    "    if cache_file is not None:\n",
    "        try:\n",
    "            with open(os.path.join(cache_dir, cache_file), \"rb\") as f:\n",
    "                cache_data = joblib.load(f)\n",
    "            print(\"Read features from cache file:\", cache_file)\n",
    "        except:\n",
    "            pass  # unable to read from cache, but that's okay\n",
    "    \n",
    "    # If cache is missing, then do the heavy lifting\n",
    "    if cache_data is None:\n",
    "        # Fit a vectorizer to training documents and use it to transform them\n",
    "        # NOTE: Training documents have already been preprocessed and tokenized into words;\n",
    "        #       pass in dummy functions to skip those steps, e.g. preprocessor=lambda x: x\n",
    "        vectorizer = CountVectorizer(max_features=vocabulary_size)\n",
    "        features_train = vectorizer.fit_transform(words_train).toarray()\n",
    "\n",
    "        # Apply the same vectorizer to transform the test documents (ignore unknown words)\n",
    "        features_test = vectorizer.transform(words_test).toarray()\n",
    "        \n",
    "        # NOTE: Remember to convert the features using .toarray() for a compact representation\n",
    "        \n",
    "        # Write to cache file for future runs (store vocabulary as well)\n",
    "        if cache_file is not None:\n",
    "            vocabulary = vectorizer.vocabulary_\n",
    "            cache_data = dict(features_train=features_train, features_test=features_test,\n",
    "                             vocabulary=vocabulary)\n",
    "            with open(os.path.join(cache_dir, cache_file), \"wb\") as f:\n",
    "                joblib.dump(cache_data, f)\n",
    "            print(\"Wrote features to cache file:\", cache_file)\n",
    "    else:\n",
    "        # Unpack data loaded from cache file\n",
    "        features_train, features_test, vocabulary = (cache_data['features_train'],\n",
    "                cache_data['features_test'], cache_data['vocabulary'])\n",
    "    \n",
    "    # Return both the extracted features as well as the vocabulary\n",
    "    return features_train, features_test, vocabulary"
   ]
  },
  {
   "cell_type": "code",
   "execution_count": 12,
   "metadata": {},
   "outputs": [
    {
     "name": "stdout",
     "output_type": "stream",
     "text": [
      "Wrote features to cache file: bow_features.pkl\n"
     ]
    }
   ],
   "source": [
    "# Extract Bag of Words features for both training and test datasets\n",
    "train_X, test_X, vocabulary = extract_BoW_features(train_X, test_X)"
   ]
  },
  {
   "cell_type": "code",
   "execution_count": 13,
   "metadata": {},
   "outputs": [
    {
     "data": {
      "text/plain": [
       "5000"
      ]
     },
     "execution_count": 13,
     "metadata": {},
     "output_type": "execute_result"
    }
   ],
   "source": [
    "len(train_X[100])"
   ]
  },
  {
   "cell_type": "markdown",
   "metadata": {},
   "source": [
    "## Step 3: Upload data to S3\n",
    "\n",
    "Now that we have created the feature representation of our training (and testing) data, it is time to start setting up and using the XGBoost classifier provided by SageMaker.\n",
    "\n",
    "### Writing the datasets\n",
    "\n",
    "The XGBoost classifier that we will be using requires the dataset to be written to a file and stored using Amazon S3. To do this, we will start by splitting the training dataset into two parts, the data we will train the model with and a validation set. Then, we will write those datasets to a file locally and then upload the files to S3. In addition, we will write the test set to a file and upload that file to S3. This is so that we can use SageMakers Batch Transform functionality to test our model once we've fit it."
   ]
  },
  {
   "cell_type": "code",
   "execution_count": 14,
   "metadata": {},
   "outputs": [],
   "source": [
    "import pandas as pd\n",
    "\n",
    "# Earlier we shuffled the training dataset so to make things simple we can just assign\n",
    "# the first 10 000 reviews to the validation set and use the remaining reviews for training.\n",
    "val_X = pd.DataFrame(train_X[:10000])\n",
    "train_X = pd.DataFrame(train_X[10000:])\n",
    "\n",
    "val_y = pd.DataFrame(train_y[:10000])\n",
    "train_y = pd.DataFrame(train_y[10000:])"
   ]
  },
  {
   "cell_type": "markdown",
   "metadata": {},
   "source": [
    "The documentation for the XGBoost algorithm in SageMaker requires that the training and validation datasets should contain no headers or index and that the label should occur first for each sample.\n",
    "\n",
    "For more information about this and other algorithms, the SageMaker developer documentation can be found on __[Amazon's website.](https://docs.aws.amazon.com/sagemaker/latest/dg/)__"
   ]
  },
  {
   "cell_type": "code",
   "execution_count": 15,
   "metadata": {},
   "outputs": [],
   "source": [
    "# First we make sure that the local directory in which we'd like to store the training and validation csv files exists.\n",
    "data_dir = '../data/sentiment_web_app'\n",
    "if not os.path.exists(data_dir):\n",
    "    os.makedirs(data_dir)"
   ]
  },
  {
   "cell_type": "code",
   "execution_count": 16,
   "metadata": {},
   "outputs": [],
   "source": [
    "pd.DataFrame(test_X).to_csv(os.path.join(data_dir, 'test.csv'), header=False, index=False)\n",
    "\n",
    "pd.concat([val_y, val_X], axis=1).to_csv(os.path.join(data_dir, 'validation.csv'), header=False, index=False)\n",
    "pd.concat([train_y, train_X], axis=1).to_csv(os.path.join(data_dir, 'train.csv'), header=False, index=False)"
   ]
  },
  {
   "cell_type": "code",
   "execution_count": 17,
   "metadata": {},
   "outputs": [],
   "source": [
    "# To save a bit of memory we can set text_X, train_X, val_X, train_y and val_y to None.\n",
    "\n",
    "test_X = train_X = val_X = train_y = val_y = None"
   ]
  },
  {
   "cell_type": "markdown",
   "metadata": {},
   "source": [
    "### Uploading Training / Validation files to S3\n",
    "\n",
    "Amazon's S3 service allows us to store files that can be accessed by both the built-in training models such as the XGBoost model we will be using as well as custom models such as the one we will see a little later.\n",
    "\n",
    "For this and most other tasks we will be doing using SageMaker, there are two methods we could use. The first is to use the low level functionality of SageMaker which requires knowing each of the objects involved in the SageMaker environment. The second is to use the high level functionality in which certain choices have been made on the user's behalf. The low level approach benefits from allowing the user a great deal of flexibility while the high level approach makes development much quicker. For our purposes we will opt to use the high level approach although using the low-level approach is certainly an option.\n",
    "\n",
    "Recall the method `upload_data()` which is a member of the object representing our current SageMaker session. What this method does is upload the data to the default bucket (which is created if it does not exist) into the path described by the key_prefix variable. To see this for yourself, once you have uploaded the data files, go to the S3 console and look to see where the files have been uploaded.\n",
    "\n",
    "For additional resources, see the __[SageMaker API documentation](http://sagemaker.readthedocs.io/en/latest/)__ and in addition the __[SageMaker Developer Guide.](https://docs.aws.amazon.com/sagemaker/latest/dg/)__"
   ]
  },
  {
   "cell_type": "code",
   "execution_count": 18,
   "metadata": {},
   "outputs": [],
   "source": [
    "import sagemaker\n",
    "\n",
    "session = sagemaker.Session() # Store the current SageMaker session\n",
    "\n",
    "# S3 prefix (which folder will we use)\n",
    "prefix = 'sentiment-web-app'\n",
    "\n",
    "test_location = session.upload_data(os.path.join(data_dir, 'test.csv'), key_prefix=prefix)\n",
    "val_location = session.upload_data(os.path.join(data_dir, 'validation.csv'), key_prefix=prefix)\n",
    "train_location = session.upload_data(os.path.join(data_dir, 'train.csv'), key_prefix=prefix)"
   ]
  },
  {
   "cell_type": "markdown",
   "metadata": {},
   "source": [
    "## Step 4: Creating the XGBoost model\n",
    "\n",
    "Now that the data has been uploaded it is time to create the XGBoost model. To begin with, we need to do some setup. At this point it is worth discussing what a model is in SageMaker. It is easiest to think of a model of comprising three different objects in the SageMaker ecosystem, which interact with one another.\n",
    "\n",
    "- Model Artifacts\n",
    "- Training Code (Container)\n",
    "- Inference Code (Container)\n",
    "\n",
    "The Model Artifacts are what you might think of as the actual model itself. For example, if you were building a neural network, the model artifacts would be the weights of the various layers. In our case, for an XGBoost model, the artifacts are the actual trees that are created during training.\n",
    "\n",
    "The other two objects, the training code and the inference code are then used to manipulate the training artifacts. More precisely, the training code uses the training data that is provided and creates the model artifacts, while the inference code uses the model artifacts to make predictions on new data.\n",
    "\n",
    "The way that SageMaker runs the training and inference code is by making use of Docker containers. For now, think of a container as being a way of packaging code up so that dependencies aren't an issue."
   ]
  },
  {
   "cell_type": "code",
   "execution_count": 19,
   "metadata": {},
   "outputs": [],
   "source": [
    "from sagemaker import get_execution_role\n",
    "\n",
    "# Our current execution role is required when creating the model as the training\n",
    "# and inference code will need to access the model artifacts.\n",
    "role = get_execution_role()"
   ]
  },
  {
   "cell_type": "code",
   "execution_count": 20,
   "metadata": {},
   "outputs": [
    {
     "name": "stderr",
     "output_type": "stream",
     "text": [
      "'get_image_uri' method will be deprecated in favor of 'ImageURIProvider' class in SageMaker Python SDK v2.\n",
      "WARNING:root:There is a more up to date SageMaker XGBoost image. To use the newer image, please set 'repo_version'='1.0-1'. For example:\n",
      "\tget_image_uri(region, 'xgboost', '1.0-1').\n"
     ]
    }
   ],
   "source": [
    "# We need to retrieve the location of the container which is provided by Amazon for using XGBoost.\n",
    "# As a matter of convenience, the training and inference code both use the same container.\n",
    "from sagemaker.amazon.amazon_estimator import get_image_uri\n",
    "\n",
    "container = get_image_uri(session.boto_region_name, 'xgboost')"
   ]
  },
  {
   "cell_type": "code",
   "execution_count": 21,
   "metadata": {},
   "outputs": [
    {
     "name": "stderr",
     "output_type": "stream",
     "text": [
      "WARNING:root:Parameter image_name will be renamed to image_uri in SageMaker Python SDK v2.\n"
     ]
    }
   ],
   "source": [
    "# First we create a SageMaker estimator object for our model.\n",
    "xgb = sagemaker.estimator.Estimator(container, # The location of the container we wish to use\n",
    "                                    role,                                    # What is our current IAM Role\n",
    "                                    train_instance_count=1,                  # How many compute instances\n",
    "                                    train_instance_type='ml.m4.xlarge',      # What kind of compute instances\n",
    "                                    output_path='s3://{}/{}/output'.format(session.default_bucket(), prefix),\n",
    "                                    sagemaker_session=session)\n",
    "\n",
    "# And then set the algorithm specific parameters.\n",
    "xgb.set_hyperparameters(max_depth=5,\n",
    "                        eta=0.2,\n",
    "                        gamma=4,\n",
    "                        min_child_weight=6,\n",
    "                        subsample=0.8,\n",
    "                        silent=0,\n",
    "                        objective='binary:logistic',\n",
    "                        early_stopping_rounds=10,\n",
    "                        num_round=500)"
   ]
  },
  {
   "cell_type": "markdown",
   "metadata": {},
   "source": [
    "### Fit the XGBoost model\n",
    "\n",
    "Now that our model has been set up we simply need to attach the training and validation datasets and then ask SageMaker to set up the computation."
   ]
  },
  {
   "cell_type": "code",
   "execution_count": 22,
   "metadata": {},
   "outputs": [
    {
     "name": "stderr",
     "output_type": "stream",
     "text": [
      "WARNING:sagemaker:'s3_input' class will be renamed to 'TrainingInput' in SageMaker Python SDK v2.\n",
      "WARNING:sagemaker:'s3_input' class will be renamed to 'TrainingInput' in SageMaker Python SDK v2.\n"
     ]
    }
   ],
   "source": [
    "s3_input_train = sagemaker.s3_input(s3_data=train_location, content_type='csv')\n",
    "s3_input_validation = sagemaker.s3_input(s3_data=val_location, content_type='csv')"
   ]
  },
  {
   "cell_type": "code",
   "execution_count": 23,
   "metadata": {},
   "outputs": [
    {
     "name": "stdout",
     "output_type": "stream",
     "text": [
      "2020-06-29 18:22:14 Starting - Starting the training job...\n",
      "2020-06-29 18:22:16 Starting - Launching requested ML instances......\n",
      "2020-06-29 18:23:21 Starting - Preparing the instances for training...\n",
      "2020-06-29 18:24:11 Downloading - Downloading input data...\n",
      "2020-06-29 18:24:27 Training - Downloading the training image.\u001b[34mArguments: train\u001b[0m\n",
      "\u001b[34m[2020-06-29:18:24:48:INFO] Running standalone xgboost training.\u001b[0m\n",
      "\u001b[34m[2020-06-29:18:24:48:INFO] File size need to be processed in the node: 238.5mb. Available memory size in the node: 8482.08mb\u001b[0m\n",
      "\u001b[34m[2020-06-29:18:24:48:INFO] Determined delimiter of CSV input is ','\u001b[0m\n",
      "\u001b[34m[18:24:48] S3DistributionType set as FullyReplicated\u001b[0m\n",
      "\u001b[34m[18:24:49] 15000x5000 matrix with 75000000 entries loaded from /opt/ml/input/data/train?format=csv&label_column=0&delimiter=,\u001b[0m\n",
      "\u001b[34m[2020-06-29:18:24:49:INFO] Determined delimiter of CSV input is ','\u001b[0m\n",
      "\u001b[34m[18:24:49] S3DistributionType set as FullyReplicated\u001b[0m\n",
      "\u001b[34m[18:24:50] 10000x5000 matrix with 50000000 entries loaded from /opt/ml/input/data/validation?format=csv&label_column=0&delimiter=,\u001b[0m\n",
      "\u001b[34m[18:24:54] src/tree/updater_prune.cc:74: tree pruning end, 1 roots, 46 extra nodes, 6 pruned nodes, max_depth=5\u001b[0m\n",
      "\u001b[34m[0]#011train-error:0.308667#011validation-error:0.3026\u001b[0m\n",
      "\u001b[34mMultiple eval metrics have been passed: 'validation-error' will be used for early stopping.\n",
      "\u001b[0m\n",
      "\u001b[34mWill train until validation-error hasn't improved in 10 rounds.\u001b[0m\n",
      "\u001b[34m[18:24:55] src/tree/updater_prune.cc:74: tree pruning end, 1 roots, 48 extra nodes, 6 pruned nodes, max_depth=5\u001b[0m\n",
      "\u001b[34m[1]#011train-error:0.294933#011validation-error:0.2893\u001b[0m\n",
      "\u001b[34m[18:24:57] src/tree/updater_prune.cc:74: tree pruning end, 1 roots, 34 extra nodes, 6 pruned nodes, max_depth=5\u001b[0m\n",
      "\u001b[34m[2]#011train-error:0.292933#011validation-error:0.2889\u001b[0m\n",
      "\u001b[34m[18:24:58] src/tree/updater_prune.cc:74: tree pruning end, 1 roots, 32 extra nodes, 8 pruned nodes, max_depth=5\u001b[0m\n",
      "\u001b[34m[3]#011train-error:0.288333#011validation-error:0.2812\u001b[0m\n",
      "\u001b[34m[18:25:00] src/tree/updater_prune.cc:74: tree pruning end, 1 roots, 28 extra nodes, 4 pruned nodes, max_depth=5\u001b[0m\n",
      "\u001b[34m[4]#011train-error:0.272333#011validation-error:0.2718\u001b[0m\n",
      "\u001b[34m[18:25:01] src/tree/updater_prune.cc:74: tree pruning end, 1 roots, 34 extra nodes, 4 pruned nodes, max_depth=5\u001b[0m\n",
      "\u001b[34m[5]#011train-error:0.261667#011validation-error:0.2648\u001b[0m\n",
      "\u001b[34m[18:25:02] src/tree/updater_prune.cc:74: tree pruning end, 1 roots, 34 extra nodes, 2 pruned nodes, max_depth=5\u001b[0m\n",
      "\u001b[34m[6]#011train-error:0.254933#011validation-error:0.2568\u001b[0m\n",
      "\n",
      "2020-06-29 18:24:47 Training - Training image download completed. Training in progress.\u001b[34m[18:25:04] src/tree/updater_prune.cc:74: tree pruning end, 1 roots, 32 extra nodes, 2 pruned nodes, max_depth=5\u001b[0m\n",
      "\u001b[34m[7]#011train-error:0.245267#011validation-error:0.2467\u001b[0m\n",
      "\u001b[34m[18:25:05] src/tree/updater_prune.cc:74: tree pruning end, 1 roots, 26 extra nodes, 6 pruned nodes, max_depth=5\u001b[0m\n",
      "\u001b[34m[8]#011train-error:0.236867#011validation-error:0.2385\u001b[0m\n",
      "\u001b[34m[18:25:06] src/tree/updater_prune.cc:74: tree pruning end, 1 roots, 42 extra nodes, 0 pruned nodes, max_depth=5\u001b[0m\n",
      "\u001b[34m[9]#011train-error:0.230333#011validation-error:0.2361\u001b[0m\n",
      "\u001b[34m[18:25:07] src/tree/updater_prune.cc:74: tree pruning end, 1 roots, 34 extra nodes, 4 pruned nodes, max_depth=5\u001b[0m\n",
      "\u001b[34m[10]#011train-error:0.2248#011validation-error:0.2295\u001b[0m\n",
      "\u001b[34m[18:25:09] src/tree/updater_prune.cc:74: tree pruning end, 1 roots, 34 extra nodes, 6 pruned nodes, max_depth=5\u001b[0m\n",
      "\u001b[34m[11]#011train-error:0.218667#011validation-error:0.2262\u001b[0m\n",
      "\u001b[34m[18:25:10] src/tree/updater_prune.cc:74: tree pruning end, 1 roots, 38 extra nodes, 6 pruned nodes, max_depth=5\u001b[0m\n",
      "\u001b[34m[12]#011train-error:0.213467#011validation-error:0.2229\u001b[0m\n",
      "\u001b[34m[18:25:11] src/tree/updater_prune.cc:74: tree pruning end, 1 roots, 18 extra nodes, 8 pruned nodes, max_depth=5\u001b[0m\n",
      "\u001b[34m[13]#011train-error:0.209533#011validation-error:0.2174\u001b[0m\n",
      "\u001b[34m[18:25:13] src/tree/updater_prune.cc:74: tree pruning end, 1 roots, 42 extra nodes, 6 pruned nodes, max_depth=5\u001b[0m\n",
      "\u001b[34m[14]#011train-error:0.2044#011validation-error:0.2154\u001b[0m\n",
      "\u001b[34m[18:25:14] src/tree/updater_prune.cc:74: tree pruning end, 1 roots, 32 extra nodes, 8 pruned nodes, max_depth=5\u001b[0m\n",
      "\u001b[34m[15]#011train-error:0.202867#011validation-error:0.2131\u001b[0m\n",
      "\u001b[34m[18:25:15] src/tree/updater_prune.cc:74: tree pruning end, 1 roots, 36 extra nodes, 6 pruned nodes, max_depth=5\u001b[0m\n",
      "\u001b[34m[16]#011train-error:0.199067#011validation-error:0.2095\u001b[0m\n",
      "\u001b[34m[18:25:16] src/tree/updater_prune.cc:74: tree pruning end, 1 roots, 40 extra nodes, 4 pruned nodes, max_depth=5\u001b[0m\n",
      "\u001b[34m[17]#011train-error:0.195533#011validation-error:0.2081\u001b[0m\n",
      "\u001b[34m[18:25:18] src/tree/updater_prune.cc:74: tree pruning end, 1 roots, 26 extra nodes, 8 pruned nodes, max_depth=5\u001b[0m\n",
      "\u001b[34m[18]#011train-error:0.1914#011validation-error:0.2035\u001b[0m\n",
      "\u001b[34m[18:25:19] src/tree/updater_prune.cc:74: tree pruning end, 1 roots, 28 extra nodes, 4 pruned nodes, max_depth=5\u001b[0m\n",
      "\u001b[34m[19]#011train-error:0.1902#011validation-error:0.2035\u001b[0m\n",
      "\u001b[34m[18:25:20] src/tree/updater_prune.cc:74: tree pruning end, 1 roots, 30 extra nodes, 4 pruned nodes, max_depth=5\u001b[0m\n",
      "\u001b[34m[20]#011train-error:0.185667#011validation-error:0.1991\u001b[0m\n",
      "\u001b[34m[18:25:21] src/tree/updater_prune.cc:74: tree pruning end, 1 roots, 28 extra nodes, 6 pruned nodes, max_depth=5\u001b[0m\n",
      "\u001b[34m[21]#011train-error:0.1832#011validation-error:0.1975\u001b[0m\n",
      "\u001b[34m[18:25:23] src/tree/updater_prune.cc:74: tree pruning end, 1 roots, 32 extra nodes, 6 pruned nodes, max_depth=5\u001b[0m\n",
      "\u001b[34m[22]#011train-error:0.179533#011validation-error:0.1954\u001b[0m\n",
      "\u001b[34m[18:25:24] src/tree/updater_prune.cc:74: tree pruning end, 1 roots, 28 extra nodes, 4 pruned nodes, max_depth=5\u001b[0m\n",
      "\u001b[34m[23]#011train-error:0.177333#011validation-error:0.1936\u001b[0m\n",
      "\u001b[34m[18:25:25] src/tree/updater_prune.cc:74: tree pruning end, 1 roots, 44 extra nodes, 4 pruned nodes, max_depth=5\u001b[0m\n",
      "\u001b[34m[24]#011train-error:0.1746#011validation-error:0.1919\u001b[0m\n",
      "\u001b[34m[18:25:27] src/tree/updater_prune.cc:74: tree pruning end, 1 roots, 26 extra nodes, 10 pruned nodes, max_depth=5\u001b[0m\n",
      "\u001b[34m[25]#011train-error:0.172133#011validation-error:0.1892\u001b[0m\n",
      "\u001b[34m[18:25:28] src/tree/updater_prune.cc:74: tree pruning end, 1 roots, 18 extra nodes, 16 pruned nodes, max_depth=5\u001b[0m\n",
      "\u001b[34m[26]#011train-error:0.170333#011validation-error:0.188\u001b[0m\n",
      "\u001b[34m[18:25:29] src/tree/updater_prune.cc:74: tree pruning end, 1 roots, 26 extra nodes, 4 pruned nodes, max_depth=5\u001b[0m\n",
      "\u001b[34m[27]#011train-error:0.168067#011validation-error:0.1872\u001b[0m\n",
      "\u001b[34m[18:25:30] src/tree/updater_prune.cc:74: tree pruning end, 1 roots, 28 extra nodes, 8 pruned nodes, max_depth=5\u001b[0m\n",
      "\u001b[34m[28]#011train-error:0.167733#011validation-error:0.1871\u001b[0m\n",
      "\u001b[34m[18:25:32] src/tree/updater_prune.cc:74: tree pruning end, 1 roots, 38 extra nodes, 6 pruned nodes, max_depth=5\u001b[0m\n",
      "\u001b[34m[29]#011train-error:0.165867#011validation-error:0.1852\u001b[0m\n",
      "\u001b[34m[18:25:33] src/tree/updater_prune.cc:74: tree pruning end, 1 roots, 30 extra nodes, 6 pruned nodes, max_depth=5\u001b[0m\n",
      "\u001b[34m[30]#011train-error:0.163867#011validation-error:0.1868\u001b[0m\n",
      "\u001b[34m[18:25:34] src/tree/updater_prune.cc:74: tree pruning end, 1 roots, 20 extra nodes, 8 pruned nodes, max_depth=5\u001b[0m\n",
      "\u001b[34m[31]#011train-error:0.162267#011validation-error:0.1859\u001b[0m\n",
      "\u001b[34m[18:25:36] src/tree/updater_prune.cc:74: tree pruning end, 1 roots, 26 extra nodes, 10 pruned nodes, max_depth=5\u001b[0m\n",
      "\u001b[34m[32]#011train-error:0.1608#011validation-error:0.1858\u001b[0m\n",
      "\u001b[34m[18:25:37] src/tree/updater_prune.cc:74: tree pruning end, 1 roots, 26 extra nodes, 8 pruned nodes, max_depth=5\u001b[0m\n",
      "\u001b[34m[33]#011train-error:0.1606#011validation-error:0.1823\u001b[0m\n",
      "\u001b[34m[18:25:38] src/tree/updater_prune.cc:74: tree pruning end, 1 roots, 22 extra nodes, 8 pruned nodes, max_depth=5\u001b[0m\n",
      "\u001b[34m[34]#011train-error:0.158667#011validation-error:0.1806\u001b[0m\n",
      "\u001b[34m[18:25:39] src/tree/updater_prune.cc:74: tree pruning end, 1 roots, 28 extra nodes, 14 pruned nodes, max_depth=5\u001b[0m\n",
      "\u001b[34m[35]#011train-error:0.1594#011validation-error:0.182\u001b[0m\n",
      "\u001b[34m[18:25:41] src/tree/updater_prune.cc:74: tree pruning end, 1 roots, 28 extra nodes, 4 pruned nodes, max_depth=5\u001b[0m\n",
      "\u001b[34m[36]#011train-error:0.157467#011validation-error:0.1805\u001b[0m\n",
      "\u001b[34m[18:25:42] src/tree/updater_prune.cc:74: tree pruning end, 1 roots, 28 extra nodes, 6 pruned nodes, max_depth=5\u001b[0m\n",
      "\u001b[34m[37]#011train-error:0.1564#011validation-error:0.181\u001b[0m\n",
      "\u001b[34m[18:25:43] src/tree/updater_prune.cc:74: tree pruning end, 1 roots, 28 extra nodes, 6 pruned nodes, max_depth=5\u001b[0m\n",
      "\u001b[34m[38]#011train-error:0.1546#011validation-error:0.1786\u001b[0m\n",
      "\u001b[34m[18:25:44] src/tree/updater_prune.cc:74: tree pruning end, 1 roots, 24 extra nodes, 4 pruned nodes, max_depth=5\u001b[0m\n",
      "\u001b[34m[39]#011train-error:0.152933#011validation-error:0.1796\u001b[0m\n",
      "\u001b[34m[18:25:46] src/tree/updater_prune.cc:74: tree pruning end, 1 roots, 34 extra nodes, 12 pruned nodes, max_depth=5\u001b[0m\n",
      "\u001b[34m[40]#011train-error:0.152133#011validation-error:0.1777\u001b[0m\n",
      "\u001b[34m[18:25:47] src/tree/updater_prune.cc:74: tree pruning end, 1 roots, 40 extra nodes, 10 pruned nodes, max_depth=5\u001b[0m\n",
      "\u001b[34m[41]#011train-error:0.1502#011validation-error:0.1778\u001b[0m\n",
      "\u001b[34m[18:25:48] src/tree/updater_prune.cc:74: tree pruning end, 1 roots, 20 extra nodes, 14 pruned nodes, max_depth=5\u001b[0m\n",
      "\u001b[34m[42]#011train-error:0.149867#011validation-error:0.1778\u001b[0m\n",
      "\u001b[34m[18:25:50] src/tree/updater_prune.cc:74: tree pruning end, 1 roots, 26 extra nodes, 0 pruned nodes, max_depth=5\u001b[0m\n",
      "\u001b[34m[43]#011train-error:0.1478#011validation-error:0.1753\u001b[0m\n",
      "\u001b[34m[18:25:51] src/tree/updater_prune.cc:74: tree pruning end, 1 roots, 26 extra nodes, 4 pruned nodes, max_depth=5\u001b[0m\n",
      "\u001b[34m[44]#011train-error:0.146333#011validation-error:0.1751\u001b[0m\n",
      "\u001b[34m[18:25:52] src/tree/updater_prune.cc:74: tree pruning end, 1 roots, 12 extra nodes, 12 pruned nodes, max_depth=5\u001b[0m\n",
      "\u001b[34m[45]#011train-error:0.145667#011validation-error:0.1748\u001b[0m\n",
      "\u001b[34m[18:25:53] src/tree/updater_prune.cc:74: tree pruning end, 1 roots, 22 extra nodes, 6 pruned nodes, max_depth=5\u001b[0m\n",
      "\u001b[34m[46]#011train-error:0.143733#011validation-error:0.1741\u001b[0m\n"
     ]
    },
    {
     "name": "stdout",
     "output_type": "stream",
     "text": [
      "\u001b[34m[18:25:55] src/tree/updater_prune.cc:74: tree pruning end, 1 roots, 16 extra nodes, 12 pruned nodes, max_depth=5\u001b[0m\n",
      "\u001b[34m[47]#011train-error:0.142333#011validation-error:0.1734\u001b[0m\n",
      "\u001b[34m[18:25:56] src/tree/updater_prune.cc:74: tree pruning end, 1 roots, 28 extra nodes, 8 pruned nodes, max_depth=5\u001b[0m\n",
      "\u001b[34m[48]#011train-error:0.141267#011validation-error:0.1731\u001b[0m\n",
      "\u001b[34m[18:25:57] src/tree/updater_prune.cc:74: tree pruning end, 1 roots, 18 extra nodes, 6 pruned nodes, max_depth=5\u001b[0m\n",
      "\u001b[34m[49]#011train-error:0.140333#011validation-error:0.1705\u001b[0m\n",
      "\u001b[34m[18:25:58] src/tree/updater_prune.cc:74: tree pruning end, 1 roots, 18 extra nodes, 12 pruned nodes, max_depth=5\u001b[0m\n",
      "\u001b[34m[50]#011train-error:0.139867#011validation-error:0.1696\u001b[0m\n",
      "\u001b[34m[18:26:00] src/tree/updater_prune.cc:74: tree pruning end, 1 roots, 18 extra nodes, 12 pruned nodes, max_depth=5\u001b[0m\n",
      "\u001b[34m[51]#011train-error:0.139133#011validation-error:0.1697\u001b[0m\n",
      "\u001b[34m[18:26:01] src/tree/updater_prune.cc:74: tree pruning end, 1 roots, 24 extra nodes, 10 pruned nodes, max_depth=5\u001b[0m\n",
      "\u001b[34m[52]#011train-error:0.138#011validation-error:0.1681\u001b[0m\n",
      "\u001b[34m[18:26:02] src/tree/updater_prune.cc:74: tree pruning end, 1 roots, 16 extra nodes, 4 pruned nodes, max_depth=5\u001b[0m\n",
      "\u001b[34m[53]#011train-error:0.1366#011validation-error:0.1676\u001b[0m\n",
      "\u001b[34m[18:26:04] src/tree/updater_prune.cc:74: tree pruning end, 1 roots, 28 extra nodes, 8 pruned nodes, max_depth=5\u001b[0m\n",
      "\u001b[34m[54]#011train-error:0.135133#011validation-error:0.1682\u001b[0m\n",
      "\u001b[34m[18:26:05] src/tree/updater_prune.cc:74: tree pruning end, 1 roots, 14 extra nodes, 10 pruned nodes, max_depth=5\u001b[0m\n",
      "\u001b[34m[55]#011train-error:0.134867#011validation-error:0.1678\u001b[0m\n",
      "\u001b[34m[18:26:06] src/tree/updater_prune.cc:74: tree pruning end, 1 roots, 20 extra nodes, 12 pruned nodes, max_depth=5\u001b[0m\n",
      "\u001b[34m[56]#011train-error:0.134#011validation-error:0.1678\u001b[0m\n",
      "\u001b[34m[18:26:07] src/tree/updater_prune.cc:74: tree pruning end, 1 roots, 24 extra nodes, 6 pruned nodes, max_depth=5\u001b[0m\n",
      "\u001b[34m[57]#011train-error:0.133667#011validation-error:0.1669\u001b[0m\n",
      "\u001b[34m[18:26:09] src/tree/updater_prune.cc:74: tree pruning end, 1 roots, 20 extra nodes, 12 pruned nodes, max_depth=5\u001b[0m\n",
      "\u001b[34m[58]#011train-error:0.132933#011validation-error:0.1656\u001b[0m\n",
      "\u001b[34m[18:26:10] src/tree/updater_prune.cc:74: tree pruning end, 1 roots, 14 extra nodes, 12 pruned nodes, max_depth=5\u001b[0m\n",
      "\u001b[34m[59]#011train-error:0.1326#011validation-error:0.1647\u001b[0m\n",
      "\u001b[34m[18:26:11] src/tree/updater_prune.cc:74: tree pruning end, 1 roots, 10 extra nodes, 12 pruned nodes, max_depth=5\u001b[0m\n",
      "\u001b[34m[60]#011train-error:0.1326#011validation-error:0.1638\u001b[0m\n",
      "\u001b[34m[18:26:12] src/tree/updater_prune.cc:74: tree pruning end, 1 roots, 22 extra nodes, 8 pruned nodes, max_depth=5\u001b[0m\n",
      "\u001b[34m[61]#011train-error:0.130533#011validation-error:0.1629\u001b[0m\n",
      "\u001b[34m[18:26:14] src/tree/updater_prune.cc:74: tree pruning end, 1 roots, 10 extra nodes, 6 pruned nodes, max_depth=5\u001b[0m\n",
      "\u001b[34m[62]#011train-error:0.130267#011validation-error:0.1622\u001b[0m\n",
      "\u001b[34m[18:26:15] src/tree/updater_prune.cc:74: tree pruning end, 1 roots, 22 extra nodes, 8 pruned nodes, max_depth=5\u001b[0m\n",
      "\u001b[34m[63]#011train-error:0.1298#011validation-error:0.1618\u001b[0m\n",
      "\u001b[34m[18:26:16] src/tree/updater_prune.cc:74: tree pruning end, 1 roots, 24 extra nodes, 8 pruned nodes, max_depth=5\u001b[0m\n",
      "\u001b[34m[64]#011train-error:0.129267#011validation-error:0.1613\u001b[0m\n",
      "\u001b[34m[18:26:18] src/tree/updater_prune.cc:74: tree pruning end, 1 roots, 28 extra nodes, 4 pruned nodes, max_depth=5\u001b[0m\n",
      "\u001b[34m[65]#011train-error:0.126867#011validation-error:0.1617\u001b[0m\n",
      "\u001b[34m[18:26:19] src/tree/updater_prune.cc:74: tree pruning end, 1 roots, 20 extra nodes, 12 pruned nodes, max_depth=5\u001b[0m\n",
      "\u001b[34m[66]#011train-error:0.127#011validation-error:0.1608\u001b[0m\n",
      "\u001b[34m[18:26:20] src/tree/updater_prune.cc:74: tree pruning end, 1 roots, 12 extra nodes, 16 pruned nodes, max_depth=5\u001b[0m\n",
      "\u001b[34m[67]#011train-error:0.1258#011validation-error:0.1592\u001b[0m\n",
      "\u001b[34m[18:26:21] src/tree/updater_prune.cc:74: tree pruning end, 1 roots, 30 extra nodes, 10 pruned nodes, max_depth=5\u001b[0m\n",
      "\u001b[34m[68]#011train-error:0.125133#011validation-error:0.1604\u001b[0m\n",
      "\u001b[34m[18:26:23] src/tree/updater_prune.cc:74: tree pruning end, 1 roots, 20 extra nodes, 10 pruned nodes, max_depth=5\u001b[0m\n",
      "\u001b[34m[69]#011train-error:0.124667#011validation-error:0.1598\u001b[0m\n",
      "\u001b[34m[18:26:24] src/tree/updater_prune.cc:74: tree pruning end, 1 roots, 24 extra nodes, 10 pruned nodes, max_depth=5\u001b[0m\n",
      "\u001b[34m[70]#011train-error:0.122333#011validation-error:0.1595\u001b[0m\n",
      "\u001b[34m[18:26:25] src/tree/updater_prune.cc:74: tree pruning end, 1 roots, 22 extra nodes, 14 pruned nodes, max_depth=5\u001b[0m\n",
      "\u001b[34m[71]#011train-error:0.122267#011validation-error:0.1593\u001b[0m\n",
      "\u001b[34m[18:26:26] src/tree/updater_prune.cc:74: tree pruning end, 1 roots, 24 extra nodes, 10 pruned nodes, max_depth=5\u001b[0m\n",
      "\u001b[34m[72]#011train-error:0.1218#011validation-error:0.1588\u001b[0m\n",
      "\u001b[34m[18:26:28] src/tree/updater_prune.cc:74: tree pruning end, 1 roots, 20 extra nodes, 4 pruned nodes, max_depth=5\u001b[0m\n",
      "\u001b[34m[73]#011train-error:0.1198#011validation-error:0.1572\u001b[0m\n",
      "\u001b[34m[18:26:29] src/tree/updater_prune.cc:74: tree pruning end, 1 roots, 20 extra nodes, 4 pruned nodes, max_depth=5\u001b[0m\n",
      "\u001b[34m[74]#011train-error:0.119133#011validation-error:0.1564\u001b[0m\n",
      "\u001b[34m[18:26:30] src/tree/updater_prune.cc:74: tree pruning end, 1 roots, 14 extra nodes, 12 pruned nodes, max_depth=5\u001b[0m\n",
      "\u001b[34m[75]#011train-error:0.118533#011validation-error:0.1565\u001b[0m\n",
      "\u001b[34m[18:26:32] src/tree/updater_prune.cc:74: tree pruning end, 1 roots, 32 extra nodes, 4 pruned nodes, max_depth=5\u001b[0m\n",
      "\u001b[34m[76]#011train-error:0.1176#011validation-error:0.1548\u001b[0m\n",
      "\u001b[34m[18:26:33] src/tree/updater_prune.cc:74: tree pruning end, 1 roots, 36 extra nodes, 8 pruned nodes, max_depth=5\u001b[0m\n",
      "\u001b[34m[77]#011train-error:0.117067#011validation-error:0.1547\u001b[0m\n",
      "\u001b[34m[18:26:34] src/tree/updater_prune.cc:74: tree pruning end, 1 roots, 18 extra nodes, 12 pruned nodes, max_depth=5\u001b[0m\n",
      "\u001b[34m[78]#011train-error:0.115533#011validation-error:0.1534\u001b[0m\n",
      "\u001b[34m[18:26:35] src/tree/updater_prune.cc:74: tree pruning end, 1 roots, 18 extra nodes, 6 pruned nodes, max_depth=5\u001b[0m\n",
      "\u001b[34m[79]#011train-error:0.115267#011validation-error:0.154\u001b[0m\n",
      "\u001b[34m[18:26:37] src/tree/updater_prune.cc:74: tree pruning end, 1 roots, 20 extra nodes, 4 pruned nodes, max_depth=5\u001b[0m\n",
      "\u001b[34m[80]#011train-error:0.115067#011validation-error:0.1543\u001b[0m\n",
      "\u001b[34m[18:26:38] src/tree/updater_prune.cc:74: tree pruning end, 1 roots, 12 extra nodes, 0 pruned nodes, max_depth=5\u001b[0m\n",
      "\u001b[34m[81]#011train-error:0.113533#011validation-error:0.1528\u001b[0m\n",
      "\u001b[34m[18:26:39] src/tree/updater_prune.cc:74: tree pruning end, 1 roots, 24 extra nodes, 8 pruned nodes, max_depth=5\u001b[0m\n",
      "\u001b[34m[82]#011train-error:0.1128#011validation-error:0.1525\u001b[0m\n",
      "\u001b[34m[18:26:40] src/tree/updater_prune.cc:74: tree pruning end, 1 roots, 18 extra nodes, 10 pruned nodes, max_depth=5\u001b[0m\n",
      "\u001b[34m[83]#011train-error:0.113067#011validation-error:0.1517\u001b[0m\n",
      "\u001b[34m[18:26:42] src/tree/updater_prune.cc:74: tree pruning end, 1 roots, 26 extra nodes, 18 pruned nodes, max_depth=5\u001b[0m\n",
      "\u001b[34m[84]#011train-error:0.1116#011validation-error:0.1519\u001b[0m\n",
      "\u001b[34m[18:26:43] src/tree/updater_prune.cc:74: tree pruning end, 1 roots, 18 extra nodes, 12 pruned nodes, max_depth=5\u001b[0m\n",
      "\u001b[34m[85]#011train-error:0.110667#011validation-error:0.152\u001b[0m\n",
      "\u001b[34m[18:26:44] src/tree/updater_prune.cc:74: tree pruning end, 1 roots, 12 extra nodes, 12 pruned nodes, max_depth=5\u001b[0m\n",
      "\u001b[34m[86]#011train-error:0.110067#011validation-error:0.1515\u001b[0m\n",
      "\u001b[34m[18:26:46] src/tree/updater_prune.cc:74: tree pruning end, 1 roots, 12 extra nodes, 6 pruned nodes, max_depth=5\u001b[0m\n",
      "\u001b[34m[87]#011train-error:0.109267#011validation-error:0.1514\u001b[0m\n",
      "\u001b[34m[18:26:47] src/tree/updater_prune.cc:74: tree pruning end, 1 roots, 22 extra nodes, 4 pruned nodes, max_depth=5\u001b[0m\n",
      "\u001b[34m[88]#011train-error:0.1088#011validation-error:0.1503\u001b[0m\n",
      "\u001b[34m[18:26:48] src/tree/updater_prune.cc:74: tree pruning end, 1 roots, 26 extra nodes, 6 pruned nodes, max_depth=5\u001b[0m\n",
      "\u001b[34m[89]#011train-error:0.1082#011validation-error:0.1503\u001b[0m\n",
      "\u001b[34m[18:26:49] src/tree/updater_prune.cc:74: tree pruning end, 1 roots, 22 extra nodes, 8 pruned nodes, max_depth=5\u001b[0m\n",
      "\u001b[34m[90]#011train-error:0.107733#011validation-error:0.1493\u001b[0m\n",
      "\u001b[34m[18:26:51] src/tree/updater_prune.cc:74: tree pruning end, 1 roots, 18 extra nodes, 4 pruned nodes, max_depth=5\u001b[0m\n",
      "\u001b[34m[91]#011train-error:0.107333#011validation-error:0.1501\u001b[0m\n",
      "\u001b[34m[18:26:52] src/tree/updater_prune.cc:74: tree pruning end, 1 roots, 16 extra nodes, 2 pruned nodes, max_depth=5\u001b[0m\n",
      "\u001b[34m[92]#011train-error:0.106733#011validation-error:0.1495\u001b[0m\n",
      "\u001b[34m[18:26:53] src/tree/updater_prune.cc:74: tree pruning end, 1 roots, 18 extra nodes, 6 pruned nodes, max_depth=5\u001b[0m\n",
      "\u001b[34m[93]#011train-error:0.106533#011validation-error:0.1494\u001b[0m\n",
      "\u001b[34m[18:26:54] src/tree/updater_prune.cc:74: tree pruning end, 1 roots, 22 extra nodes, 4 pruned nodes, max_depth=5\u001b[0m\n",
      "\u001b[34m[94]#011train-error:0.1058#011validation-error:0.1485\u001b[0m\n",
      "\u001b[34m[18:26:56] src/tree/updater_prune.cc:74: tree pruning end, 1 roots, 22 extra nodes, 10 pruned nodes, max_depth=5\u001b[0m\n",
      "\u001b[34m[95]#011train-error:0.105333#011validation-error:0.1489\u001b[0m\n",
      "\u001b[34m[18:26:57] src/tree/updater_prune.cc:74: tree pruning end, 1 roots, 32 extra nodes, 10 pruned nodes, max_depth=5\u001b[0m\n",
      "\u001b[34m[96]#011train-error:0.103867#011validation-error:0.149\u001b[0m\n",
      "\u001b[34m[18:26:58] src/tree/updater_prune.cc:74: tree pruning end, 1 roots, 12 extra nodes, 4 pruned nodes, max_depth=5\u001b[0m\n",
      "\u001b[34m[97]#011train-error:0.103333#011validation-error:0.1493\u001b[0m\n",
      "\u001b[34m[18:26:59] src/tree/updater_prune.cc:74: tree pruning end, 1 roots, 18 extra nodes, 16 pruned nodes, max_depth=5\u001b[0m\n",
      "\u001b[34m[98]#011train-error:0.103467#011validation-error:0.1493\u001b[0m\n"
     ]
    },
    {
     "name": "stdout",
     "output_type": "stream",
     "text": [
      "\u001b[34m[18:27:01] src/tree/updater_prune.cc:74: tree pruning end, 1 roots, 14 extra nodes, 8 pruned nodes, max_depth=5\u001b[0m\n",
      "\u001b[34m[99]#011train-error:0.103267#011validation-error:0.148\u001b[0m\n",
      "\u001b[34m[18:27:02] src/tree/updater_prune.cc:74: tree pruning end, 1 roots, 10 extra nodes, 6 pruned nodes, max_depth=5\u001b[0m\n",
      "\u001b[34m[100]#011train-error:0.103#011validation-error:0.1477\u001b[0m\n",
      "\u001b[34m[18:27:03] src/tree/updater_prune.cc:74: tree pruning end, 1 roots, 12 extra nodes, 4 pruned nodes, max_depth=5\u001b[0m\n",
      "\u001b[34m[101]#011train-error:0.102933#011validation-error:0.1476\u001b[0m\n",
      "\u001b[34m[18:27:05] src/tree/updater_prune.cc:74: tree pruning end, 1 roots, 18 extra nodes, 6 pruned nodes, max_depth=5\u001b[0m\n",
      "\u001b[34m[102]#011train-error:0.1028#011validation-error:0.1453\u001b[0m\n",
      "\u001b[34m[18:27:06] src/tree/updater_prune.cc:74: tree pruning end, 1 roots, 24 extra nodes, 8 pruned nodes, max_depth=5\u001b[0m\n",
      "\u001b[34m[103]#011train-error:0.102467#011validation-error:0.1453\u001b[0m\n",
      "\u001b[34m[18:27:07] src/tree/updater_prune.cc:74: tree pruning end, 1 roots, 16 extra nodes, 0 pruned nodes, max_depth=5\u001b[0m\n",
      "\u001b[34m[104]#011train-error:0.102067#011validation-error:0.1457\u001b[0m\n",
      "\u001b[34m[18:27:08] src/tree/updater_prune.cc:74: tree pruning end, 1 roots, 16 extra nodes, 6 pruned nodes, max_depth=5\u001b[0m\n",
      "\u001b[34m[105]#011train-error:0.101733#011validation-error:0.1455\u001b[0m\n",
      "\u001b[34m[18:27:10] src/tree/updater_prune.cc:74: tree pruning end, 1 roots, 20 extra nodes, 10 pruned nodes, max_depth=5\u001b[0m\n",
      "\u001b[34m[106]#011train-error:0.100333#011validation-error:0.1461\u001b[0m\n",
      "\u001b[34m[18:27:11] src/tree/updater_prune.cc:74: tree pruning end, 1 roots, 12 extra nodes, 8 pruned nodes, max_depth=5\u001b[0m\n",
      "\u001b[34m[107]#011train-error:0.099333#011validation-error:0.1455\u001b[0m\n",
      "\u001b[34m[18:27:12] src/tree/updater_prune.cc:74: tree pruning end, 1 roots, 10 extra nodes, 8 pruned nodes, max_depth=5\u001b[0m\n",
      "\u001b[34m[108]#011train-error:0.0994#011validation-error:0.1458\u001b[0m\n",
      "\u001b[34m[18:27:13] src/tree/updater_prune.cc:74: tree pruning end, 1 roots, 12 extra nodes, 6 pruned nodes, max_depth=5\u001b[0m\n",
      "\u001b[34m[109]#011train-error:0.0988#011validation-error:0.145\u001b[0m\n",
      "\u001b[34m[18:27:15] src/tree/updater_prune.cc:74: tree pruning end, 1 roots, 18 extra nodes, 2 pruned nodes, max_depth=5\u001b[0m\n",
      "\u001b[34m[110]#011train-error:0.0984#011validation-error:0.1444\u001b[0m\n",
      "\u001b[34m[18:27:16] src/tree/updater_prune.cc:74: tree pruning end, 1 roots, 20 extra nodes, 12 pruned nodes, max_depth=5\u001b[0m\n",
      "\u001b[34m[111]#011train-error:0.0982#011validation-error:0.1443\u001b[0m\n",
      "\u001b[34m[18:27:17] src/tree/updater_prune.cc:74: tree pruning end, 1 roots, 14 extra nodes, 10 pruned nodes, max_depth=5\u001b[0m\n",
      "\u001b[34m[112]#011train-error:0.098267#011validation-error:0.1442\u001b[0m\n",
      "\u001b[34m[18:27:19] src/tree/updater_prune.cc:74: tree pruning end, 1 roots, 22 extra nodes, 14 pruned nodes, max_depth=5\u001b[0m\n",
      "\u001b[34m[113]#011train-error:0.097867#011validation-error:0.1443\u001b[0m\n",
      "\u001b[34m[18:27:20] src/tree/updater_prune.cc:74: tree pruning end, 1 roots, 20 extra nodes, 6 pruned nodes, max_depth=5\u001b[0m\n",
      "\u001b[34m[114]#011train-error:0.097733#011validation-error:0.1437\u001b[0m\n",
      "\u001b[34m[18:27:21] src/tree/updater_prune.cc:74: tree pruning end, 1 roots, 22 extra nodes, 4 pruned nodes, max_depth=5\u001b[0m\n",
      "\u001b[34m[115]#011train-error:0.097733#011validation-error:0.143\u001b[0m\n",
      "\u001b[34m[18:27:22] src/tree/updater_prune.cc:74: tree pruning end, 1 roots, 14 extra nodes, 8 pruned nodes, max_depth=5\u001b[0m\n",
      "\u001b[34m[116]#011train-error:0.0976#011validation-error:0.1432\u001b[0m\n",
      "\u001b[34m[18:27:24] src/tree/updater_prune.cc:74: tree pruning end, 1 roots, 18 extra nodes, 6 pruned nodes, max_depth=5\u001b[0m\n",
      "\u001b[34m[117]#011train-error:0.098#011validation-error:0.1425\u001b[0m\n",
      "\u001b[34m[18:27:25] src/tree/updater_prune.cc:74: tree pruning end, 1 roots, 22 extra nodes, 10 pruned nodes, max_depth=5\u001b[0m\n",
      "\u001b[34m[118]#011train-error:0.096533#011validation-error:0.1438\u001b[0m\n",
      "\u001b[34m[18:27:26] src/tree/updater_prune.cc:74: tree pruning end, 1 roots, 16 extra nodes, 14 pruned nodes, max_depth=5\u001b[0m\n",
      "\u001b[34m[119]#011train-error:0.095533#011validation-error:0.1423\u001b[0m\n",
      "\u001b[34m[18:27:27] src/tree/updater_prune.cc:74: tree pruning end, 1 roots, 18 extra nodes, 10 pruned nodes, max_depth=5\u001b[0m\n",
      "\u001b[34m[120]#011train-error:0.094933#011validation-error:0.1427\u001b[0m\n",
      "\u001b[34m[18:27:29] src/tree/updater_prune.cc:74: tree pruning end, 1 roots, 16 extra nodes, 14 pruned nodes, max_depth=5\u001b[0m\n",
      "\u001b[34m[121]#011train-error:0.094733#011validation-error:0.1429\u001b[0m\n",
      "\u001b[34m[18:27:30] src/tree/updater_prune.cc:74: tree pruning end, 1 roots, 18 extra nodes, 16 pruned nodes, max_depth=5\u001b[0m\n",
      "\u001b[34m[122]#011train-error:0.094#011validation-error:0.1429\u001b[0m\n",
      "\u001b[34m[18:27:31] src/tree/updater_prune.cc:74: tree pruning end, 1 roots, 20 extra nodes, 10 pruned nodes, max_depth=5\u001b[0m\n",
      "\u001b[34m[123]#011train-error:0.094267#011validation-error:0.1429\u001b[0m\n",
      "\u001b[34m[18:27:33] src/tree/updater_prune.cc:74: tree pruning end, 1 roots, 20 extra nodes, 6 pruned nodes, max_depth=5\u001b[0m\n",
      "\u001b[34m[124]#011train-error:0.0936#011validation-error:0.1432\u001b[0m\n",
      "\u001b[34m[18:27:34] src/tree/updater_prune.cc:74: tree pruning end, 1 roots, 12 extra nodes, 4 pruned nodes, max_depth=5\u001b[0m\n",
      "\u001b[34m[125]#011train-error:0.093333#011validation-error:0.1434\u001b[0m\n",
      "\u001b[34m[18:27:35] src/tree/updater_prune.cc:74: tree pruning end, 1 roots, 16 extra nodes, 16 pruned nodes, max_depth=5\u001b[0m\n",
      "\u001b[34m[126]#011train-error:0.092333#011validation-error:0.1435\u001b[0m\n",
      "\n",
      "2020-06-29 18:27:47 Uploading - Uploading generated training model\n",
      "2020-06-29 18:27:47 Completed - Training job completed\n",
      "\u001b[34m[18:27:36] src/tree/updater_prune.cc:74: tree pruning end, 1 roots, 26 extra nodes, 8 pruned nodes, max_depth=5\u001b[0m\n",
      "\u001b[34m[127]#011train-error:0.091933#011validation-error:0.1429\u001b[0m\n",
      "\u001b[34m[18:27:38] src/tree/updater_prune.cc:74: tree pruning end, 1 roots, 12 extra nodes, 10 pruned nodes, max_depth=5\u001b[0m\n",
      "\u001b[34m[128]#011train-error:0.092533#011validation-error:0.1434\u001b[0m\n",
      "\u001b[34m[18:27:39] src/tree/updater_prune.cc:74: tree pruning end, 1 roots, 12 extra nodes, 4 pruned nodes, max_depth=5\u001b[0m\n",
      "\u001b[34m[129]#011train-error:0.091867#011validation-error:0.143\u001b[0m\n",
      "\u001b[34mStopping. Best iteration:\u001b[0m\n",
      "\u001b[34m[119]#011train-error:0.095533#011validation-error:0.1423\n",
      "\u001b[0m\n",
      "Training seconds: 216\n",
      "Billable seconds: 216\n"
     ]
    }
   ],
   "source": [
    "xgb.fit({'train': s3_input_train, 'validation': s3_input_validation})"
   ]
  },
  {
   "cell_type": "markdown",
   "metadata": {},
   "source": [
    "## Step 5: Testing the model\n",
    "\n",
    "Now that we've fit our XGBoost model, it's time to see how well it performs. To do this we will use SageMakers Batch Transform functionality. Batch Transform is a convenient way to perform inference on a large dataset in a way that is not realtime. That is, we don't necessarily need to use our model's results immediately and instead we can perform inference on a large number of samples. An example of this in industry might be performing an end of month report. This method of inference can also be useful to us as it means that we can perform inference on our entire test set. \n",
    "\n",
    "To perform a Batch Transformation we need to first create a transformer objects from our trained estimator object."
   ]
  },
  {
   "cell_type": "code",
   "execution_count": 24,
   "metadata": {},
   "outputs": [
    {
     "name": "stderr",
     "output_type": "stream",
     "text": [
      "WARNING:sagemaker:Parameter image will be renamed to image_uri in SageMaker Python SDK v2.\n"
     ]
    }
   ],
   "source": [
    "xgb_transformer = xgb.transformer(instance_count = 1, instance_type = 'ml.m4.xlarge')"
   ]
  },
  {
   "cell_type": "markdown",
   "metadata": {},
   "source": [
    "Next we actually perform the transform job. When doing so we need to make sure to specify the type of data we are sending so that it is serialized correctly in the background. In our case we are providing our model with csv data so we specify `text/csv`. Also, if the test data that we have provided is too large to process all at once then we need to specify how the data file should be split up. Since each line is a single entry in our data set we tell SageMaker that it can split the input on each line."
   ]
  },
  {
   "cell_type": "code",
   "execution_count": 25,
   "metadata": {},
   "outputs": [],
   "source": [
    "xgb_transformer.transform(test_location, content_type='text/csv', split_type='Line')"
   ]
  },
  {
   "cell_type": "markdown",
   "metadata": {},
   "source": [
    "Currently the transform job is running but it is doing so in the background. Since we wish to wait until the transform job is done and we would like a bit of feedback we can run the `wait()` method."
   ]
  },
  {
   "cell_type": "code",
   "execution_count": 26,
   "metadata": {},
   "outputs": [
    {
     "name": "stdout",
     "output_type": "stream",
     "text": [
      "....................\u001b[34mArguments: serve\u001b[0m\n",
      "\u001b[34m[2020-06-29 18:31:06 +0000] [1] [INFO] Starting gunicorn 19.7.1\u001b[0m\n",
      "\u001b[34m[2020-06-29 18:31:06 +0000] [1] [INFO] Listening at: http://0.0.0.0:8080 (1)\u001b[0m\n",
      "\u001b[34m[2020-06-29 18:31:06 +0000] [1] [INFO] Using worker: gevent\u001b[0m\n",
      "\u001b[34m[2020-06-29 18:31:06 +0000] [38] [INFO] Booting worker with pid: 38\u001b[0m\n",
      "\u001b[34m[2020-06-29 18:31:06 +0000] [39] [INFO] Booting worker with pid: 39\u001b[0m\n",
      "\u001b[34m[2020-06-29 18:31:06 +0000] [40] [INFO] Booting worker with pid: 40\u001b[0m\n",
      "\u001b[34m[2020-06-29 18:31:06 +0000] [41] [INFO] Booting worker with pid: 41\u001b[0m\n",
      "\u001b[34m[2020-06-29:18:31:06:INFO] Model loaded successfully for worker : 38\u001b[0m\n",
      "\u001b[34m[2020-06-29:18:31:06:INFO] Model loaded successfully for worker : 39\u001b[0m\n",
      "\u001b[34m[2020-06-29:18:31:06:INFO] Model loaded successfully for worker : 40\u001b[0m\n",
      "\u001b[34m[2020-06-29:18:31:06:INFO] Model loaded successfully for worker : 41\u001b[0m\n",
      "\u001b[34m[2020-06-29:18:31:35:INFO] Sniff delimiter as ','\u001b[0m\n",
      "\u001b[34m[2020-06-29:18:31:35:INFO] Determined delimiter of CSV input is ','\u001b[0m\n",
      "\u001b[34m[2020-06-29:18:31:35:INFO] Sniff delimiter as ','\u001b[0m\n",
      "\u001b[34m[2020-06-29:18:31:35:INFO] Determined delimiter of CSV input is ','\u001b[0m\n",
      "\u001b[34m[2020-06-29:18:31:35:INFO] Sniff delimiter as ','\u001b[0m\n",
      "\u001b[34m[2020-06-29:18:31:35:INFO] Determined delimiter of CSV input is ','\u001b[0m\n",
      "\u001b[34m[2020-06-29:18:31:35:INFO] Sniff delimiter as ','\u001b[0m\n",
      "\u001b[34m[2020-06-29:18:31:35:INFO] Determined delimiter of CSV input is ','\u001b[0m\n",
      "\u001b[35m[2020-06-29:18:31:35:INFO] Sniff delimiter as ','\u001b[0m\n",
      "\u001b[35m[2020-06-29:18:31:35:INFO] Determined delimiter of CSV input is ','\u001b[0m\n",
      "\u001b[35m[2020-06-29:18:31:35:INFO] Sniff delimiter as ','\u001b[0m\n",
      "\u001b[35m[2020-06-29:18:31:35:INFO] Determined delimiter of CSV input is ','\u001b[0m\n",
      "\u001b[35m[2020-06-29:18:31:35:INFO] Sniff delimiter as ','\u001b[0m\n",
      "\u001b[35m[2020-06-29:18:31:35:INFO] Determined delimiter of CSV input is ','\u001b[0m\n",
      "\u001b[35m[2020-06-29:18:31:35:INFO] Sniff delimiter as ','\u001b[0m\n",
      "\u001b[35m[2020-06-29:18:31:35:INFO] Determined delimiter of CSV input is ','\u001b[0m\n",
      "\u001b[32m2020-06-29T18:31:32.228:[sagemaker logs]: MaxConcurrentTransforms=4, MaxPayloadInMB=6, BatchStrategy=MULTI_RECORD\u001b[0m\n",
      "\u001b[34m[2020-06-29:18:31:37:INFO] Sniff delimiter as ','\u001b[0m\n",
      "\u001b[34m[2020-06-29:18:31:37:INFO] Determined delimiter of CSV input is ','\u001b[0m\n",
      "\u001b[34m[2020-06-29:18:31:37:INFO] Sniff delimiter as ','\u001b[0m\n",
      "\u001b[34m[2020-06-29:18:31:37:INFO] Determined delimiter of CSV input is ','\u001b[0m\n",
      "\u001b[35m[2020-06-29:18:31:37:INFO] Sniff delimiter as ','\u001b[0m\n",
      "\u001b[35m[2020-06-29:18:31:37:INFO] Determined delimiter of CSV input is ','\u001b[0m\n",
      "\u001b[35m[2020-06-29:18:31:37:INFO] Sniff delimiter as ','\u001b[0m\n",
      "\u001b[35m[2020-06-29:18:31:37:INFO] Determined delimiter of CSV input is ','\u001b[0m\n",
      "\u001b[34m[2020-06-29:18:31:37:INFO] Sniff delimiter as ','\u001b[0m\n",
      "\u001b[34m[2020-06-29:18:31:37:INFO] Determined delimiter of CSV input is ','\u001b[0m\n",
      "\u001b[35m[2020-06-29:18:31:37:INFO] Sniff delimiter as ','\u001b[0m\n",
      "\u001b[35m[2020-06-29:18:31:37:INFO] Determined delimiter of CSV input is ','\u001b[0m\n",
      "\u001b[34m[2020-06-29:18:31:38:INFO] Sniff delimiter as ','\u001b[0m\n",
      "\u001b[34m[2020-06-29:18:31:38:INFO] Determined delimiter of CSV input is ','\u001b[0m\n",
      "\u001b[35m[2020-06-29:18:31:38:INFO] Sniff delimiter as ','\u001b[0m\n",
      "\u001b[35m[2020-06-29:18:31:38:INFO] Determined delimiter of CSV input is ','\u001b[0m\n",
      "\u001b[34m[2020-06-29:18:31:40:INFO] Sniff delimiter as ','\u001b[0m\n",
      "\u001b[34m[2020-06-29:18:31:40:INFO] Determined delimiter of CSV input is ','\u001b[0m\n",
      "\u001b[35m[2020-06-29:18:31:40:INFO] Sniff delimiter as ','\u001b[0m\n",
      "\u001b[35m[2020-06-29:18:31:40:INFO] Determined delimiter of CSV input is ','\u001b[0m\n",
      "\u001b[34m[2020-06-29:18:31:40:INFO] Sniff delimiter as ','\u001b[0m\n",
      "\u001b[34m[2020-06-29:18:31:40:INFO] Determined delimiter of CSV input is ','\u001b[0m\n",
      "\u001b[34m[2020-06-29:18:31:40:INFO] Sniff delimiter as ','\u001b[0m\n",
      "\u001b[34m[2020-06-29:18:31:40:INFO] Determined delimiter of CSV input is ','\u001b[0m\n",
      "\u001b[34m[2020-06-29:18:31:40:INFO] Sniff delimiter as ','\u001b[0m\n",
      "\u001b[34m[2020-06-29:18:31:40:INFO] Determined delimiter of CSV input is ','\u001b[0m\n",
      "\u001b[35m[2020-06-29:18:31:40:INFO] Sniff delimiter as ','\u001b[0m\n",
      "\u001b[35m[2020-06-29:18:31:40:INFO] Determined delimiter of CSV input is ','\u001b[0m\n",
      "\u001b[35m[2020-06-29:18:31:40:INFO] Sniff delimiter as ','\u001b[0m\n",
      "\u001b[35m[2020-06-29:18:31:40:INFO] Determined delimiter of CSV input is ','\u001b[0m\n",
      "\u001b[35m[2020-06-29:18:31:40:INFO] Sniff delimiter as ','\u001b[0m\n",
      "\u001b[35m[2020-06-29:18:31:40:INFO] Determined delimiter of CSV input is ','\u001b[0m\n",
      "\u001b[34m[2020-06-29:18:31:42:INFO] Sniff delimiter as ','\u001b[0m\n",
      "\u001b[35m[2020-06-29:18:31:42:INFO] Sniff delimiter as ','\u001b[0m\n",
      "\u001b[34m[2020-06-29:18:31:42:INFO] Determined delimiter of CSV input is ','\u001b[0m\n",
      "\u001b[34m[2020-06-29:18:31:42:INFO] Sniff delimiter as ','\u001b[0m\n",
      "\u001b[34m[2020-06-29:18:31:42:INFO] Determined delimiter of CSV input is ','\u001b[0m\n",
      "\u001b[34m[2020-06-29:18:31:42:INFO] Sniff delimiter as ','\u001b[0m\n",
      "\u001b[34m[2020-06-29:18:31:42:INFO] Determined delimiter of CSV input is ','\u001b[0m\n",
      "\u001b[35m[2020-06-29:18:31:42:INFO] Determined delimiter of CSV input is ','\u001b[0m\n",
      "\u001b[35m[2020-06-29:18:31:42:INFO] Sniff delimiter as ','\u001b[0m\n",
      "\u001b[35m[2020-06-29:18:31:42:INFO] Determined delimiter of CSV input is ','\u001b[0m\n",
      "\u001b[35m[2020-06-29:18:31:42:INFO] Sniff delimiter as ','\u001b[0m\n",
      "\u001b[35m[2020-06-29:18:31:42:INFO] Determined delimiter of CSV input is ','\u001b[0m\n",
      "\u001b[34m[2020-06-29:18:31:42:INFO] Sniff delimiter as ','\u001b[0m\n",
      "\u001b[35m[2020-06-29:18:31:42:INFO] Sniff delimiter as ','\u001b[0m\n",
      "\u001b[34m[2020-06-29:18:31:42:INFO] Determined delimiter of CSV input is ','\u001b[0m\n",
      "\u001b[35m[2020-06-29:18:31:42:INFO] Determined delimiter of CSV input is ','\u001b[0m\n",
      "\n",
      "\u001b[34m[2020-06-29:18:31:45:INFO] Determined delimiter of CSV input is ','\u001b[0m\n",
      "\u001b[34m[2020-06-29:18:31:45:INFO] Sniff delimiter as ','\u001b[0m\n",
      "\u001b[34m[2020-06-29:18:31:45:INFO] Determined delimiter of CSV input is ','\u001b[0m\n",
      "\u001b[35m[2020-06-29:18:31:45:INFO] Determined delimiter of CSV input is ','\u001b[0m\n",
      "\u001b[35m[2020-06-29:18:31:45:INFO] Sniff delimiter as ','\u001b[0m\n",
      "\u001b[35m[2020-06-29:18:31:45:INFO] Determined delimiter of CSV input is ','\u001b[0m\n",
      "\u001b[34m[2020-06-29:18:31:45:INFO] Sniff delimiter as ','\u001b[0m\n",
      "\u001b[34m[2020-06-29:18:31:45:INFO] Determined delimiter of CSV input is ','\u001b[0m\n",
      "\u001b[34m[2020-06-29:18:31:45:INFO] Sniff delimiter as ','\u001b[0m\n",
      "\u001b[34m[2020-06-29:18:31:45:INFO] Determined delimiter of CSV input is ','\u001b[0m\n",
      "\u001b[35m[2020-06-29:18:31:45:INFO] Sniff delimiter as ','\u001b[0m\n",
      "\u001b[35m[2020-06-29:18:31:45:INFO] Determined delimiter of CSV input is ','\u001b[0m\n",
      "\u001b[35m[2020-06-29:18:31:45:INFO] Sniff delimiter as ','\u001b[0m\n",
      "\u001b[35m[2020-06-29:18:31:45:INFO] Determined delimiter of CSV input is ','\u001b[0m\n",
      "\u001b[34m[2020-06-29:18:31:47:INFO] Sniff delimiter as ','\u001b[0m\n",
      "\u001b[34m[2020-06-29:18:31:47:INFO] Determined delimiter of CSV input is ','\u001b[0m\n",
      "\u001b[34m[2020-06-29:18:31:47:INFO] Sniff delimiter as ','\u001b[0m\n",
      "\u001b[34m[2020-06-29:18:31:47:INFO] Determined delimiter of CSV input is ','\u001b[0m\n",
      "\u001b[34m[2020-06-29:18:31:47:INFO] Sniff delimiter as ','\u001b[0m\n",
      "\u001b[34m[2020-06-29:18:31:47:INFO] Determined delimiter of CSV input is ','\u001b[0m\n",
      "\u001b[34m[2020-06-29:18:31:47:INFO] Sniff delimiter as ','\u001b[0m\n",
      "\u001b[34m[2020-06-29:18:31:47:INFO] Determined delimiter of CSV input is ','\u001b[0m\n",
      "\u001b[35m[2020-06-29:18:31:47:INFO] Sniff delimiter as ','\u001b[0m\n",
      "\u001b[35m[2020-06-29:18:31:47:INFO] Determined delimiter of CSV input is ','\u001b[0m\n",
      "\u001b[35m[2020-06-29:18:31:47:INFO] Sniff delimiter as ','\u001b[0m\n",
      "\u001b[35m[2020-06-29:18:31:47:INFO] Determined delimiter of CSV input is ','\u001b[0m\n",
      "\u001b[35m[2020-06-29:18:31:47:INFO] Sniff delimiter as ','\u001b[0m\n",
      "\u001b[35m[2020-06-29:18:31:47:INFO] Determined delimiter of CSV input is ','\u001b[0m\n",
      "\u001b[35m[2020-06-29:18:31:47:INFO] Sniff delimiter as ','\u001b[0m\n",
      "\u001b[35m[2020-06-29:18:31:47:INFO] Determined delimiter of CSV input is ','\u001b[0m\n",
      "\u001b[34m[2020-06-29:18:31:49:INFO] Sniff delimiter as ','\u001b[0m\n",
      "\u001b[34m[2020-06-29:18:31:49:INFO] Determined delimiter of CSV input is ','\u001b[0m\n",
      "\u001b[34m[2020-06-29:18:31:49:INFO] Sniff delimiter as ','\u001b[0m\n",
      "\u001b[35m[2020-06-29:18:31:49:INFO] Sniff delimiter as ','\u001b[0m\n",
      "\u001b[35m[2020-06-29:18:31:49:INFO] Determined delimiter of CSV input is ','\u001b[0m\n",
      "\u001b[35m[2020-06-29:18:31:49:INFO] Sniff delimiter as ','\u001b[0m\n",
      "\u001b[34m[2020-06-29:18:31:49:INFO] Determined delimiter of CSV input is ','\u001b[0m\n",
      "\u001b[34m[2020-06-29:18:31:50:INFO] Sniff delimiter as ','\u001b[0m\n",
      "\u001b[34m[2020-06-29:18:31:50:INFO] Determined delimiter of CSV input is ','\u001b[0m\n",
      "\u001b[34m[2020-06-29:18:31:50:INFO] Sniff delimiter as ','\u001b[0m\n",
      "\u001b[34m[2020-06-29:18:31:50:INFO] Determined delimiter of CSV input is ','\u001b[0m\n",
      "\u001b[35m[2020-06-29:18:31:49:INFO] Determined delimiter of CSV input is ','\u001b[0m\n",
      "\u001b[35m[2020-06-29:18:31:50:INFO] Sniff delimiter as ','\u001b[0m\n",
      "\u001b[35m[2020-06-29:18:31:50:INFO] Determined delimiter of CSV input is ','\u001b[0m\n",
      "\u001b[35m[2020-06-29:18:31:50:INFO] Sniff delimiter as ','\u001b[0m\n",
      "\u001b[35m[2020-06-29:18:31:50:INFO] Determined delimiter of CSV input is ','\u001b[0m\n",
      "\u001b[34m[2020-06-29:18:31:52:INFO] Sniff delimiter as ','\u001b[0m\n",
      "\u001b[34m[2020-06-29:18:31:52:INFO] Determined delimiter of CSV input is ','\u001b[0m\n",
      "\u001b[35m[2020-06-29:18:31:52:INFO] Sniff delimiter as ','\u001b[0m\n",
      "\u001b[35m[2020-06-29:18:31:52:INFO] Determined delimiter of CSV input is ','\u001b[0m\n",
      "\u001b[34m[2020-06-29:18:31:52:INFO] Sniff delimiter as ','\u001b[0m\n",
      "\u001b[34m[2020-06-29:18:31:52:INFO] Determined delimiter of CSV input is ','\u001b[0m\n",
      "\u001b[34m[2020-06-29:18:31:52:INFO] Sniff delimiter as ','\u001b[0m\n",
      "\u001b[34m[2020-06-29:18:31:52:INFO] Determined delimiter of CSV input is ','\u001b[0m\n",
      "\u001b[34m[2020-06-29:18:31:52:INFO] Sniff delimiter as ','\u001b[0m\n",
      "\u001b[34m[2020-06-29:18:31:52:INFO] Determined delimiter of CSV input is ','\u001b[0m\n",
      "\u001b[35m[2020-06-29:18:31:52:INFO] Sniff delimiter as ','\u001b[0m\n",
      "\u001b[35m[2020-06-29:18:31:52:INFO] Determined delimiter of CSV input is ','\u001b[0m\n",
      "\u001b[35m[2020-06-29:18:31:52:INFO] Sniff delimiter as ','\u001b[0m\n",
      "\u001b[35m[2020-06-29:18:31:52:INFO] Determined delimiter of CSV input is ','\u001b[0m\n",
      "\u001b[35m[2020-06-29:18:31:52:INFO] Sniff delimiter as ','\u001b[0m\n",
      "\u001b[35m[2020-06-29:18:31:52:INFO] Determined delimiter of CSV input is ','\u001b[0m\n",
      "\u001b[34m[2020-06-29:18:31:54:INFO] Sniff delimiter as ','\u001b[0m\n",
      "\u001b[34m[2020-06-29:18:31:54:INFO] Determined delimiter of CSV input is ','\u001b[0m\n",
      "\u001b[34m[2020-06-29:18:31:54:INFO] Sniff delimiter as ','\u001b[0m\n",
      "\u001b[34m[2020-06-29:18:31:54:INFO] Determined delimiter of CSV input is ','\u001b[0m\n",
      "\u001b[35m[2020-06-29:18:31:54:INFO] Sniff delimiter as ','\u001b[0m\n",
      "\u001b[35m[2020-06-29:18:31:54:INFO] Determined delimiter of CSV input is ','\u001b[0m\n",
      "\u001b[35m[2020-06-29:18:31:54:INFO] Sniff delimiter as ','\u001b[0m\n",
      "\u001b[35m[2020-06-29:18:31:54:INFO] Determined delimiter of CSV input is ','\u001b[0m\n"
     ]
    },
    {
     "name": "stdout",
     "output_type": "stream",
     "text": [
      "\u001b[34m[2020-06-29:18:31:57:INFO] Sniff delimiter as ','\u001b[0m\n",
      "\u001b[34m[2020-06-29:18:31:57:INFO] Determined delimiter of CSV input is ','\u001b[0m\n",
      "\u001b[34m[2020-06-29:18:31:57:INFO] Sniff delimiter as ','\u001b[0m\n",
      "\u001b[34m[2020-06-29:18:31:57:INFO] Determined delimiter of CSV input is ','\u001b[0m\n",
      "\u001b[34m[2020-06-29:18:31:57:INFO] Sniff delimiter as ','\u001b[0m\n",
      "\u001b[34m[2020-06-29:18:31:57:INFO] Determined delimiter of CSV input is ','\u001b[0m\n",
      "\u001b[34m[2020-06-29:18:31:57:INFO] Sniff delimiter as ','\u001b[0m\n",
      "\u001b[34m[2020-06-29:18:31:57:INFO] Determined delimiter of CSV input is ','\u001b[0m\n",
      "\u001b[35m[2020-06-29:18:31:57:INFO] Sniff delimiter as ','\u001b[0m\n",
      "\u001b[35m[2020-06-29:18:31:57:INFO] Determined delimiter of CSV input is ','\u001b[0m\n",
      "\u001b[35m[2020-06-29:18:31:57:INFO] Sniff delimiter as ','\u001b[0m\n",
      "\u001b[35m[2020-06-29:18:31:57:INFO] Determined delimiter of CSV input is ','\u001b[0m\n",
      "\u001b[35m[2020-06-29:18:31:57:INFO] Sniff delimiter as ','\u001b[0m\n",
      "\u001b[35m[2020-06-29:18:31:57:INFO] Determined delimiter of CSV input is ','\u001b[0m\n",
      "\u001b[35m[2020-06-29:18:31:57:INFO] Sniff delimiter as ','\u001b[0m\n",
      "\u001b[35m[2020-06-29:18:31:57:INFO] Determined delimiter of CSV input is ','\u001b[0m\n"
     ]
    }
   ],
   "source": [
    "xgb_transformer.wait()"
   ]
  },
  {
   "cell_type": "markdown",
   "metadata": {},
   "source": [
    "Now the transform job has executed and the result, the estimated sentiment of each review, has been saved on S3. Since we would rather work on this file locally we can perform a bit of notebook magic to copy the file to the `data_dir`."
   ]
  },
  {
   "cell_type": "code",
   "execution_count": 27,
   "metadata": {},
   "outputs": [
    {
     "name": "stdout",
     "output_type": "stream",
     "text": [
      "Completed 256.0 KiB/369.1 KiB (3.4 MiB/s) with 1 file(s) remaining\r",
      "Completed 369.1 KiB/369.1 KiB (4.8 MiB/s) with 1 file(s) remaining\r",
      "download: s3://sagemaker-us-east-2-412713537133/xgboost-2020-06-29-18-27-58-366/test.csv.out to ../data/sentiment_web_app/test.csv.out\r\n"
     ]
    }
   ],
   "source": [
    "!aws s3 cp --recursive $xgb_transformer.output_path $data_dir"
   ]
  },
  {
   "cell_type": "markdown",
   "metadata": {},
   "source": [
    "The last step is now to read in the output from our model, convert the output to something a little more usable, in this case we want the sentiment to be either `1` (positive) or `0` (negative), and then compare to the ground truth labels."
   ]
  },
  {
   "cell_type": "code",
   "execution_count": 28,
   "metadata": {},
   "outputs": [],
   "source": [
    "predictions = pd.read_csv(os.path.join(data_dir, 'test.csv.out'), header=None)\n",
    "predictions = [round(num) for num in predictions.squeeze().values]"
   ]
  },
  {
   "cell_type": "code",
   "execution_count": 29,
   "metadata": {},
   "outputs": [
    {
     "data": {
      "text/plain": [
       "0.85212"
      ]
     },
     "execution_count": 29,
     "metadata": {},
     "output_type": "execute_result"
    }
   ],
   "source": [
    "from sklearn.metrics import accuracy_score\n",
    "accuracy_score(test_y, predictions)"
   ]
  },
  {
   "cell_type": "markdown",
   "metadata": {},
   "source": [
    "## Step 6: Deploying the model\n",
    "\n",
    "Once we construct and fit our model, SageMaker stores the resulting model artifacts and we can use those to deploy an endpoint (inference code). To see this, look in the SageMaker console and you should see that a model has been created along with a link to the S3 location where the model artifacts have been stored.\n",
    "\n",
    "Deploying an endpoint is a lot like training the model with a few important differences. The first is that a deployed model doesn't change the model artifacts, so as you send it various testing instances the model won't change. Another difference is that since we aren't performing a fixed computation, as we were in the training step or while performing a batch transform, the compute instance that gets started stays running until we tell it to stop. This is important to note as if we forget and leave it running we will be charged the entire time.\n",
    "\n",
    "In other words **If you are no longer using a deployed endpoint, shut it down!**"
   ]
  },
  {
   "cell_type": "code",
   "execution_count": 30,
   "metadata": {},
   "outputs": [
    {
     "name": "stderr",
     "output_type": "stream",
     "text": [
      "WARNING:sagemaker:Parameter image will be renamed to image_uri in SageMaker Python SDK v2.\n",
      "WARNING:sagemaker:Using already existing model: xgboost-2020-06-29-18-22-14-659\n"
     ]
    },
    {
     "name": "stdout",
     "output_type": "stream",
     "text": [
      "-------------!"
     ]
    }
   ],
   "source": [
    "xgb_predictor = xgb.deploy(initial_instance_count = 1, instance_type = 'ml.m4.xlarge')"
   ]
  },
  {
   "cell_type": "markdown",
   "metadata": {},
   "source": [
    "### Testing the model (again)\n",
    "\n",
    "Now that we have deployed our endpoint, we can send the testing data to it and get back the inference results. We already did this earlier using the batch transform functionality of SageMaker, however, we will test our model again using the newly deployed endpoint so that we can make sure that it works properly and to get a bit of a feel for how the endpoint works.\n",
    "\n",
    "When using the created endpoint it is important to know that we are limited in the amount of information we can send in each call so we need to break the testing data up into chunks and then send each chunk. Also, we need to serialize our data before we send it to the endpoint to ensure that our data is transmitted properly. Fortunately, SageMaker can do the serialization part for us provided we tell it the format of our data."
   ]
  },
  {
   "cell_type": "code",
   "execution_count": 31,
   "metadata": {},
   "outputs": [],
   "source": [
    "from sagemaker.predictor import csv_serializer\n",
    "\n",
    "# We need to tell the endpoint what format the data we are sending is in so that SageMaker can perform the serialization.\n",
    "xgb_predictor.content_type = 'text/csv'\n",
    "xgb_predictor.serializer = csv_serializer"
   ]
  },
  {
   "cell_type": "code",
   "execution_count": 32,
   "metadata": {},
   "outputs": [],
   "source": [
    "# We split the data into chunks and send each chunk seperately, accumulating the results.\n",
    "\n",
    "def predict(data, rows=512):\n",
    "    split_array = np.array_split(data, int(data.shape[0] / float(rows) + 1))\n",
    "    predictions = ''\n",
    "    for array in split_array:\n",
    "        predictions = ','.join([predictions, xgb_predictor.predict(array).decode('utf-8')])\n",
    "    \n",
    "    return np.fromstring(predictions[1:], sep=',')"
   ]
  },
  {
   "cell_type": "code",
   "execution_count": 33,
   "metadata": {},
   "outputs": [],
   "source": [
    "test_X = pd.read_csv(os.path.join(data_dir, 'test.csv'), header=None).values\n",
    "\n",
    "predictions = predict(test_X)\n",
    "predictions = [round(num) for num in predictions]"
   ]
  },
  {
   "cell_type": "markdown",
   "metadata": {},
   "source": [
    "Lastly, we check to see what the accuracy of our model is."
   ]
  },
  {
   "cell_type": "code",
   "execution_count": 34,
   "metadata": {},
   "outputs": [
    {
     "data": {
      "text/plain": [
       "0.85212"
      ]
     },
     "execution_count": 34,
     "metadata": {},
     "output_type": "execute_result"
    }
   ],
   "source": [
    "from sklearn.metrics import accuracy_score\n",
    "accuracy_score(test_y, predictions)"
   ]
  },
  {
   "cell_type": "markdown",
   "metadata": {},
   "source": [
    "And the results here should agree with the model testing that we did earlier using the batch transform job.\n",
    "\n",
    "### Cleaning up\n",
    "\n",
    "Now that we've determined that deploying our model works as expected, we are going to shut it down. Remember that the longer the endpoint is left running, the greater the cost and since we have a bit more work to do before we are able to use our endpoint with our simple web app, we should shut everything down."
   ]
  },
  {
   "cell_type": "code",
   "execution_count": 35,
   "metadata": {},
   "outputs": [],
   "source": [
    "xgb_predictor.delete_endpoint()"
   ]
  },
  {
   "cell_type": "markdown",
   "metadata": {},
   "source": [
    "## Step 7: Putting our model to work\n",
    "\n",
    "As we've mentioned a few times now, our goal is to have our model deployed and then access it using a very simple web app. The intent is for this web app to take some user submitted data (a review), send it off to our endpoint (the model) and then display the result.\n",
    "\n",
    "However, there is a small catch. Currently the only way we can access the endpoint to send it data is using the SageMaker API. We can, if we wish, expose the actual URL that our model's endpoint is receiving data from, however, if we just send it data ourselves we will not get anything in return. This is because the endpoint created by SageMaker requires the entity accessing it have the correct permissions. So, we would need to somehow authenticate our web app with AWS.\n",
    "\n",
    "Having a website that authenticates to AWS seems a bit beyond the scope of this lesson so we will opt for an alternative approach. Namely, we will create a new endpoint which does not require authentication and which acts as a proxy for the SageMaker endpoint.\n",
    "\n",
    "As an additional constraint, we will try to avoid doing any data processing in the web app itself. Remember that when we constructed and tested our model we started with a movie review, then we simplified it by removing any html formatting and punctuation, then we constructed a bag of words embedding and the resulting vector is what we sent to our model. All of this needs to be done to our user input as well.\n",
    "\n",
    "Fortunately we can do all of this data processing in the backend, using Amazon's Lambda service.\n",
    "\n",
    "<img src=\"Web App Diagram.svg\">\n",
    "\n",
    "The diagram above gives an overview of how the various services will work together. On the far right is the model which we trained above and which will be deployed using SageMaker. On the far left is our web app that collects a user's movie review, sends it off and expects a positive or negative sentiment in return.\n",
    "\n",
    "In the middle is where some of the magic happens. We will construct a Lambda function, which you can think of as a straightforward Python function that can be executed whenever a specified event occurs. This Python function will do the data processing we need to perform on a user submitted review. In addition, we will give this function permission to send and recieve data from a SageMaker endpoint.\n",
    "\n",
    "Lastly, the method we will use to execute the Lambda function is a new endpoint that we will create using API Gateway. This endpoint will be a url that listens for data to be sent to it. Once it gets some data it will pass that data on to the Lambda function and then return whatever the Lambda function returns. Essentially it will act as an interface that lets our web app communicate with the Lambda function.\n",
    "\n",
    "### Processing a single review\n",
    "\n",
    "For now, suppose we are given a movie review by our user in the form of a string, like so:"
   ]
  },
  {
   "cell_type": "code",
   "execution_count": 36,
   "metadata": {},
   "outputs": [],
   "source": [
    "test_review = \"Nothing but a disgusting materialistic pageant of glistening abed remote control greed zombies, totally devoid of any heart or heat. A romantic comedy that has zero romantic chemestry and zero laughs!\""
   ]
  },
  {
   "cell_type": "markdown",
   "metadata": {},
   "source": [
    "How do we go from this string to the bag of words feature vector that is expected by our model?\n",
    "\n",
    "If we recall at the beginning of this notebook, the first step is to remove any unnecessary characters using the `review_to_words` method. Remember that we intentionally did this in a very simplistic way. This is because we are going to have to copy this method to our (eventual) Lambda function (we will go into more detail later) and this means it needs to be rather simplistic."
   ]
  },
  {
   "cell_type": "code",
   "execution_count": 37,
   "metadata": {},
   "outputs": [
    {
     "name": "stdout",
     "output_type": "stream",
     "text": [
      "nothing but a disgusting materialistic pageant of glistening abed remote control greed zombies totally devoid of any heart or heat a romantic comedy that has zero romantic chemestry and zero laughs\n"
     ]
    }
   ],
   "source": [
    "test_words = review_to_words(test_review)\n",
    "print(test_words)"
   ]
  },
  {
   "cell_type": "markdown",
   "metadata": {},
   "source": [
    "Next, we need to construct a bag of words embedding of the `test_words` string. To do this, remember that a bag of words embedding uses a `vocabulary` consisting of the most frequently appearing words in a set of documents. Then, for each word in the vocabulary we record the number of times that word appears in `test_words`. We constructed the `vocabulary` earlier using the training set for our problem so encoding `test_words` is relatively straightforward."
   ]
  },
  {
   "cell_type": "code",
   "execution_count": 38,
   "metadata": {},
   "outputs": [],
   "source": [
    "def bow_encoding(words, vocabulary):\n",
    "    bow = [0] * len(vocabulary) # Start by setting the count for each word in the vocabulary to zero.\n",
    "    for word in words.split():  # For each word in the string\n",
    "        if word in vocabulary:  # If the word is one that occurs in the vocabulary, increase its count.\n",
    "            bow[vocabulary[word]] += 1\n",
    "    return bow"
   ]
  },
  {
   "cell_type": "code",
   "execution_count": 39,
   "metadata": {},
   "outputs": [
    {
     "name": "stdout",
     "output_type": "stream",
     "text": [
      "[0, 0, 0, 0, 0, 0, 0, 0, 0, 0, 0, 0, 0, 0, 0, 0, 0, 0, 0, 0, 0, 0, 0, 0, 0, 0, 0, 0, 0, 0, 0, 0, 0, 0, 0, 0, 0, 0, 0, 0, 0, 0, 0, 0, 0, 0, 0, 0, 0, 0, 0, 0, 0, 0, 0, 0, 0, 0, 0, 0, 0, 0, 0, 0, 0, 0, 0, 0, 0, 0, 0, 0, 0, 0, 0, 0, 0, 0, 0, 0, 0, 0, 0, 0, 0, 0, 0, 0, 0, 0, 0, 0, 0, 0, 0, 0, 0, 0, 0, 0, 0, 0, 0, 0, 0, 0, 0, 0, 0, 0, 0, 0, 0, 0, 0, 0, 0, 0, 0, 0, 0, 0, 0, 0, 0, 0, 0, 0, 0, 0, 0, 0, 0, 0, 0, 0, 0, 0, 0, 0, 0, 0, 0, 0, 0, 0, 0, 0, 0, 0, 0, 0, 0, 0, 0, 0, 0, 0, 0, 0, 0, 0, 0, 0, 0, 0, 0, 0, 0, 0, 0, 0, 0, 0, 0, 0, 0, 0, 0, 0, 0, 0, 0, 0, 0, 0, 0, 0, 0, 0, 0, 0, 0, 0, 0, 0, 0, 0, 0, 0, 0, 0, 0, 0, 0, 0, 0, 0, 0, 0, 0, 0, 0, 0, 0, 0, 0, 0, 0, 0, 0, 0, 0, 0, 0, 0, 1, 0, 0, 0, 0, 0, 0, 0, 0, 0, 0, 0, 0, 0, 0, 0, 0, 0, 0, 0, 0, 0, 0, 0, 0, 0, 0, 0, 0, 0, 1, 0, 0, 0, 0, 0, 0, 0, 0, 0, 0, 0, 0, 0, 0, 0, 0, 0, 0, 0, 0, 0, 0, 0, 0, 0, 0, 0, 0, 0, 0, 0, 0, 0, 0, 0, 0, 0, 0, 0, 0, 0, 0, 0, 0, 0, 0, 0, 0, 0, 0, 0, 0, 0, 0, 0, 0, 0, 0, 0, 0, 0, 0, 0, 0, 0, 0, 0, 0, 0, 0, 0, 0, 0, 0, 0, 0, 0, 0, 0, 0, 0, 0, 0, 0, 0, 0, 0, 0, 0, 0, 0, 0, 0, 0, 0, 0, 0, 0, 0, 0, 0, 0, 0, 0, 0, 0, 0, 0, 0, 0, 0, 0, 0, 0, 0, 0, 0, 0, 0, 0, 0, 0, 0, 0, 0, 0, 0, 0, 0, 0, 0, 0, 0, 0, 0, 0, 0, 0, 0, 0, 0, 0, 0, 0, 0, 0, 0, 0, 0, 0, 0, 0, 0, 0, 0, 0, 0, 0, 0, 0, 0, 0, 0, 0, 0, 0, 0, 0, 0, 0, 0, 0, 0, 0, 0, 0, 0, 0, 0, 0, 0, 0, 0, 0, 0, 0, 0, 0, 0, 0, 0, 0, 0, 0, 0, 0, 0, 0, 0, 0, 0, 0, 0, 0, 0, 0, 0, 0, 0, 0, 0, 0, 0, 0, 0, 0, 0, 0, 0, 0, 0, 0, 0, 0, 0, 0, 0, 0, 0, 0, 0, 0, 0, 0, 0, 0, 0, 0, 0, 0, 0, 0, 0, 0, 0, 0, 0, 0, 0, 0, 0, 0, 0, 0, 0, 0, 0, 0, 0, 0, 0, 0, 0, 0, 0, 0, 0, 0, 0, 0, 0, 0, 0, 0, 0, 0, 0, 0, 0, 0, 0, 0, 0, 0, 0, 0, 0, 0, 0, 0, 0, 0, 0, 0, 0, 0, 0, 0, 0, 0, 0, 0, 0, 0, 0, 0, 0, 0, 0, 0, 0, 0, 0, 0, 0, 0, 0, 0, 0, 0, 0, 0, 0, 0, 0, 0, 0, 0, 0, 0, 0, 0, 0, 0, 0, 0, 0, 0, 0, 0, 0, 0, 0, 0, 0, 0, 0, 0, 0, 0, 0, 0, 0, 0, 0, 0, 0, 0, 0, 0, 0, 0, 0, 0, 0, 0, 0, 0, 0, 0, 0, 0, 0, 0, 0, 0, 0, 0, 0, 1, 0, 0, 0, 0, 0, 0, 0, 0, 0, 0, 0, 0, 0, 0, 0, 0, 0, 0, 0, 0, 0, 0, 0, 0, 0, 0, 0, 0, 0, 0, 0, 0, 0, 0, 0, 0, 0, 0, 0, 0, 0, 0, 0, 0, 0, 0, 0, 0, 0, 0, 0, 0, 0, 0, 0, 0, 0, 0, 0, 0, 0, 0, 0, 0, 0, 0, 0, 0, 0, 0, 0, 0, 0, 0, 0, 0, 0, 0, 0, 0, 0, 0, 0, 0, 0, 0, 0, 0, 0, 0, 0, 0, 0, 0, 0, 0, 0, 0, 0, 0, 0, 0, 0, 0, 0, 0, 0, 0, 0, 0, 0, 0, 0, 0, 0, 0, 0, 0, 0, 0, 0, 0, 0, 0, 0, 0, 0, 0, 0, 0, 0, 0, 0, 0, 0, 0, 0, 0, 0, 0, 0, 0, 0, 0, 0, 0, 0, 0, 0, 0, 0, 0, 0, 0, 0, 0, 0, 0, 0, 0, 0, 0, 0, 0, 0, 0, 0, 0, 0, 0, 0, 0, 0, 0, 0, 0, 0, 0, 0, 0, 0, 0, 0, 0, 0, 0, 0, 0, 0, 0, 0, 0, 0, 0, 0, 0, 0, 0, 0, 0, 0, 0, 0, 0, 0, 0, 0, 0, 0, 0, 0, 0, 0, 0, 0, 0, 0, 0, 0, 0, 0, 0, 0, 0, 0, 0, 0, 0, 0, 0, 0, 0, 0, 0, 0, 0, 0, 0, 0, 0, 0, 0, 0, 0, 0, 0, 0, 0, 0, 0, 0, 0, 0, 1, 0, 0, 0, 0, 0, 0, 0, 0, 0, 0, 0, 0, 0, 0, 0, 0, 0, 0, 0, 0, 0, 0, 0, 0, 0, 0, 0, 0, 0, 0, 0, 0, 0, 0, 0, 0, 0, 0, 0, 0, 0, 0, 0, 0, 0, 0, 0, 0, 0, 0, 0, 0, 0, 0, 0, 0, 0, 0, 0, 0, 0, 0, 0, 0, 0, 0, 0, 0, 0, 0, 0, 0, 0, 0, 0, 0, 0, 0, 0, 0, 0, 0, 0, 0, 0, 0, 1, 0, 0, 0, 0, 0, 0, 0, 0, 0, 0, 0, 0, 0, 0, 0, 0, 0, 0, 0, 0, 0, 0, 0, 0, 0, 0, 0, 0, 0, 0, 0, 0, 0, 0, 0, 0, 0, 0, 0, 0, 0, 0, 0, 0, 0, 0, 0, 0, 0, 0, 0, 0, 0, 0, 0, 0, 0, 0, 0, 0, 0, 0, 0, 0, 0, 0, 0, 0, 0, 0, 0, 0, 0, 0, 0, 0, 0, 0, 0, 0, 0, 0, 0, 0, 0, 0, 0, 0, 0, 0, 0, 0, 0, 0, 0, 0, 0, 0, 0, 0, 0, 0, 0, 0, 0, 0, 0, 0, 0, 0, 0, 0, 0, 0, 0, 0, 0, 0, 0, 0, 0, 0, 0, 0, 0, 0, 0, 0, 0, 0, 0, 0, 0, 0, 0, 0, 0, 0, 0, 0, 0, 0, 0, 0, 0, 0, 0, 0, 0, 0, 0, 0, 0, 0, 0, 0, 0, 0, 0, 0, 0, 0, 0, 0, 0, 0, 0, 0, 0, 0, 0, 0, 0, 0, 0, 0, 0, 0, 0, 0, 0, 0, 0, 0, 0, 0, 0, 0, 0, 0, 0, 0, 0, 0, 0, 0, 0, 0, 0, 0, 0, 0, 0, 0, 0, 0, 0, 0, 0, 0, 0, 0, 0, 0, 0, 0, 0, 0, 0, 0, 0, 0, 0, 0, 0, 0, 0, 0, 0, 0, 0, 0, 0, 0, 0, 0, 0, 0, 0, 0, 0, 0, 0, 0, 0, 0, 0, 0, 0, 0, 0, 0, 1, 0, 0, 0, 0, 0, 0, 0, 0, 0, 0, 0, 0, 0, 0, 0, 0, 0, 0, 0, 0, 0, 0, 0, 0, 0, 0, 0, 0, 0, 0, 0, 0, 0, 0, 0, 0, 0, 0, 0, 0, 0, 0, 0, 0, 0, 0, 0, 0, 0, 0, 0, 0, 0, 0, 0, 1, 0, 0, 0, 0, 0, 0, 0, 0, 0, 0, 0, 0, 0, 0, 0, 0, 0, 0, 0, 0, 0, 0, 0, 0, 0, 0, 0, 0, 0, 0, 0, 0, 0, 0, 0, 0, 0, 0, 0, 0, 0, 0, 0, 0, 0, 0, 0, 0, 0, 0, 0, 0, 0, 0, 0, 0, 0, 0, 0, 0, 0, 0, 0, 0, 0, 0, 0, 0, 0, 0, 0, 0, 0, 0, 0, 0, 0, 0, 0, 0, 0, 0, 0, 0, 0, 0, 0, 0, 0, 0, 0, 0, 0, 0, 0, 0, 0, 0, 0, 0, 0, 0, 0, 0, 0, 0, 0, 0, 0, 0, 0, 0, 0, 0, 0, 0, 0, 0, 0, 0, 0, 0, 0, 0, 0, 0, 0, 0, 0, 0, 0, 0, 0, 0, 0, 0, 0, 0, 0, 0, 0, 0, 0, 0, 0, 0, 0, 0, 0, 0, 0, 0, 0, 0, 0, 0, 0, 0, 0, 0, 0, 0, 0, 0, 0, 0, 0, 0, 0, 0, 0, 0, 0, 0, 0, 0, 0, 0, 0, 0, 0, 0, 0, 0, 0, 0, 0, 0, 0, 0, 0, 0, 0, 0, 0, 0, 0, 0, 0, 0, 0, 0, 0, 0, 0, 0, 0, 0, 0, 0, 0, 0, 0, 0, 0, 0, 0, 0, 0, 0, 0, 0, 0, 0, 0, 0, 0, 0, 0, 0, 0, 0, 0, 0, 0, 0, 0, 0, 0, 0, 0, 0, 0, 0, 0, 0, 0, 0, 0, 0, 0, 0, 0, 0, 0, 0, 0, 0, 0, 0, 0, 0, 0, 0, 0, 0, 0, 0, 0, 0, 0, 0, 0, 0, 0, 0, 0, 0, 0, 0, 0, 0, 0, 0, 0, 0, 0, 0, 0, 0, 0, 0, 0, 0, 0, 0, 0, 0, 0, 0, 0, 0, 0, 0, 0, 0, 0, 0, 0, 0, 0, 0, 0, 0, 0, 0, 0, 0, 0, 0, 0, 0, 0, 0, 0, 0, 0, 0, 0, 0, 0, 0, 0, 0, 0, 0, 0, 0, 0, 0, 0, 0, 0, 0, 0, 0, 0, 0, 0, 0, 0, 0, 0, 0, 0, 0, 0, 0, 0, 0, 0, 0, 0, 0, 0, 0, 0, 0, 0, 0, 0, 0, 0, 0, 0, 0, 0, 0, 0, 0, 0, 0, 0, 0, 0, 0, 0, 0, 0, 0, 0, 0, 0, 0, 0, 0, 0, 0, 0, 0, 0, 0, 0, 0, 0, 0, 0, 0, 0, 0, 0, 0, 0, 0, 0, 0, 0, 0, 0, 0, 0, 0, 0, 0, 0, 0, 0, 0, 0, 0, 0, 0, 0, 0, 0, 0, 0, 0, 0, 0, 0, 0, 0, 0, 0, 0, 0, 0, 0, 0, 0, 0, 0, 0, 0, 0, 0, 0, 0, 0, 0, 0, 0, 0, 0, 0, 0, 0, 0, 0, 0, 0, 0, 0, 0, 0, 0, 0, 0, 0, 0, 0, 0, 0, 0, 0, 0, 0, 0, 0, 0, 0, 0, 0, 0, 0, 0, 0, 0, 0, 0, 0, 0, 0, 0, 0, 0, 0, 0, 0, 0, 0, 0, 0, 0, 0, 0, 0, 0, 0, 0, 0, 0, 0, 0, 0, 0, 0, 0, 0, 0, 0, 0, 0, 0, 0, 0, 0, 0, 0, 0, 0, 0, 0, 0, 0, 0, 0, 0, 0, 0, 0, 0, 0, 0, 0, 0, 0, 0, 0, 0, 0, 0, 0, 0, 0, 0, 0, 0, 0, 0, 0, 0, 0, 0, 0, 0, 0, 0, 0, 0, 0, 0, 0, 0, 0, 0, 0, 0, 0, 0, 0, 0, 0, 0, 0, 0, 0, 0, 0, 0, 0, 0, 0, 0, 0, 0, 0, 0, 0, 0, 0, 0, 0, 0, 0, 0, 0, 0, 0, 0, 0, 0, 0, 0, 0, 0, 0, 0, 0, 0, 0, 0, 0, 0, 0, 0, 0, 0, 0, 0, 0, 0, 0, 0, 0, 0, 0, 0, 0, 0, 0, 0, 0, 0, 0, 0, 0, 0, 0, 0, 0, 0, 0, 0, 0, 0, 0, 0, 0, 0, 0, 0, 0, 0, 0, 0, 0, 0, 0, 0, 1, 0, 0, 0, 0, 0, 0, 0, 0, 0, 0, 0, 0, 0, 0, 0, 0, 0, 0, 0, 0, 0, 0, 0, 0, 0, 0, 0, 0, 0, 0, 0, 0, 0, 0, 0, 0, 0, 0, 0, 0, 0, 0, 0, 0, 0, 0, 0, 0, 0, 0, 0, 0, 0, 0, 0, 0, 0, 0, 0, 0, 0, 0, 0, 0, 0, 0, 0, 0, 0, 0, 0, 0, 0, 0, 1, 0, 0, 0, 0, 0, 0, 0, 0, 0, 0, 0, 0, 0, 0, 0, 0, 0, 0, 0, 0, 1, 0, 0, 1, 0, 0, 0, 0, 0, 0, 0, 0, 0, 0, 0, 0, 0, 0, 0, 0, 0, 0, 0, 0, 0, 0, 0, 0, 0, 0, 0, 0, 0, 0, 0, 0, 0, 0, 0, 0, 0, 0, 0, 0, 0, 0, 0, 0, 0, 0, 0, 0, 0, 0, 0, 0, 0, 0, 0, 0, 0, 0, 0, 0, 0, 0, 0, 0, 0, 0, 0, 0, 0, 0, 0, 0, 0, 0, 0, 0, 0, 0, 0, 0, 0, 0, 0, 0, 0, 0, 0, 0, 0, 0, 0, 0, 0, 0, 0, 0, 0, 0, 0, 0, 0, 0, 0, 0, 0, 0, 0, 0, 0, 0, 0, 0, 0, 0, 0, 0, 0, 0, 0, 0, 0, 0, 0, 0, 0, 0, 0, 0, 0, 0, 0, 0, 0, 0, 0, 0, 0, 0, 0, 0, 0, 0, 0, 0, 0, 0, 0, 0, 0, 0, 0, 0, 0, 0, 0, 0, 0, 0, 0, 0, 0, 0, 0, 0, 0, 0, 0, 0, 0, 0, 0, 0, 0, 0, 0, 0, 0, 0, 0, 0, 0, 0, 0, 0, 0, 0, 0, 0, 0, 0, 0, 0, 0, 0, 0, 0, 0, 0, 0, 0, 0, 0, 0, 0, 0, 0, 0, 0, 0, 0, 0, 0, 0, 0, 0, 0, 0, 0, 0, 0, 0, 0, 0, 0, 0, 0, 0, 0, 0, 0, 0, 0, 0, 0, 0, 0, 0, 0, 0, 0, 0, 0, 0, 0, 0, 0, 0, 0, 0, 0, 0, 0, 0, 0, 0, 0, 0, 0, 0, 0, 0, 0, 0, 0, 0, 0, 0, 0, 0, 0, 0, 0, 0, 0, 0, 0, 0, 0, 0, 0, 0, 0, 0, 0, 0, 0, 0, 0, 0, 0, 0, 0, 0, 0, 0, 0, 0, 0, 0, 0, 0, 0, 0, 0, 0, 0, 0, 0, 0, 0, 0, 0, 0, 0, 0, 0, 0, 0, 0, 0, 0, 0, 0, 0, 0, 0, 0, 0, 0, 0, 0, 0, 0, 0, 0, 0, 0, 0, 0, 0, 0, 0, 0, 0, 0, 0, 0, 0, 0, 0, 0, 0, 0, 0, 0, 0, 0, 0, 0, 0, 0, 0, 0, 0, 0, 0, 0, 0, 0, 0, 0, 0, 0, 0, 0, 0, 0, 0, 0, 0, 0, 0, 0, 0, 0, 0, 0, 0, 0, 0, 0, 0, 0, 0, 0, 0, 0, 0, 0, 0, 0, 0, 0, 0, 0, 0, 0, 0, 0, 0, 0, 0, 0, 0, 0, 0, 0, 0, 0, 0, 0, 0, 0, 0, 0, 0, 0, 0, 0, 0, 0, 0, 0, 0, 0, 0, 0, 0, 0, 0, 0, 0, 0, 0, 0, 0, 0, 0, 0, 0, 0, 0, 0, 0, 0, 0, 0, 0, 0, 0, 0, 0, 0, 0, 0, 0, 1, 0, 0, 0, 0, 0, 0, 0, 0, 0, 0, 0, 0, 0, 0, 0, 0, 0, 0, 0, 0, 0, 0, 0, 0, 0, 0, 0, 0, 0, 0, 0, 0, 0, 0, 0, 0, 0, 0, 0, 0, 0, 0, 0, 0, 0, 0, 0, 0, 0, 0, 0, 0, 0, 0, 0, 0, 0, 0, 0, 0, 0, 0, 0, 0, 0, 0, 0, 0, 0, 0, 0, 0, 0, 0, 0, 0, 0, 0, 0, 0, 0, 0, 0, 0, 0, 0, 0, 0, 0, 0, 0, 0, 0, 0, 0, 0, 0, 0, 0, 0, 0, 0, 0, 0, 0, 0, 0, 0, 0, 0, 0, 0, 0, 0, 0, 0, 0, 0, 0, 0, 0, 0, 0, 0, 0, 0, 0, 0, 0, 0, 0, 0, 0, 0, 0, 0, 0, 0, 0, 0, 0, 0, 0, 0, 0, 0, 0, 0, 0, 0, 0, 0, 0, 0, 0, 0, 0, 0, 0, 0, 0, 0, 0, 0, 0, 0, 0, 0, 0, 0, 0, 0, 0, 0, 0, 0, 0, 0, 0, 0, 0, 0, 0, 0, 0, 0, 0, 0, 0, 0, 0, 0, 0, 0, 0, 0, 0, 0, 0, 0, 0, 0, 0, 0, 0, 0, 0, 0, 0, 0, 0, 0, 0, 0, 0, 0, 0, 0, 0, 0, 0, 0, 0, 0, 0, 0, 0, 0, 0, 0, 0, 0, 0, 0, 0, 0, 0, 0, 0, 0, 0, 0, 0, 0, 0, 0, 0, 0, 0, 0, 0, 0, 0, 0, 0, 0, 0, 0, 0, 0, 0, 0, 0, 0, 0, 0, 0, 0, 0, 0, 0, 0, 0, 0, 0, 0, 0, 0, 0, 0, 0, 0, 0, 0, 0, 0, 0, 0, 0, 0, 0, 0, 0, 0, 0, 0, 0, 0, 0, 0, 0, 0, 0, 0, 0, 0, 0, 0, 0, 0, 0, 0, 0, 0, 0, 0, 0, 0, 0, 0, 0, 0, 0, 0, 0, 0, 0, 0, 0, 0, 0, 0, 0, 0, 0, 0, 0, 0, 0, 0, 0, 0, 0, 0, 0, 0, 0, 0, 0, 0, 0, 0, 0, 0, 0, 0, 0, 0, 0, 0, 0, 0, 0, 0, 0, 0, 0, 0, 0, 0, 0, 0, 0, 0, 0, 0, 0, 0, 0, 0, 0, 0, 0, 0, 0, 0, 0, 0, 0, 0, 0, 0, 0, 0, 0, 0, 0, 0, 0, 0, 0, 0, 0, 0, 0, 0, 0, 0, 0, 0, 0, 0, 0, 0, 0, 0, 0, 0, 0, 0, 0, 0, 0, 0, 0, 0, 0, 0, 0, 0, 0, 0, 0, 0, 0, 0, 0, 0, 0, 0, 0, 0, 0, 0, 0, 0, 0, 0, 0, 0, 0, 0, 0, 0, 0, 0, 0, 0, 0, 0, 0, 0, 0, 0, 0, 0, 0, 0, 0, 0, 0, 0, 0, 0, 0, 0, 0, 0, 0, 0, 0, 0, 0, 0, 0, 0, 0, 0, 0, 0, 0, 0, 0, 0, 0, 0, 0, 0, 0, 0, 0, 0, 0, 0, 0, 0, 0, 0, 0, 0, 0, 0, 1, 0, 0, 0, 0, 0, 0, 0, 0, 0, 0, 0, 0, 0, 0, 0, 0, 0, 0, 0, 0, 0, 0, 0, 0, 0, 0, 0, 0, 0, 0, 0, 0, 0, 0, 0, 2, 0, 0, 0, 0, 0, 0, 0, 0, 0, 0, 0, 0, 0, 0, 0, 0, 0, 0, 0, 0, 0, 0, 0, 0, 0, 0, 0, 0, 0, 0, 0, 0, 0, 0, 0, 0, 0, 0, 0, 0, 1, 0, 0, 0, 0, 0, 0, 0, 0, 0, 0, 0, 0, 0, 0, 0, 0, 0, 0, 0, 0, 0, 0, 0, 0, 0, 0, 0, 0, 0, 0, 0, 0, 0, 0, 0, 0, 0, 0, 0, 0, 0, 0, 0, 0, 0, 0, 0, 0, 0, 0, 0, 0, 0, 0, 0, 0, 0, 0, 0, 0, 0, 0, 0, 0, 0, 0, 0, 0, 0, 0, 0, 0, 0, 0, 0, 0, 0, 0, 0, 0, 0, 0, 0, 0, 0, 0, 0, 0, 0, 0, 0, 0, 0, 0, 0, 0, 0, 0, 0, 0, 0, 0, 0, 0, 0, 0, 0, 0, 0, 0, 0, 0, 0, 0, 0, 0, 0, 0, 0, 0, 0, 0, 0, 0, 0, 0, 0, 0, 0, 0, 0, 0, 0, 0, 0, 0, 0, 0, 0, 0, 0, 0, 0, 0, 0, 0, 0, 0, 0, 0, 0, 0, 0, 0, 0, 0, 0, 0, 0, 0, 0, 0, 0, 0, 0, 0, 0, 0, 0, 0, 0, 0, 0, 0, 0, 0, 0, 0, 0, 0, 0, 0, 0, 0, 0, 0, 0, 0, 0, 0, 0, 0, 0, 0, 0, 0, 0, 0, 0, 0, 0, 0, 0, 0, 0, 0, 0, 0, 0, 0, 0, 0, 0, 0, 0, 0, 0, 0, 0, 0, 0, 0, 0, 0, 0, 0, 0, 0, 0, 0, 0, 0, 0, 0, 0, 0, 0, 0, 0, 0, 0, 0, 0, 0, 0, 0, 0, 0, 0, 0, 0, 0, 0, 0, 0, 0, 0, 0, 0, 0, 0, 0, 0, 0, 0, 0, 0, 0, 0, 0, 0, 0, 0, 0, 0, 0, 0, 0, 0, 0, 0, 0, 0, 0, 0, 0, 0, 0, 0, 0, 0, 0, 0, 0, 0, 0, 0, 0, 0, 0, 0, 0, 0, 0, 0, 0, 0, 0, 0, 0, 0, 0, 0, 0, 0, 0, 0, 0, 0, 0, 0, 0, 0, 0, 0, 0, 0, 0, 0, 0, 0, 0, 0, 0, 0, 0, 0, 0, 0, 0, 0, 0, 0, 0, 0, 0, 0, 0, 0, 0, 0, 0, 0, 0, 0, 0, 0, 0, 0, 0, 0, 0, 0, 0, 0, 0, 0, 0, 0, 0, 0, 0, 0, 0, 0, 0, 0, 0, 0, 0, 0, 0, 0, 0, 0, 0, 0, 0, 0, 0, 0, 0, 0, 0, 0, 0, 0, 0, 0, 0, 0, 0, 0, 0, 0, 0, 0, 0, 0, 0, 0, 0, 0, 0, 0, 0, 0, 0, 0, 0, 0, 0, 0, 0, 0, 0, 0, 0, 0, 0, 0, 0, 0, 0, 0, 0, 0, 0, 0, 0, 0, 0, 0, 0, 0, 0, 0, 0, 0, 0, 0, 0, 0, 0, 0, 0, 0, 0, 0, 0, 0, 0, 0, 0, 0, 0, 0, 0, 0, 0, 0, 0, 0, 0, 0, 0, 0, 0, 0, 0, 0, 0, 0, 0, 0, 0, 0, 0, 0, 0, 0, 0, 0, 0, 0, 0, 0, 1, 0, 0, 0, 0, 0, 0, 0, 0, 0, 0, 0, 0, 0, 0, 0, 0, 0, 0, 0, 0, 0, 0, 0, 0, 0, 0, 0, 0, 0, 0, 0, 0, 0, 0, 0, 0, 0, 0, 0, 0, 0, 0, 0, 0, 0, 0, 0, 0, 0, 0, 0, 0, 0, 0, 0, 0, 0, 0, 0, 0, 0, 0, 0, 0, 0, 0, 0, 0, 0, 0, 0, 0, 0, 0, 0, 0, 0, 0, 0, 0, 0, 0, 0, 0, 0, 0, 0, 0, 0, 0, 0, 0, 0, 0, 0, 0, 0, 0, 0, 0, 0, 0, 0, 0, 0, 0, 0, 0, 0, 0, 2, 0, 0, 0, 0, 0, 0, 0, 0, 0, 0, 0, 0, 0, 0, 0, 0, 0, 0, 0, 0, 0, 0, 0, 0, 0, 0, 0, 0, 0, 0, 0, 0, 0, 0, 0, 0, 0, 0, 0, 0, 0, 0, 0, 0, 0, 0, 0, 0, 0, 0, 0, 0, 0, 0, 0, 0, 0, 0, 0, 0, 0, 0, 0, 0, 0, 0, 0, 0, 0, 0, 0, 0, 0, 0, 0, 0, 0, 0, 0, 0, 0, 0, 0, 0, 0, 0, 0, 0, 0, 0, 0, 0, 0, 0, 0, 0, 0, 0, 0, 0, 0, 0, 0, 0, 0, 0, 0, 0, 0, 0, 0, 0, 0, 0, 0, 0, 0, 0, 0, 0, 0, 0, 0, 0, 0, 0, 0, 0, 0, 0, 0, 0, 0, 0, 0, 0, 0, 0, 0, 0, 0, 0, 0, 0, 0, 0, 0, 0, 0, 0, 0, 0, 0, 0, 0, 0, 0, 0, 0, 0, 0, 0, 0, 0, 0, 0, 0, 0, 0, 0, 0, 0, 0, 0, 0, 0, 0, 0, 0, 0, 0, 0, 0, 0, 0, 0, 0, 0, 0, 0, 0, 0, 0, 0, 0, 0, 0, 0, 0, 0, 0, 0, 0, 0, 0, 0, 0, 0, 0, 0, 0, 0, 0, 0, 0, 0, 0, 0, 0, 0, 0, 0, 0, 0, 0, 0, 0, 0, 0, 0, 0, 0, 0, 0, 0, 0, 0, 0, 0, 0, 0, 0, 0, 0, 0, 0, 0, 0, 0, 0, 0, 0, 0, 0, 0, 0, 0, 0, 0, 0, 0, 0, 0, 0, 0, 0, 0, 0, 0, 0, 0, 0, 0, 0, 0, 0, 0, 0, 0, 0, 0, 0, 0, 0, 0, 0, 0, 0, 0, 0, 0, 0, 0, 0, 0, 0, 0, 0, 0, 0, 0, 0, 0, 0, 0, 0, 0, 0, 0, 0, 0, 0, 0, 0, 0, 0, 0, 0, 0, 0, 0, 0, 0, 0, 0, 0, 0, 0, 0, 0, 0, 0, 0, 0, 0, 0, 0, 0, 0, 0, 0, 0, 0, 0, 0, 0, 0, 0, 0, 0, 0, 0, 0, 0, 0, 0, 0, 0, 0, 0, 0, 0, 0, 0, 0, 0, 0, 0, 0, 0, 0, 0, 0, 0, 0, 0, 0, 0, 0, 0, 0, 0, 0, 0, 0, 0, 0, 0, 0, 0, 0, 0, 0, 0, 0, 0, 0, 0, 0, 0, 0, 0, 0, 0, 0, 0, 0, 0, 0, 0, 0, 0, 0, 0, 0, 0, 0, 0, 0, 0, 0, 0, 0, 0, 0, 0, 0, 0, 0, 0, 0, 0, 0, 0, 0, 0, 0, 0, 0, 0, 0, 0, 0, 0, 0, 0, 0, 0, 0, 0, 0, 0, 0, 0, 0, 0, 0, 0, 0, 0, 0, 0, 0, 0, 0, 0, 0, 0, 0, 0, 0, 0, 0, 0, 0, 0, 0, 0, 0, 0, 0, 0, 0, 0, 0, 0, 0, 0, 0, 0, 0, 0, 0, 0, 0, 0, 0, 0, 0, 0, 0, 0, 0, 0, 0, 0, 0, 0, 0, 0, 0, 0, 0, 0, 0, 0, 0, 0, 0, 0, 0, 0, 0, 0, 0, 0, 0, 0, 0, 0, 0, 0, 0, 0, 0, 0, 0, 0, 0, 0, 0, 0, 0, 0, 0, 0, 0, 0, 0, 0, 0, 0, 0, 0, 0, 0, 0, 0, 0, 0, 0, 0, 0, 0, 0, 0, 0, 0, 0, 0, 0, 0, 0, 0, 0, 0, 0, 0, 0, 0, 0, 0, 0, 0, 0, 0, 0, 0, 0, 0, 0, 0, 0, 0, 0, 0, 0, 0, 0, 0, 0, 0, 0, 0, 0, 0, 0, 0, 0, 0, 0, 0, 0, 0, 0, 0, 0, 0, 0, 0, 0, 0, 0, 0, 0, 0, 0, 0, 0, 0, 0, 0, 0, 0, 0, 0, 0, 0, 0, 0, 0, 0, 0, 0, 0, 0, 0, 0, 0, 0, 0, 0, 0, 0, 0, 0, 0, 0, 0, 0, 0, 0, 0, 0, 0, 0, 0, 0, 0, 0, 0, 0, 0, 0, 0, 0, 0, 0, 0, 0, 0, 0, 0, 0, 0, 0, 0, 0, 0, 0, 1, 0, 0, 0, 0, 0, 0, 0, 0, 0, 0, 0, 0, 0, 0, 0, 0, 0, 0, 0, 0, 0, 0, 0, 0, 0, 0, 0, 0, 0, 0, 0, 0, 0, 0, 0, 0, 0, 0, 0, 0, 0, 0, 0, 0, 0, 0, 0, 0, 0, 0, 0, 0, 0, 0, 0, 0, 0, 0, 0, 0, 0, 0, 0, 0, 0, 0, 0, 0, 0, 0, 0, 0, 0, 0, 0, 0, 0, 0, 0, 0, 0, 0, 0, 0, 0, 0, 0, 0, 0, 0, 0, 0, 0, 0, 0, 0, 0, 0, 0, 0, 0, 0, 0, 0, 0, 0, 0, 1, 0, 0, 0, 0, 0, 0, 0, 0, 0, 0, 0, 0, 0, 0, 0, 0, 0, 0, 0, 0, 0, 0, 0, 0, 0, 0, 0, 0, 0, 0, 0, 0, 0, 0, 0, 0, 0, 0, 0, 0, 0, 0, 0, 0, 0, 0, 0, 0, 0, 0, 0, 0, 0, 0, 0, 0, 0, 0, 0, 0, 0, 0, 0, 0, 0, 0, 0, 0, 0, 0, 0, 0, 0, 0, 0, 0, 0, 0, 0, 0, 0, 0, 0, 0, 0, 0, 0, 0, 0, 0, 0, 0, 0, 0, 0, 0, 0, 0, 0, 0, 0, 0, 0, 0, 0, 0, 0, 0, 0, 0, 0, 0, 0, 0, 0, 0, 0, 0, 0, 0, 0, 0, 0, 0, 0, 0, 0, 0, 0, 0, 0, 0, 0, 0, 0, 0, 0, 0, 0, 0, 0, 0, 0, 0, 0, 0, 0, 0, 0, 0, 0, 0, 0, 0, 0, 0, 0, 0, 0, 0, 0, 0, 0, 0, 0, 0, 0, 0, 0, 0, 0, 0, 0, 0, 0, 0, 0, 0, 0, 0, 0, 0, 0, 0, 0, 0, 0, 0, 0, 0, 0, 0, 0, 0, 0, 0, 0, 0, 0, 0, 0, 0, 0, 0, 0, 0, 0, 0, 0, 0, 0, 0, 0, 0, 0, 0, 0, 0, 0, 0, 0, 0, 0, 0, 0, 0, 0, 0, 0, 0, 0, 0, 0, 0, 0, 0, 0, 0, 0, 0, 0, 0, 0, 0, 0, 0, 0, 0, 0, 0, 0, 0, 0, 0, 0, 0, 0, 0, 0, 0, 0, 0, 0, 0, 0, 0, 0, 0, 0, 0, 0, 0, 0, 0, 0, 0, 0, 0, 0, 0, 0, 0, 0, 0, 0, 0, 0, 0, 0, 0, 0, 0, 0, 0, 0, 0, 0, 0, 0, 0, 0, 0, 0, 0, 0, 0, 0, 0, 0, 0, 0, 0, 0, 0, 0, 0, 0, 0, 0, 0, 0, 0, 0, 0, 0, 0, 0, 0, 0, 0, 0, 0, 0, 0, 0, 0, 0, 0, 0, 0, 0, 0, 0, 0, 0, 0, 0, 0, 0, 0, 0, 0, 0, 0, 0, 0, 0, 0, 0, 0, 0, 0, 0, 0, 0, 0, 0, 0, 0, 0, 0, 0, 0, 0, 0, 0, 0, 0, 0, 0, 0, 0, 0, 0, 0, 0, 0, 0, 0, 0, 0, 0, 0, 0, 0, 0, 0, 0, 0, 0, 0, 0, 0, 0, 0, 0, 0, 0, 0, 0, 0, 0, 0, 0, 0, 0, 0, 0, 0, 0, 0, 0, 0, 0, 0, 0, 0, 0, 0, 0, 0, 0, 0, 0, 0, 0, 0, 0, 0, 0, 0, 0, 0, 0, 0, 0, 0, 0, 0, 0, 0, 0, 0, 0, 0, 0, 0, 0, 0, 0, 0, 0, 0, 2, 0, 1, 0]\n"
     ]
    }
   ],
   "source": [
    "test_bow = bow_encoding(test_words, vocabulary)\n",
    "print(test_bow)"
   ]
  },
  {
   "cell_type": "code",
   "execution_count": 40,
   "metadata": {},
   "outputs": [
    {
     "data": {
      "text/plain": [
       "5000"
      ]
     },
     "execution_count": 40,
     "metadata": {},
     "output_type": "execute_result"
    }
   ],
   "source": [
    "len(test_bow)"
   ]
  },
  {
   "cell_type": "markdown",
   "metadata": {},
   "source": [
    "So now we know how to construct a bag of words encoding of a user provided review, how to we send it to our endpoint? First, we need to start the endpoint back up."
   ]
  },
  {
   "cell_type": "code",
   "execution_count": 42,
   "metadata": {},
   "outputs": [
    {
     "name": "stderr",
     "output_type": "stream",
     "text": [
      "WARNING:sagemaker:Parameter image will be renamed to image_uri in SageMaker Python SDK v2.\n",
      "WARNING:sagemaker:Using already existing model: xgboost-2020-06-29-18-22-14-659\n"
     ]
    },
    {
     "name": "stdout",
     "output_type": "stream",
     "text": [
      "-------------!"
     ]
    }
   ],
   "source": [
    "xgb_predictor = xgb.deploy(initial_instance_count = 1, instance_type = 'ml.m4.xlarge')"
   ]
  },
  {
   "cell_type": "markdown",
   "metadata": {},
   "source": [
    "At this point we could just do the same thing that we did earlier when we tested our deployed model and send `test_bow` to our endpoint using the `xgb_predictor` object. However, when we eventually construct our Lambda function we won't have access to this object, so how do we call a SageMaker endpoint?\n",
    "\n",
    "It turns out that Python functions that are used in Lambda have access to another Amazon library called `boto3`. This library provides an API for working with Amazon services, including SageMaker. To start with, we need to get a handle to the SageMaker runtime."
   ]
  },
  {
   "cell_type": "code",
   "execution_count": 43,
   "metadata": {},
   "outputs": [],
   "source": [
    "import boto3\n",
    "\n",
    "runtime = boto3.Session().client('sagemaker-runtime')"
   ]
  },
  {
   "cell_type": "markdown",
   "metadata": {},
   "source": [
    "And now that we have access to the SageMaker runtime, we can ask it to make use of (invoke) an endpoint that has already been created. However, we need to provide SageMaker with the name of the deployed endpoint. To find this out we can print it out using the `xgb_predictor` object."
   ]
  },
  {
   "cell_type": "code",
   "execution_count": 44,
   "metadata": {},
   "outputs": [
    {
     "data": {
      "text/plain": [
       "'xgboost-2020-06-29-18-22-14-659'"
      ]
     },
     "execution_count": 44,
     "metadata": {},
     "output_type": "execute_result"
    }
   ],
   "source": [
    "xgb_predictor.endpoint"
   ]
  },
  {
   "cell_type": "markdown",
   "metadata": {},
   "source": [
    "Using the SageMaker runtime and the name of our endpoint, we can invoke the endpoint and send it the `test_bow` data."
   ]
  },
  {
   "cell_type": "code",
   "execution_count": 45,
   "metadata": {},
   "outputs": [
    {
     "ename": "ParamValidationError",
     "evalue": "Parameter validation failed:\nInvalid type for parameter Body, value: [0, 0, 0, 0, 0, 0, 0, 0, 0, 0, 0, 0, 0, 0, 0, 0, 0, 0, 0, 0, 0, 0, 0, 0, 0, 0, 0, 0, 0, 0, 0, 0, 0, 0, 0, 0, 0, 0, 0, 0, 0, 0, 0, 0, 0, 0, 0, 0, 0, 0, 0, 0, 0, 0, 0, 0, 0, 0, 0, 0, 0, 0, 0, 0, 0, 0, 0, 0, 0, 0, 0, 0, 0, 0, 0, 0, 0, 0, 0, 0, 0, 0, 0, 0, 0, 0, 0, 0, 0, 0, 0, 0, 0, 0, 0, 0, 0, 0, 0, 0, 0, 0, 0, 0, 0, 0, 0, 0, 0, 0, 0, 0, 0, 0, 0, 0, 0, 0, 0, 0, 0, 0, 0, 0, 0, 0, 0, 0, 0, 0, 0, 0, 0, 0, 0, 0, 0, 0, 0, 0, 0, 0, 0, 0, 0, 0, 0, 0, 0, 0, 0, 0, 0, 0, 0, 0, 0, 0, 0, 0, 0, 0, 0, 0, 0, 0, 0, 0, 0, 0, 0, 0, 0, 0, 0, 0, 0, 0, 0, 0, 0, 0, 0, 0, 0, 0, 0, 0, 0, 0, 0, 0, 0, 0, 0, 0, 0, 0, 0, 0, 0, 0, 0, 0, 0, 0, 0, 0, 0, 0, 0, 0, 0, 0, 0, 0, 0, 0, 0, 0, 0, 0, 0, 0, 0, 0, 1, 0, 0, 0, 0, 0, 0, 0, 0, 0, 0, 0, 0, 0, 0, 0, 0, 0, 0, 0, 0, 0, 0, 0, 0, 0, 0, 0, 0, 0, 1, 0, 0, 0, 0, 0, 0, 0, 0, 0, 0, 0, 0, 0, 0, 0, 0, 0, 0, 0, 0, 0, 0, 0, 0, 0, 0, 0, 0, 0, 0, 0, 0, 0, 0, 0, 0, 0, 0, 0, 0, 0, 0, 0, 0, 0, 0, 0, 0, 0, 0, 0, 0, 0, 0, 0, 0, 0, 0, 0, 0, 0, 0, 0, 0, 0, 0, 0, 0, 0, 0, 0, 0, 0, 0, 0, 0, 0, 0, 0, 0, 0, 0, 0, 0, 0, 0, 0, 0, 0, 0, 0, 0, 0, 0, 0, 0, 0, 0, 0, 0, 0, 0, 0, 0, 0, 0, 0, 0, 0, 0, 0, 0, 0, 0, 0, 0, 0, 0, 0, 0, 0, 0, 0, 0, 0, 0, 0, 0, 0, 0, 0, 0, 0, 0, 0, 0, 0, 0, 0, 0, 0, 0, 0, 0, 0, 0, 0, 0, 0, 0, 0, 0, 0, 0, 0, 0, 0, 0, 0, 0, 0, 0, 0, 0, 0, 0, 0, 0, 0, 0, 0, 0, 0, 0, 0, 0, 0, 0, 0, 0, 0, 0, 0, 0, 0, 0, 0, 0, 0, 0, 0, 0, 0, 0, 0, 0, 0, 0, 0, 0, 0, 0, 0, 0, 0, 0, 0, 0, 0, 0, 0, 0, 0, 0, 0, 0, 0, 0, 0, 0, 0, 0, 0, 0, 0, 0, 0, 0, 0, 0, 0, 0, 0, 0, 0, 0, 0, 0, 0, 0, 0, 0, 0, 0, 0, 0, 0, 0, 0, 0, 0, 0, 0, 0, 0, 0, 0, 0, 0, 0, 0, 0, 0, 0, 0, 0, 0, 0, 0, 0, 0, 0, 0, 0, 0, 0, 0, 0, 0, 0, 0, 0, 0, 0, 0, 0, 0, 0, 0, 0, 0, 0, 0, 0, 0, 0, 0, 0, 0, 0, 0, 0, 0, 0, 0, 0, 0, 0, 0, 0, 0, 0, 0, 0, 0, 0, 0, 0, 0, 0, 0, 0, 0, 0, 0, 0, 0, 0, 0, 0, 0, 0, 0, 0, 0, 0, 0, 0, 0, 0, 0, 0, 0, 0, 0, 0, 0, 0, 0, 0, 0, 0, 0, 0, 0, 0, 0, 0, 0, 0, 0, 0, 0, 0, 0, 0, 0, 0, 0, 0, 0, 0, 0, 0, 0, 0, 0, 0, 0, 1, 0, 0, 0, 0, 0, 0, 0, 0, 0, 0, 0, 0, 0, 0, 0, 0, 0, 0, 0, 0, 0, 0, 0, 0, 0, 0, 0, 0, 0, 0, 0, 0, 0, 0, 0, 0, 0, 0, 0, 0, 0, 0, 0, 0, 0, 0, 0, 0, 0, 0, 0, 0, 0, 0, 0, 0, 0, 0, 0, 0, 0, 0, 0, 0, 0, 0, 0, 0, 0, 0, 0, 0, 0, 0, 0, 0, 0, 0, 0, 0, 0, 0, 0, 0, 0, 0, 0, 0, 0, 0, 0, 0, 0, 0, 0, 0, 0, 0, 0, 0, 0, 0, 0, 0, 0, 0, 0, 0, 0, 0, 0, 0, 0, 0, 0, 0, 0, 0, 0, 0, 0, 0, 0, 0, 0, 0, 0, 0, 0, 0, 0, 0, 0, 0, 0, 0, 0, 0, 0, 0, 0, 0, 0, 0, 0, 0, 0, 0, 0, 0, 0, 0, 0, 0, 0, 0, 0, 0, 0, 0, 0, 0, 0, 0, 0, 0, 0, 0, 0, 0, 0, 0, 0, 0, 0, 0, 0, 0, 0, 0, 0, 0, 0, 0, 0, 0, 0, 0, 0, 0, 0, 0, 0, 0, 0, 0, 0, 0, 0, 0, 0, 0, 0, 0, 0, 0, 0, 0, 0, 0, 0, 0, 0, 0, 0, 0, 0, 0, 0, 0, 0, 0, 0, 0, 0, 0, 0, 0, 0, 0, 0, 0, 0, 0, 0, 0, 0, 0, 0, 0, 0, 0, 0, 0, 0, 0, 0, 0, 0, 0, 0, 0, 0, 1, 0, 0, 0, 0, 0, 0, 0, 0, 0, 0, 0, 0, 0, 0, 0, 0, 0, 0, 0, 0, 0, 0, 0, 0, 0, 0, 0, 0, 0, 0, 0, 0, 0, 0, 0, 0, 0, 0, 0, 0, 0, 0, 0, 0, 0, 0, 0, 0, 0, 0, 0, 0, 0, 0, 0, 0, 0, 0, 0, 0, 0, 0, 0, 0, 0, 0, 0, 0, 0, 0, 0, 0, 0, 0, 0, 0, 0, 0, 0, 0, 0, 0, 0, 0, 0, 0, 1, 0, 0, 0, 0, 0, 0, 0, 0, 0, 0, 0, 0, 0, 0, 0, 0, 0, 0, 0, 0, 0, 0, 0, 0, 0, 0, 0, 0, 0, 0, 0, 0, 0, 0, 0, 0, 0, 0, 0, 0, 0, 0, 0, 0, 0, 0, 0, 0, 0, 0, 0, 0, 0, 0, 0, 0, 0, 0, 0, 0, 0, 0, 0, 0, 0, 0, 0, 0, 0, 0, 0, 0, 0, 0, 0, 0, 0, 0, 0, 0, 0, 0, 0, 0, 0, 0, 0, 0, 0, 0, 0, 0, 0, 0, 0, 0, 0, 0, 0, 0, 0, 0, 0, 0, 0, 0, 0, 0, 0, 0, 0, 0, 0, 0, 0, 0, 0, 0, 0, 0, 0, 0, 0, 0, 0, 0, 0, 0, 0, 0, 0, 0, 0, 0, 0, 0, 0, 0, 0, 0, 0, 0, 0, 0, 0, 0, 0, 0, 0, 0, 0, 0, 0, 0, 0, 0, 0, 0, 0, 0, 0, 0, 0, 0, 0, 0, 0, 0, 0, 0, 0, 0, 0, 0, 0, 0, 0, 0, 0, 0, 0, 0, 0, 0, 0, 0, 0, 0, 0, 0, 0, 0, 0, 0, 0, 0, 0, 0, 0, 0, 0, 0, 0, 0, 0, 0, 0, 0, 0, 0, 0, 0, 0, 0, 0, 0, 0, 0, 0, 0, 0, 0, 0, 0, 0, 0, 0, 0, 0, 0, 0, 0, 0, 0, 0, 0, 0, 0, 0, 0, 0, 0, 0, 0, 0, 0, 0, 0, 0, 0, 0, 0, 1, 0, 0, 0, 0, 0, 0, 0, 0, 0, 0, 0, 0, 0, 0, 0, 0, 0, 0, 0, 0, 0, 0, 0, 0, 0, 0, 0, 0, 0, 0, 0, 0, 0, 0, 0, 0, 0, 0, 0, 0, 0, 0, 0, 0, 0, 0, 0, 0, 0, 0, 0, 0, 0, 0, 0, 1, 0, 0, 0, 0, 0, 0, 0, 0, 0, 0, 0, 0, 0, 0, 0, 0, 0, 0, 0, 0, 0, 0, 0, 0, 0, 0, 0, 0, 0, 0, 0, 0, 0, 0, 0, 0, 0, 0, 0, 0, 0, 0, 0, 0, 0, 0, 0, 0, 0, 0, 0, 0, 0, 0, 0, 0, 0, 0, 0, 0, 0, 0, 0, 0, 0, 0, 0, 0, 0, 0, 0, 0, 0, 0, 0, 0, 0, 0, 0, 0, 0, 0, 0, 0, 0, 0, 0, 0, 0, 0, 0, 0, 0, 0, 0, 0, 0, 0, 0, 0, 0, 0, 0, 0, 0, 0, 0, 0, 0, 0, 0, 0, 0, 0, 0, 0, 0, 0, 0, 0, 0, 0, 0, 0, 0, 0, 0, 0, 0, 0, 0, 0, 0, 0, 0, 0, 0, 0, 0, 0, 0, 0, 0, 0, 0, 0, 0, 0, 0, 0, 0, 0, 0, 0, 0, 0, 0, 0, 0, 0, 0, 0, 0, 0, 0, 0, 0, 0, 0, 0, 0, 0, 0, 0, 0, 0, 0, 0, 0, 0, 0, 0, 0, 0, 0, 0, 0, 0, 0, 0, 0, 0, 0, 0, 0, 0, 0, 0, 0, 0, 0, 0, 0, 0, 0, 0, 0, 0, 0, 0, 0, 0, 0, 0, 0, 0, 0, 0, 0, 0, 0, 0, 0, 0, 0, 0, 0, 0, 0, 0, 0, 0, 0, 0, 0, 0, 0, 0, 0, 0, 0, 0, 0, 0, 0, 0, 0, 0, 0, 0, 0, 0, 0, 0, 0, 0, 0, 0, 0, 0, 0, 0, 0, 0, 0, 0, 0, 0, 0, 0, 0, 0, 0, 0, 0, 0, 0, 0, 0, 0, 0, 0, 0, 0, 0, 0, 0, 0, 0, 0, 0, 0, 0, 0, 0, 0, 0, 0, 0, 0, 0, 0, 0, 0, 0, 0, 0, 0, 0, 0, 0, 0, 0, 0, 0, 0, 0, 0, 0, 0, 0, 0, 0, 0, 0, 0, 0, 0, 0, 0, 0, 0, 0, 0, 0, 0, 0, 0, 0, 0, 0, 0, 0, 0, 0, 0, 0, 0, 0, 0, 0, 0, 0, 0, 0, 0, 0, 0, 0, 0, 0, 0, 0, 0, 0, 0, 0, 0, 0, 0, 0, 0, 0, 0, 0, 0, 0, 0, 0, 0, 0, 0, 0, 0, 0, 0, 0, 0, 0, 0, 0, 0, 0, 0, 0, 0, 0, 0, 0, 0, 0, 0, 0, 0, 0, 0, 0, 0, 0, 0, 0, 0, 0, 0, 0, 0, 0, 0, 0, 0, 0, 0, 0, 0, 0, 0, 0, 0, 0, 0, 0, 0, 0, 0, 0, 0, 0, 0, 0, 0, 0, 0, 0, 0, 0, 0, 0, 0, 0, 0, 0, 0, 0, 0, 0, 0, 0, 0, 0, 0, 0, 0, 0, 0, 0, 0, 0, 0, 0, 0, 0, 0, 0, 0, 0, 0, 0, 0, 0, 0, 0, 0, 0, 0, 0, 0, 0, 0, 0, 0, 0, 0, 0, 0, 0, 0, 0, 0, 0, 0, 0, 0, 0, 0, 0, 0, 0, 0, 0, 0, 0, 0, 0, 0, 0, 0, 0, 0, 0, 0, 0, 0, 0, 0, 0, 0, 0, 0, 0, 0, 0, 0, 0, 0, 0, 0, 0, 0, 0, 0, 0, 0, 0, 0, 0, 0, 0, 0, 0, 0, 0, 0, 0, 0, 0, 0, 0, 0, 0, 0, 0, 0, 0, 0, 0, 0, 0, 0, 0, 0, 0, 0, 0, 0, 0, 0, 0, 0, 0, 0, 0, 0, 0, 0, 0, 0, 0, 0, 0, 0, 0, 0, 0, 0, 0, 0, 0, 0, 0, 0, 0, 0, 0, 0, 0, 0, 0, 0, 0, 0, 0, 0, 0, 0, 0, 0, 0, 0, 0, 0, 0, 0, 0, 0, 0, 0, 0, 0, 0, 0, 0, 0, 0, 0, 0, 0, 0, 0, 0, 0, 0, 0, 0, 0, 0, 0, 0, 0, 0, 0, 0, 0, 0, 0, 0, 0, 0, 0, 0, 0, 0, 0, 0, 0, 0, 0, 0, 0, 0, 0, 0, 0, 0, 0, 0, 0, 0, 0, 0, 0, 0, 1, 0, 0, 0, 0, 0, 0, 0, 0, 0, 0, 0, 0, 0, 0, 0, 0, 0, 0, 0, 0, 0, 0, 0, 0, 0, 0, 0, 0, 0, 0, 0, 0, 0, 0, 0, 0, 0, 0, 0, 0, 0, 0, 0, 0, 0, 0, 0, 0, 0, 0, 0, 0, 0, 0, 0, 0, 0, 0, 0, 0, 0, 0, 0, 0, 0, 0, 0, 0, 0, 0, 0, 0, 0, 0, 1, 0, 0, 0, 0, 0, 0, 0, 0, 0, 0, 0, 0, 0, 0, 0, 0, 0, 0, 0, 0, 1, 0, 0, 1, 0, 0, 0, 0, 0, 0, 0, 0, 0, 0, 0, 0, 0, 0, 0, 0, 0, 0, 0, 0, 0, 0, 0, 0, 0, 0, 0, 0, 0, 0, 0, 0, 0, 0, 0, 0, 0, 0, 0, 0, 0, 0, 0, 0, 0, 0, 0, 0, 0, 0, 0, 0, 0, 0, 0, 0, 0, 0, 0, 0, 0, 0, 0, 0, 0, 0, 0, 0, 0, 0, 0, 0, 0, 0, 0, 0, 0, 0, 0, 0, 0, 0, 0, 0, 0, 0, 0, 0, 0, 0, 0, 0, 0, 0, 0, 0, 0, 0, 0, 0, 0, 0, 0, 0, 0, 0, 0, 0, 0, 0, 0, 0, 0, 0, 0, 0, 0, 0, 0, 0, 0, 0, 0, 0, 0, 0, 0, 0, 0, 0, 0, 0, 0, 0, 0, 0, 0, 0, 0, 0, 0, 0, 0, 0, 0, 0, 0, 0, 0, 0, 0, 0, 0, 0, 0, 0, 0, 0, 0, 0, 0, 0, 0, 0, 0, 0, 0, 0, 0, 0, 0, 0, 0, 0, 0, 0, 0, 0, 0, 0, 0, 0, 0, 0, 0, 0, 0, 0, 0, 0, 0, 0, 0, 0, 0, 0, 0, 0, 0, 0, 0, 0, 0, 0, 0, 0, 0, 0, 0, 0, 0, 0, 0, 0, 0, 0, 0, 0, 0, 0, 0, 0, 0, 0, 0, 0, 0, 0, 0, 0, 0, 0, 0, 0, 0, 0, 0, 0, 0, 0, 0, 0, 0, 0, 0, 0, 0, 0, 0, 0, 0, 0, 0, 0, 0, 0, 0, 0, 0, 0, 0, 0, 0, 0, 0, 0, 0, 0, 0, 0, 0, 0, 0, 0, 0, 0, 0, 0, 0, 0, 0, 0, 0, 0, 0, 0, 0, 0, 0, 0, 0, 0, 0, 0, 0, 0, 0, 0, 0, 0, 0, 0, 0, 0, 0, 0, 0, 0, 0, 0, 0, 0, 0, 0, 0, 0, 0, 0, 0, 0, 0, 0, 0, 0, 0, 0, 0, 0, 0, 0, 0, 0, 0, 0, 0, 0, 0, 0, 0, 0, 0, 0, 0, 0, 0, 0, 0, 0, 0, 0, 0, 0, 0, 0, 0, 0, 0, 0, 0, 0, 0, 0, 0, 0, 0, 0, 0, 0, 0, 0, 0, 0, 0, 0, 0, 0, 0, 0, 0, 0, 0, 0, 0, 0, 0, 0, 0, 0, 0, 0, 0, 0, 0, 0, 0, 0, 0, 0, 0, 0, 0, 0, 0, 0, 0, 0, 0, 0, 0, 0, 0, 0, 0, 0, 0, 0, 0, 0, 0, 0, 0, 0, 0, 0, 0, 0, 0, 0, 0, 0, 0, 0, 0, 0, 0, 0, 0, 0, 0, 0, 0, 0, 0, 0, 0, 0, 0, 0, 0, 0, 0, 0, 0, 0, 0, 0, 0, 0, 0, 0, 0, 0, 0, 0, 0, 0, 1, 0, 0, 0, 0, 0, 0, 0, 0, 0, 0, 0, 0, 0, 0, 0, 0, 0, 0, 0, 0, 0, 0, 0, 0, 0, 0, 0, 0, 0, 0, 0, 0, 0, 0, 0, 0, 0, 0, 0, 0, 0, 0, 0, 0, 0, 0, 0, 0, 0, 0, 0, 0, 0, 0, 0, 0, 0, 0, 0, 0, 0, 0, 0, 0, 0, 0, 0, 0, 0, 0, 0, 0, 0, 0, 0, 0, 0, 0, 0, 0, 0, 0, 0, 0, 0, 0, 0, 0, 0, 0, 0, 0, 0, 0, 0, 0, 0, 0, 0, 0, 0, 0, 0, 0, 0, 0, 0, 0, 0, 0, 0, 0, 0, 0, 0, 0, 0, 0, 0, 0, 0, 0, 0, 0, 0, 0, 0, 0, 0, 0, 0, 0, 0, 0, 0, 0, 0, 0, 0, 0, 0, 0, 0, 0, 0, 0, 0, 0, 0, 0, 0, 0, 0, 0, 0, 0, 0, 0, 0, 0, 0, 0, 0, 0, 0, 0, 0, 0, 0, 0, 0, 0, 0, 0, 0, 0, 0, 0, 0, 0, 0, 0, 0, 0, 0, 0, 0, 0, 0, 0, 0, 0, 0, 0, 0, 0, 0, 0, 0, 0, 0, 0, 0, 0, 0, 0, 0, 0, 0, 0, 0, 0, 0, 0, 0, 0, 0, 0, 0, 0, 0, 0, 0, 0, 0, 0, 0, 0, 0, 0, 0, 0, 0, 0, 0, 0, 0, 0, 0, 0, 0, 0, 0, 0, 0, 0, 0, 0, 0, 0, 0, 0, 0, 0, 0, 0, 0, 0, 0, 0, 0, 0, 0, 0, 0, 0, 0, 0, 0, 0, 0, 0, 0, 0, 0, 0, 0, 0, 0, 0, 0, 0, 0, 0, 0, 0, 0, 0, 0, 0, 0, 0, 0, 0, 0, 0, 0, 0, 0, 0, 0, 0, 0, 0, 0, 0, 0, 0, 0, 0, 0, 0, 0, 0, 0, 0, 0, 0, 0, 0, 0, 0, 0, 0, 0, 0, 0, 0, 0, 0, 0, 0, 0, 0, 0, 0, 0, 0, 0, 0, 0, 0, 0, 0, 0, 0, 0, 0, 0, 0, 0, 0, 0, 0, 0, 0, 0, 0, 0, 0, 0, 0, 0, 0, 0, 0, 0, 0, 0, 0, 0, 0, 0, 0, 0, 0, 0, 0, 0, 0, 0, 0, 0, 0, 0, 0, 0, 0, 0, 0, 0, 0, 0, 0, 0, 0, 0, 0, 0, 0, 0, 0, 0, 0, 0, 0, 0, 0, 0, 0, 0, 0, 0, 0, 0, 0, 0, 0, 0, 0, 0, 0, 0, 0, 0, 0, 0, 0, 0, 0, 0, 0, 0, 0, 0, 0, 0, 0, 0, 0, 0, 0, 0, 0, 0, 0, 0, 0, 0, 0, 0, 0, 0, 0, 0, 0, 0, 0, 0, 0, 0, 0, 0, 0, 0, 0, 0, 0, 0, 0, 0, 0, 0, 0, 0, 0, 0, 0, 0, 0, 0, 0, 0, 0, 0, 0, 0, 0, 0, 0, 0, 0, 0, 0, 0, 0, 0, 0, 0, 0, 0, 0, 0, 0, 0, 0, 0, 0, 0, 0, 0, 0, 1, 0, 0, 0, 0, 0, 0, 0, 0, 0, 0, 0, 0, 0, 0, 0, 0, 0, 0, 0, 0, 0, 0, 0, 0, 0, 0, 0, 0, 0, 0, 0, 0, 0, 0, 0, 2, 0, 0, 0, 0, 0, 0, 0, 0, 0, 0, 0, 0, 0, 0, 0, 0, 0, 0, 0, 0, 0, 0, 0, 0, 0, 0, 0, 0, 0, 0, 0, 0, 0, 0, 0, 0, 0, 0, 0, 0, 1, 0, 0, 0, 0, 0, 0, 0, 0, 0, 0, 0, 0, 0, 0, 0, 0, 0, 0, 0, 0, 0, 0, 0, 0, 0, 0, 0, 0, 0, 0, 0, 0, 0, 0, 0, 0, 0, 0, 0, 0, 0, 0, 0, 0, 0, 0, 0, 0, 0, 0, 0, 0, 0, 0, 0, 0, 0, 0, 0, 0, 0, 0, 0, 0, 0, 0, 0, 0, 0, 0, 0, 0, 0, 0, 0, 0, 0, 0, 0, 0, 0, 0, 0, 0, 0, 0, 0, 0, 0, 0, 0, 0, 0, 0, 0, 0, 0, 0, 0, 0, 0, 0, 0, 0, 0, 0, 0, 0, 0, 0, 0, 0, 0, 0, 0, 0, 0, 0, 0, 0, 0, 0, 0, 0, 0, 0, 0, 0, 0, 0, 0, 0, 0, 0, 0, 0, 0, 0, 0, 0, 0, 0, 0, 0, 0, 0, 0, 0, 0, 0, 0, 0, 0, 0, 0, 0, 0, 0, 0, 0, 0, 0, 0, 0, 0, 0, 0, 0, 0, 0, 0, 0, 0, 0, 0, 0, 0, 0, 0, 0, 0, 0, 0, 0, 0, 0, 0, 0, 0, 0, 0, 0, 0, 0, 0, 0, 0, 0, 0, 0, 0, 0, 0, 0, 0, 0, 0, 0, 0, 0, 0, 0, 0, 0, 0, 0, 0, 0, 0, 0, 0, 0, 0, 0, 0, 0, 0, 0, 0, 0, 0, 0, 0, 0, 0, 0, 0, 0, 0, 0, 0, 0, 0, 0, 0, 0, 0, 0, 0, 0, 0, 0, 0, 0, 0, 0, 0, 0, 0, 0, 0, 0, 0, 0, 0, 0, 0, 0, 0, 0, 0, 0, 0, 0, 0, 0, 0, 0, 0, 0, 0, 0, 0, 0, 0, 0, 0, 0, 0, 0, 0, 0, 0, 0, 0, 0, 0, 0, 0, 0, 0, 0, 0, 0, 0, 0, 0, 0, 0, 0, 0, 0, 0, 0, 0, 0, 0, 0, 0, 0, 0, 0, 0, 0, 0, 0, 0, 0, 0, 0, 0, 0, 0, 0, 0, 0, 0, 0, 0, 0, 0, 0, 0, 0, 0, 0, 0, 0, 0, 0, 0, 0, 0, 0, 0, 0, 0, 0, 0, 0, 0, 0, 0, 0, 0, 0, 0, 0, 0, 0, 0, 0, 0, 0, 0, 0, 0, 0, 0, 0, 0, 0, 0, 0, 0, 0, 0, 0, 0, 0, 0, 0, 0, 0, 0, 0, 0, 0, 0, 0, 0, 0, 0, 0, 0, 0, 0, 0, 0, 0, 0, 0, 0, 0, 0, 0, 0, 0, 0, 0, 0, 0, 0, 0, 0, 0, 0, 0, 0, 0, 0, 0, 0, 0, 0, 0, 0, 0, 0, 0, 0, 0, 0, 0, 0, 0, 0, 0, 0, 0, 0, 0, 0, 0, 0, 0, 0, 0, 0, 0, 0, 0, 0, 0, 0, 0, 0, 0, 0, 0, 0, 0, 0, 0, 0, 0, 0, 0, 0, 0, 0, 0, 0, 0, 0, 0, 0, 0, 0, 0, 0, 0, 0, 0, 0, 0, 0, 1, 0, 0, 0, 0, 0, 0, 0, 0, 0, 0, 0, 0, 0, 0, 0, 0, 0, 0, 0, 0, 0, 0, 0, 0, 0, 0, 0, 0, 0, 0, 0, 0, 0, 0, 0, 0, 0, 0, 0, 0, 0, 0, 0, 0, 0, 0, 0, 0, 0, 0, 0, 0, 0, 0, 0, 0, 0, 0, 0, 0, 0, 0, 0, 0, 0, 0, 0, 0, 0, 0, 0, 0, 0, 0, 0, 0, 0, 0, 0, 0, 0, 0, 0, 0, 0, 0, 0, 0, 0, 0, 0, 0, 0, 0, 0, 0, 0, 0, 0, 0, 0, 0, 0, 0, 0, 0, 0, 0, 0, 0, 2, 0, 0, 0, 0, 0, 0, 0, 0, 0, 0, 0, 0, 0, 0, 0, 0, 0, 0, 0, 0, 0, 0, 0, 0, 0, 0, 0, 0, 0, 0, 0, 0, 0, 0, 0, 0, 0, 0, 0, 0, 0, 0, 0, 0, 0, 0, 0, 0, 0, 0, 0, 0, 0, 0, 0, 0, 0, 0, 0, 0, 0, 0, 0, 0, 0, 0, 0, 0, 0, 0, 0, 0, 0, 0, 0, 0, 0, 0, 0, 0, 0, 0, 0, 0, 0, 0, 0, 0, 0, 0, 0, 0, 0, 0, 0, 0, 0, 0, 0, 0, 0, 0, 0, 0, 0, 0, 0, 0, 0, 0, 0, 0, 0, 0, 0, 0, 0, 0, 0, 0, 0, 0, 0, 0, 0, 0, 0, 0, 0, 0, 0, 0, 0, 0, 0, 0, 0, 0, 0, 0, 0, 0, 0, 0, 0, 0, 0, 0, 0, 0, 0, 0, 0, 0, 0, 0, 0, 0, 0, 0, 0, 0, 0, 0, 0, 0, 0, 0, 0, 0, 0, 0, 0, 0, 0, 0, 0, 0, 0, 0, 0, 0, 0, 0, 0, 0, 0, 0, 0, 0, 0, 0, 0, 0, 0, 0, 0, 0, 0, 0, 0, 0, 0, 0, 0, 0, 0, 0, 0, 0, 0, 0, 0, 0, 0, 0, 0, 0, 0, 0, 0, 0, 0, 0, 0, 0, 0, 0, 0, 0, 0, 0, 0, 0, 0, 0, 0, 0, 0, 0, 0, 0, 0, 0, 0, 0, 0, 0, 0, 0, 0, 0, 0, 0, 0, 0, 0, 0, 0, 0, 0, 0, 0, 0, 0, 0, 0, 0, 0, 0, 0, 0, 0, 0, 0, 0, 0, 0, 0, 0, 0, 0, 0, 0, 0, 0, 0, 0, 0, 0, 0, 0, 0, 0, 0, 0, 0, 0, 0, 0, 0, 0, 0, 0, 0, 0, 0, 0, 0, 0, 0, 0, 0, 0, 0, 0, 0, 0, 0, 0, 0, 0, 0, 0, 0, 0, 0, 0, 0, 0, 0, 0, 0, 0, 0, 0, 0, 0, 0, 0, 0, 0, 0, 0, 0, 0, 0, 0, 0, 0, 0, 0, 0, 0, 0, 0, 0, 0, 0, 0, 0, 0, 0, 0, 0, 0, 0, 0, 0, 0, 0, 0, 0, 0, 0, 0, 0, 0, 0, 0, 0, 0, 0, 0, 0, 0, 0, 0, 0, 0, 0, 0, 0, 0, 0, 0, 0, 0, 0, 0, 0, 0, 0, 0, 0, 0, 0, 0, 0, 0, 0, 0, 0, 0, 0, 0, 0, 0, 0, 0, 0, 0, 0, 0, 0, 0, 0, 0, 0, 0, 0, 0, 0, 0, 0, 0, 0, 0, 0, 0, 0, 0, 0, 0, 0, 0, 0, 0, 0, 0, 0, 0, 0, 0, 0, 0, 0, 0, 0, 0, 0, 0, 0, 0, 0, 0, 0, 0, 0, 0, 0, 0, 0, 0, 0, 0, 0, 0, 0, 0, 0, 0, 0, 0, 0, 0, 0, 0, 0, 0, 0, 0, 0, 0, 0, 0, 0, 0, 0, 0, 0, 0, 0, 0, 0, 0, 0, 0, 0, 0, 0, 0, 0, 0, 0, 0, 0, 0, 0, 0, 0, 0, 0, 0, 0, 0, 0, 0, 0, 0, 0, 0, 0, 0, 0, 0, 0, 0, 0, 0, 0, 0, 0, 0, 0, 0, 0, 0, 0, 0, 0, 0, 0, 0, 0, 0, 0, 0, 0, 0, 0, 0, 0, 0, 0, 0, 0, 0, 0, 0, 0, 0, 0, 0, 0, 0, 0, 0, 0, 0, 0, 0, 0, 0, 0, 0, 0, 0, 0, 0, 0, 0, 0, 0, 0, 0, 0, 0, 0, 0, 0, 0, 0, 0, 0, 0, 0, 0, 0, 0, 0, 0, 0, 0, 0, 0, 0, 0, 0, 0, 0, 0, 0, 0, 0, 0, 0, 0, 0, 0, 0, 0, 0, 0, 0, 0, 0, 0, 0, 0, 0, 0, 0, 0, 0, 0, 0, 0, 0, 0, 0, 0, 0, 0, 0, 0, 0, 0, 0, 0, 0, 0, 0, 0, 0, 0, 0, 0, 0, 0, 0, 0, 0, 0, 0, 0, 0, 0, 0, 0, 0, 0, 0, 0, 0, 0, 0, 0, 0, 0, 1, 0, 0, 0, 0, 0, 0, 0, 0, 0, 0, 0, 0, 0, 0, 0, 0, 0, 0, 0, 0, 0, 0, 0, 0, 0, 0, 0, 0, 0, 0, 0, 0, 0, 0, 0, 0, 0, 0, 0, 0, 0, 0, 0, 0, 0, 0, 0, 0, 0, 0, 0, 0, 0, 0, 0, 0, 0, 0, 0, 0, 0, 0, 0, 0, 0, 0, 0, 0, 0, 0, 0, 0, 0, 0, 0, 0, 0, 0, 0, 0, 0, 0, 0, 0, 0, 0, 0, 0, 0, 0, 0, 0, 0, 0, 0, 0, 0, 0, 0, 0, 0, 0, 0, 0, 0, 0, 0, 1, 0, 0, 0, 0, 0, 0, 0, 0, 0, 0, 0, 0, 0, 0, 0, 0, 0, 0, 0, 0, 0, 0, 0, 0, 0, 0, 0, 0, 0, 0, 0, 0, 0, 0, 0, 0, 0, 0, 0, 0, 0, 0, 0, 0, 0, 0, 0, 0, 0, 0, 0, 0, 0, 0, 0, 0, 0, 0, 0, 0, 0, 0, 0, 0, 0, 0, 0, 0, 0, 0, 0, 0, 0, 0, 0, 0, 0, 0, 0, 0, 0, 0, 0, 0, 0, 0, 0, 0, 0, 0, 0, 0, 0, 0, 0, 0, 0, 0, 0, 0, 0, 0, 0, 0, 0, 0, 0, 0, 0, 0, 0, 0, 0, 0, 0, 0, 0, 0, 0, 0, 0, 0, 0, 0, 0, 0, 0, 0, 0, 0, 0, 0, 0, 0, 0, 0, 0, 0, 0, 0, 0, 0, 0, 0, 0, 0, 0, 0, 0, 0, 0, 0, 0, 0, 0, 0, 0, 0, 0, 0, 0, 0, 0, 0, 0, 0, 0, 0, 0, 0, 0, 0, 0, 0, 0, 0, 0, 0, 0, 0, 0, 0, 0, 0, 0, 0, 0, 0, 0, 0, 0, 0, 0, 0, 0, 0, 0, 0, 0, 0, 0, 0, 0, 0, 0, 0, 0, 0, 0, 0, 0, 0, 0, 0, 0, 0, 0, 0, 0, 0, 0, 0, 0, 0, 0, 0, 0, 0, 0, 0, 0, 0, 0, 0, 0, 0, 0, 0, 0, 0, 0, 0, 0, 0, 0, 0, 0, 0, 0, 0, 0, 0, 0, 0, 0, 0, 0, 0, 0, 0, 0, 0, 0, 0, 0, 0, 0, 0, 0, 0, 0, 0, 0, 0, 0, 0, 0, 0, 0, 0, 0, 0, 0, 0, 0, 0, 0, 0, 0, 0, 0, 0, 0, 0, 0, 0, 0, 0, 0, 0, 0, 0, 0, 0, 0, 0, 0, 0, 0, 0, 0, 0, 0, 0, 0, 0, 0, 0, 0, 0, 0, 0, 0, 0, 0, 0, 0, 0, 0, 0, 0, 0, 0, 0, 0, 0, 0, 0, 0, 0, 0, 0, 0, 0, 0, 0, 0, 0, 0, 0, 0, 0, 0, 0, 0, 0, 0, 0, 0, 0, 0, 0, 0, 0, 0, 0, 0, 0, 0, 0, 0, 0, 0, 0, 0, 0, 0, 0, 0, 0, 0, 0, 0, 0, 0, 0, 0, 0, 0, 0, 0, 0, 0, 0, 0, 0, 0, 0, 0, 0, 0, 0, 0, 0, 0, 0, 0, 0, 0, 0, 0, 0, 0, 0, 0, 0, 0, 0, 0, 0, 0, 0, 0, 0, 0, 0, 0, 0, 0, 0, 0, 0, 0, 0, 0, 0, 0, 0, 0, 0, 0, 0, 0, 0, 0, 0, 0, 0, 0, 0, 0, 0, 0, 0, 0, 0, 0, 0, 0, 0, 0, 0, 0, 2, 0, 1, 0], type: <class 'list'>, valid types: <class 'bytes'>, <class 'bytearray'>, file-like object",
     "output_type": "error",
     "traceback": [
      "\u001b[0;31m---------------------------------------------------------------------------\u001b[0m",
      "\u001b[0;31mParamValidationError\u001b[0m                      Traceback (most recent call last)",
      "\u001b[0;32m<ipython-input-45-c9ab54ae3a48>\u001b[0m in \u001b[0;36m<module>\u001b[0;34m\u001b[0m\n\u001b[1;32m      1\u001b[0m response = runtime.invoke_endpoint(EndpointName = xgb_predictor.endpoint, # The name of the endpoint we created\n\u001b[1;32m      2\u001b[0m                                        \u001b[0mContentType\u001b[0m \u001b[0;34m=\u001b[0m \u001b[0;34m'text/csv'\u001b[0m\u001b[0;34m,\u001b[0m                     \u001b[0;31m# The data format that is expected\u001b[0m\u001b[0;34m\u001b[0m\u001b[0;34m\u001b[0m\u001b[0m\n\u001b[0;32m----> 3\u001b[0;31m                                        Body = test_bow)\n\u001b[0m",
      "\u001b[0;32m~/anaconda3/envs/python3/lib/python3.6/site-packages/botocore/client.py\u001b[0m in \u001b[0;36m_api_call\u001b[0;34m(self, *args, **kwargs)\u001b[0m\n\u001b[1;32m    314\u001b[0m                     \"%s() only accepts keyword arguments.\" % py_operation_name)\n\u001b[1;32m    315\u001b[0m             \u001b[0;31m# The \"self\" in this scope is referring to the BaseClient.\u001b[0m\u001b[0;34m\u001b[0m\u001b[0;34m\u001b[0m\u001b[0;34m\u001b[0m\u001b[0m\n\u001b[0;32m--> 316\u001b[0;31m             \u001b[0;32mreturn\u001b[0m \u001b[0mself\u001b[0m\u001b[0;34m.\u001b[0m\u001b[0m_make_api_call\u001b[0m\u001b[0;34m(\u001b[0m\u001b[0moperation_name\u001b[0m\u001b[0;34m,\u001b[0m \u001b[0mkwargs\u001b[0m\u001b[0;34m)\u001b[0m\u001b[0;34m\u001b[0m\u001b[0;34m\u001b[0m\u001b[0m\n\u001b[0m\u001b[1;32m    317\u001b[0m \u001b[0;34m\u001b[0m\u001b[0m\n\u001b[1;32m    318\u001b[0m         \u001b[0m_api_call\u001b[0m\u001b[0;34m.\u001b[0m\u001b[0m__name__\u001b[0m \u001b[0;34m=\u001b[0m \u001b[0mstr\u001b[0m\u001b[0;34m(\u001b[0m\u001b[0mpy_operation_name\u001b[0m\u001b[0;34m)\u001b[0m\u001b[0;34m\u001b[0m\u001b[0;34m\u001b[0m\u001b[0m\n",
      "\u001b[0;32m~/anaconda3/envs/python3/lib/python3.6/site-packages/botocore/client.py\u001b[0m in \u001b[0;36m_make_api_call\u001b[0;34m(self, operation_name, api_params)\u001b[0m\n\u001b[1;32m    606\u001b[0m         }\n\u001b[1;32m    607\u001b[0m         request_dict = self._convert_to_request_dict(\n\u001b[0;32m--> 608\u001b[0;31m             api_params, operation_model, context=request_context)\n\u001b[0m\u001b[1;32m    609\u001b[0m \u001b[0;34m\u001b[0m\u001b[0m\n\u001b[1;32m    610\u001b[0m         \u001b[0mservice_id\u001b[0m \u001b[0;34m=\u001b[0m \u001b[0mself\u001b[0m\u001b[0;34m.\u001b[0m\u001b[0m_service_model\u001b[0m\u001b[0;34m.\u001b[0m\u001b[0mservice_id\u001b[0m\u001b[0;34m.\u001b[0m\u001b[0mhyphenize\u001b[0m\u001b[0;34m(\u001b[0m\u001b[0;34m)\u001b[0m\u001b[0;34m\u001b[0m\u001b[0;34m\u001b[0m\u001b[0m\n",
      "\u001b[0;32m~/anaconda3/envs/python3/lib/python3.6/site-packages/botocore/client.py\u001b[0m in \u001b[0;36m_convert_to_request_dict\u001b[0;34m(self, api_params, operation_model, context)\u001b[0m\n\u001b[1;32m    654\u001b[0m             api_params, operation_model, context)\n\u001b[1;32m    655\u001b[0m         request_dict = self._serializer.serialize_to_request(\n\u001b[0;32m--> 656\u001b[0;31m             api_params, operation_model)\n\u001b[0m\u001b[1;32m    657\u001b[0m         \u001b[0;32mif\u001b[0m \u001b[0;32mnot\u001b[0m \u001b[0mself\u001b[0m\u001b[0;34m.\u001b[0m\u001b[0m_client_config\u001b[0m\u001b[0;34m.\u001b[0m\u001b[0minject_host_prefix\u001b[0m\u001b[0;34m:\u001b[0m\u001b[0;34m\u001b[0m\u001b[0;34m\u001b[0m\u001b[0m\n\u001b[1;32m    658\u001b[0m             \u001b[0mrequest_dict\u001b[0m\u001b[0;34m.\u001b[0m\u001b[0mpop\u001b[0m\u001b[0;34m(\u001b[0m\u001b[0;34m'host_prefix'\u001b[0m\u001b[0;34m,\u001b[0m \u001b[0;32mNone\u001b[0m\u001b[0;34m)\u001b[0m\u001b[0;34m\u001b[0m\u001b[0;34m\u001b[0m\u001b[0m\n",
      "\u001b[0;32m~/anaconda3/envs/python3/lib/python3.6/site-packages/botocore/validate.py\u001b[0m in \u001b[0;36mserialize_to_request\u001b[0;34m(self, parameters, operation_model)\u001b[0m\n\u001b[1;32m    295\u001b[0m                                                     operation_model.input_shape)\n\u001b[1;32m    296\u001b[0m             \u001b[0;32mif\u001b[0m \u001b[0mreport\u001b[0m\u001b[0;34m.\u001b[0m\u001b[0mhas_errors\u001b[0m\u001b[0;34m(\u001b[0m\u001b[0;34m)\u001b[0m\u001b[0;34m:\u001b[0m\u001b[0;34m\u001b[0m\u001b[0;34m\u001b[0m\u001b[0m\n\u001b[0;32m--> 297\u001b[0;31m                 \u001b[0;32mraise\u001b[0m \u001b[0mParamValidationError\u001b[0m\u001b[0;34m(\u001b[0m\u001b[0mreport\u001b[0m\u001b[0;34m=\u001b[0m\u001b[0mreport\u001b[0m\u001b[0;34m.\u001b[0m\u001b[0mgenerate_report\u001b[0m\u001b[0;34m(\u001b[0m\u001b[0;34m)\u001b[0m\u001b[0;34m)\u001b[0m\u001b[0;34m\u001b[0m\u001b[0;34m\u001b[0m\u001b[0m\n\u001b[0m\u001b[1;32m    298\u001b[0m         return self._serializer.serialize_to_request(parameters,\n\u001b[1;32m    299\u001b[0m                                                      operation_model)\n",
      "\u001b[0;31mParamValidationError\u001b[0m: Parameter validation failed:\nInvalid type for parameter Body, value: [0, 0, 0, 0, 0, 0, 0, 0, 0, 0, 0, 0, 0, 0, 0, 0, 0, 0, 0, 0, 0, 0, 0, 0, 0, 0, 0, 0, 0, 0, 0, 0, 0, 0, 0, 0, 0, 0, 0, 0, 0, 0, 0, 0, 0, 0, 0, 0, 0, 0, 0, 0, 0, 0, 0, 0, 0, 0, 0, 0, 0, 0, 0, 0, 0, 0, 0, 0, 0, 0, 0, 0, 0, 0, 0, 0, 0, 0, 0, 0, 0, 0, 0, 0, 0, 0, 0, 0, 0, 0, 0, 0, 0, 0, 0, 0, 0, 0, 0, 0, 0, 0, 0, 0, 0, 0, 0, 0, 0, 0, 0, 0, 0, 0, 0, 0, 0, 0, 0, 0, 0, 0, 0, 0, 0, 0, 0, 0, 0, 0, 0, 0, 0, 0, 0, 0, 0, 0, 0, 0, 0, 0, 0, 0, 0, 0, 0, 0, 0, 0, 0, 0, 0, 0, 0, 0, 0, 0, 0, 0, 0, 0, 0, 0, 0, 0, 0, 0, 0, 0, 0, 0, 0, 0, 0, 0, 0, 0, 0, 0, 0, 0, 0, 0, 0, 0, 0, 0, 0, 0, 0, 0, 0, 0, 0, 0, 0, 0, 0, 0, 0, 0, 0, 0, 0, 0, 0, 0, 0, 0, 0, 0, 0, 0, 0, 0, 0, 0, 0, 0, 0, 0, 0, 0, 0, 0, 1, 0, 0, 0, 0, 0, 0, 0, 0, 0, 0, 0, 0, 0, 0, 0, 0, 0, 0, 0, 0, 0, 0, 0, 0, 0, 0, 0, 0, 0, 1, 0, 0, 0, 0, 0, 0, 0, 0, 0, 0, 0, 0, 0, 0, 0, 0, 0, 0, 0, 0, 0, 0, 0, 0, 0, 0, 0, 0, 0, 0, 0, 0, 0, 0, 0, 0, 0, 0, 0, 0, 0, 0, 0, 0, 0, 0, 0, 0, 0, 0, 0, 0, 0, 0, 0, 0, 0, 0, 0, 0, 0, 0, 0, 0, 0, 0, 0, 0, 0, 0, 0, 0, 0, 0, 0, 0, 0, 0, 0, 0, 0, 0, 0, 0, 0, 0, 0, 0, 0, 0, 0, 0, 0, 0, 0, 0, 0, 0, 0, 0, 0, 0, 0, 0, 0, 0, 0, 0, 0, 0, 0, 0, 0, 0, 0, 0, 0, 0, 0, 0, 0, 0, 0, 0, 0, 0, 0, 0, 0, 0, 0, 0, 0, 0, 0, 0, 0, 0, 0, 0, 0, 0, 0, 0, 0, 0, 0, 0, 0, 0, 0, 0, 0, 0, 0, 0, 0, 0, 0, 0, 0, 0, 0, 0, 0, 0, 0, 0, 0, 0, 0, 0, 0, 0, 0, 0, 0, 0, 0, 0, 0, 0, 0, 0, 0, 0, 0, 0, 0, 0, 0, 0, 0, 0, 0, 0, 0, 0, 0, 0, 0, 0, 0, 0, 0, 0, 0, 0, 0, 0, 0, 0, 0, 0, 0, 0, 0, 0, 0, 0, 0, 0, 0, 0, 0, 0, 0, 0, 0, 0, 0, 0, 0, 0, 0, 0, 0, 0, 0, 0, 0, 0, 0, 0, 0, 0, 0, 0, 0, 0, 0, 0, 0, 0, 0, 0, 0, 0, 0, 0, 0, 0, 0, 0, 0, 0, 0, 0, 0, 0, 0, 0, 0, 0, 0, 0, 0, 0, 0, 0, 0, 0, 0, 0, 0, 0, 0, 0, 0, 0, 0, 0, 0, 0, 0, 0, 0, 0, 0, 0, 0, 0, 0, 0, 0, 0, 0, 0, 0, 0, 0, 0, 0, 0, 0, 0, 0, 0, 0, 0, 0, 0, 0, 0, 0, 0, 0, 0, 0, 0, 0, 0, 0, 0, 0, 0, 0, 0, 0, 0, 0, 0, 0, 0, 0, 0, 0, 0, 0, 0, 0, 0, 0, 0, 0, 0, 0, 0, 0, 0, 0, 0, 0, 0, 0, 0, 0, 0, 0, 0, 0, 0, 0, 0, 0, 0, 0, 0, 0, 1, 0, 0, 0, 0, 0, 0, 0, 0, 0, 0, 0, 0, 0, 0, 0, 0, 0, 0, 0, 0, 0, 0, 0, 0, 0, 0, 0, 0, 0, 0, 0, 0, 0, 0, 0, 0, 0, 0, 0, 0, 0, 0, 0, 0, 0, 0, 0, 0, 0, 0, 0, 0, 0, 0, 0, 0, 0, 0, 0, 0, 0, 0, 0, 0, 0, 0, 0, 0, 0, 0, 0, 0, 0, 0, 0, 0, 0, 0, 0, 0, 0, 0, 0, 0, 0, 0, 0, 0, 0, 0, 0, 0, 0, 0, 0, 0, 0, 0, 0, 0, 0, 0, 0, 0, 0, 0, 0, 0, 0, 0, 0, 0, 0, 0, 0, 0, 0, 0, 0, 0, 0, 0, 0, 0, 0, 0, 0, 0, 0, 0, 0, 0, 0, 0, 0, 0, 0, 0, 0, 0, 0, 0, 0, 0, 0, 0, 0, 0, 0, 0, 0, 0, 0, 0, 0, 0, 0, 0, 0, 0, 0, 0, 0, 0, 0, 0, 0, 0, 0, 0, 0, 0, 0, 0, 0, 0, 0, 0, 0, 0, 0, 0, 0, 0, 0, 0, 0, 0, 0, 0, 0, 0, 0, 0, 0, 0, 0, 0, 0, 0, 0, 0, 0, 0, 0, 0, 0, 0, 0, 0, 0, 0, 0, 0, 0, 0, 0, 0, 0, 0, 0, 0, 0, 0, 0, 0, 0, 0, 0, 0, 0, 0, 0, 0, 0, 0, 0, 0, 0, 0, 0, 0, 0, 0, 0, 0, 0, 0, 0, 0, 0, 0, 0, 1, 0, 0, 0, 0, 0, 0, 0, 0, 0, 0, 0, 0, 0, 0, 0, 0, 0, 0, 0, 0, 0, 0, 0, 0, 0, 0, 0, 0, 0, 0, 0, 0, 0, 0, 0, 0, 0, 0, 0, 0, 0, 0, 0, 0, 0, 0, 0, 0, 0, 0, 0, 0, 0, 0, 0, 0, 0, 0, 0, 0, 0, 0, 0, 0, 0, 0, 0, 0, 0, 0, 0, 0, 0, 0, 0, 0, 0, 0, 0, 0, 0, 0, 0, 0, 0, 0, 1, 0, 0, 0, 0, 0, 0, 0, 0, 0, 0, 0, 0, 0, 0, 0, 0, 0, 0, 0, 0, 0, 0, 0, 0, 0, 0, 0, 0, 0, 0, 0, 0, 0, 0, 0, 0, 0, 0, 0, 0, 0, 0, 0, 0, 0, 0, 0, 0, 0, 0, 0, 0, 0, 0, 0, 0, 0, 0, 0, 0, 0, 0, 0, 0, 0, 0, 0, 0, 0, 0, 0, 0, 0, 0, 0, 0, 0, 0, 0, 0, 0, 0, 0, 0, 0, 0, 0, 0, 0, 0, 0, 0, 0, 0, 0, 0, 0, 0, 0, 0, 0, 0, 0, 0, 0, 0, 0, 0, 0, 0, 0, 0, 0, 0, 0, 0, 0, 0, 0, 0, 0, 0, 0, 0, 0, 0, 0, 0, 0, 0, 0, 0, 0, 0, 0, 0, 0, 0, 0, 0, 0, 0, 0, 0, 0, 0, 0, 0, 0, 0, 0, 0, 0, 0, 0, 0, 0, 0, 0, 0, 0, 0, 0, 0, 0, 0, 0, 0, 0, 0, 0, 0, 0, 0, 0, 0, 0, 0, 0, 0, 0, 0, 0, 0, 0, 0, 0, 0, 0, 0, 0, 0, 0, 0, 0, 0, 0, 0, 0, 0, 0, 0, 0, 0, 0, 0, 0, 0, 0, 0, 0, 0, 0, 0, 0, 0, 0, 0, 0, 0, 0, 0, 0, 0, 0, 0, 0, 0, 0, 0, 0, 0, 0, 0, 0, 0, 0, 0, 0, 0, 0, 0, 0, 0, 0, 0, 0, 0, 0, 0, 0, 0, 1, 0, 0, 0, 0, 0, 0, 0, 0, 0, 0, 0, 0, 0, 0, 0, 0, 0, 0, 0, 0, 0, 0, 0, 0, 0, 0, 0, 0, 0, 0, 0, 0, 0, 0, 0, 0, 0, 0, 0, 0, 0, 0, 0, 0, 0, 0, 0, 0, 0, 0, 0, 0, 0, 0, 0, 1, 0, 0, 0, 0, 0, 0, 0, 0, 0, 0, 0, 0, 0, 0, 0, 0, 0, 0, 0, 0, 0, 0, 0, 0, 0, 0, 0, 0, 0, 0, 0, 0, 0, 0, 0, 0, 0, 0, 0, 0, 0, 0, 0, 0, 0, 0, 0, 0, 0, 0, 0, 0, 0, 0, 0, 0, 0, 0, 0, 0, 0, 0, 0, 0, 0, 0, 0, 0, 0, 0, 0, 0, 0, 0, 0, 0, 0, 0, 0, 0, 0, 0, 0, 0, 0, 0, 0, 0, 0, 0, 0, 0, 0, 0, 0, 0, 0, 0, 0, 0, 0, 0, 0, 0, 0, 0, 0, 0, 0, 0, 0, 0, 0, 0, 0, 0, 0, 0, 0, 0, 0, 0, 0, 0, 0, 0, 0, 0, 0, 0, 0, 0, 0, 0, 0, 0, 0, 0, 0, 0, 0, 0, 0, 0, 0, 0, 0, 0, 0, 0, 0, 0, 0, 0, 0, 0, 0, 0, 0, 0, 0, 0, 0, 0, 0, 0, 0, 0, 0, 0, 0, 0, 0, 0, 0, 0, 0, 0, 0, 0, 0, 0, 0, 0, 0, 0, 0, 0, 0, 0, 0, 0, 0, 0, 0, 0, 0, 0, 0, 0, 0, 0, 0, 0, 0, 0, 0, 0, 0, 0, 0, 0, 0, 0, 0, 0, 0, 0, 0, 0, 0, 0, 0, 0, 0, 0, 0, 0, 0, 0, 0, 0, 0, 0, 0, 0, 0, 0, 0, 0, 0, 0, 0, 0, 0, 0, 0, 0, 0, 0, 0, 0, 0, 0, 0, 0, 0, 0, 0, 0, 0, 0, 0, 0, 0, 0, 0, 0, 0, 0, 0, 0, 0, 0, 0, 0, 0, 0, 0, 0, 0, 0, 0, 0, 0, 0, 0, 0, 0, 0, 0, 0, 0, 0, 0, 0, 0, 0, 0, 0, 0, 0, 0, 0, 0, 0, 0, 0, 0, 0, 0, 0, 0, 0, 0, 0, 0, 0, 0, 0, 0, 0, 0, 0, 0, 0, 0, 0, 0, 0, 0, 0, 0, 0, 0, 0, 0, 0, 0, 0, 0, 0, 0, 0, 0, 0, 0, 0, 0, 0, 0, 0, 0, 0, 0, 0, 0, 0, 0, 0, 0, 0, 0, 0, 0, 0, 0, 0, 0, 0, 0, 0, 0, 0, 0, 0, 0, 0, 0, 0, 0, 0, 0, 0, 0, 0, 0, 0, 0, 0, 0, 0, 0, 0, 0, 0, 0, 0, 0, 0, 0, 0, 0, 0, 0, 0, 0, 0, 0, 0, 0, 0, 0, 0, 0, 0, 0, 0, 0, 0, 0, 0, 0, 0, 0, 0, 0, 0, 0, 0, 0, 0, 0, 0, 0, 0, 0, 0, 0, 0, 0, 0, 0, 0, 0, 0, 0, 0, 0, 0, 0, 0, 0, 0, 0, 0, 0, 0, 0, 0, 0, 0, 0, 0, 0, 0, 0, 0, 0, 0, 0, 0, 0, 0, 0, 0, 0, 0, 0, 0, 0, 0, 0, 0, 0, 0, 0, 0, 0, 0, 0, 0, 0, 0, 0, 0, 0, 0, 0, 0, 0, 0, 0, 0, 0, 0, 0, 0, 0, 0, 0, 0, 0, 0, 0, 0, 0, 0, 0, 0, 0, 0, 0, 0, 0, 0, 0, 0, 0, 0, 0, 0, 0, 0, 0, 0, 0, 0, 0, 0, 0, 0, 0, 0, 0, 0, 0, 0, 0, 0, 0, 0, 0, 0, 0, 0, 0, 0, 0, 0, 0, 0, 0, 0, 0, 0, 0, 0, 0, 0, 0, 0, 0, 0, 0, 0, 0, 0, 0, 0, 0, 0, 0, 0, 0, 0, 0, 0, 0, 0, 0, 0, 0, 0, 0, 0, 0, 0, 0, 0, 0, 0, 0, 0, 0, 0, 0, 0, 0, 0, 0, 0, 0, 0, 0, 0, 0, 0, 0, 0, 0, 0, 0, 0, 0, 0, 0, 0, 0, 0, 0, 0, 0, 0, 0, 0, 0, 0, 0, 0, 0, 0, 0, 0, 0, 0, 0, 0, 0, 0, 0, 0, 0, 0, 0, 0, 0, 0, 0, 0, 0, 0, 0, 0, 0, 0, 0, 0, 0, 0, 0, 0, 0, 0, 0, 0, 0, 0, 0, 0, 0, 1, 0, 0, 0, 0, 0, 0, 0, 0, 0, 0, 0, 0, 0, 0, 0, 0, 0, 0, 0, 0, 0, 0, 0, 0, 0, 0, 0, 0, 0, 0, 0, 0, 0, 0, 0, 0, 0, 0, 0, 0, 0, 0, 0, 0, 0, 0, 0, 0, 0, 0, 0, 0, 0, 0, 0, 0, 0, 0, 0, 0, 0, 0, 0, 0, 0, 0, 0, 0, 0, 0, 0, 0, 0, 0, 1, 0, 0, 0, 0, 0, 0, 0, 0, 0, 0, 0, 0, 0, 0, 0, 0, 0, 0, 0, 0, 1, 0, 0, 1, 0, 0, 0, 0, 0, 0, 0, 0, 0, 0, 0, 0, 0, 0, 0, 0, 0, 0, 0, 0, 0, 0, 0, 0, 0, 0, 0, 0, 0, 0, 0, 0, 0, 0, 0, 0, 0, 0, 0, 0, 0, 0, 0, 0, 0, 0, 0, 0, 0, 0, 0, 0, 0, 0, 0, 0, 0, 0, 0, 0, 0, 0, 0, 0, 0, 0, 0, 0, 0, 0, 0, 0, 0, 0, 0, 0, 0, 0, 0, 0, 0, 0, 0, 0, 0, 0, 0, 0, 0, 0, 0, 0, 0, 0, 0, 0, 0, 0, 0, 0, 0, 0, 0, 0, 0, 0, 0, 0, 0, 0, 0, 0, 0, 0, 0, 0, 0, 0, 0, 0, 0, 0, 0, 0, 0, 0, 0, 0, 0, 0, 0, 0, 0, 0, 0, 0, 0, 0, 0, 0, 0, 0, 0, 0, 0, 0, 0, 0, 0, 0, 0, 0, 0, 0, 0, 0, 0, 0, 0, 0, 0, 0, 0, 0, 0, 0, 0, 0, 0, 0, 0, 0, 0, 0, 0, 0, 0, 0, 0, 0, 0, 0, 0, 0, 0, 0, 0, 0, 0, 0, 0, 0, 0, 0, 0, 0, 0, 0, 0, 0, 0, 0, 0, 0, 0, 0, 0, 0, 0, 0, 0, 0, 0, 0, 0, 0, 0, 0, 0, 0, 0, 0, 0, 0, 0, 0, 0, 0, 0, 0, 0, 0, 0, 0, 0, 0, 0, 0, 0, 0, 0, 0, 0, 0, 0, 0, 0, 0, 0, 0, 0, 0, 0, 0, 0, 0, 0, 0, 0, 0, 0, 0, 0, 0, 0, 0, 0, 0, 0, 0, 0, 0, 0, 0, 0, 0, 0, 0, 0, 0, 0, 0, 0, 0, 0, 0, 0, 0, 0, 0, 0, 0, 0, 0, 0, 0, 0, 0, 0, 0, 0, 0, 0, 0, 0, 0, 0, 0, 0, 0, 0, 0, 0, 0, 0, 0, 0, 0, 0, 0, 0, 0, 0, 0, 0, 0, 0, 0, 0, 0, 0, 0, 0, 0, 0, 0, 0, 0, 0, 0, 0, 0, 0, 0, 0, 0, 0, 0, 0, 0, 0, 0, 0, 0, 0, 0, 0, 0, 0, 0, 0, 0, 0, 0, 0, 0, 0, 0, 0, 0, 0, 0, 0, 0, 0, 0, 0, 0, 0, 0, 0, 0, 0, 0, 0, 0, 0, 0, 0, 0, 0, 0, 0, 0, 0, 0, 0, 0, 0, 0, 0, 0, 0, 0, 0, 0, 0, 0, 0, 0, 0, 0, 0, 0, 0, 0, 0, 0, 0, 0, 0, 0, 0, 0, 0, 0, 0, 0, 0, 0, 0, 0, 0, 0, 0, 0, 0, 0, 0, 0, 0, 0, 0, 0, 0, 0, 0, 0, 0, 0, 0, 0, 0, 0, 0, 0, 0, 0, 0, 0, 0, 0, 0, 0, 0, 0, 1, 0, 0, 0, 0, 0, 0, 0, 0, 0, 0, 0, 0, 0, 0, 0, 0, 0, 0, 0, 0, 0, 0, 0, 0, 0, 0, 0, 0, 0, 0, 0, 0, 0, 0, 0, 0, 0, 0, 0, 0, 0, 0, 0, 0, 0, 0, 0, 0, 0, 0, 0, 0, 0, 0, 0, 0, 0, 0, 0, 0, 0, 0, 0, 0, 0, 0, 0, 0, 0, 0, 0, 0, 0, 0, 0, 0, 0, 0, 0, 0, 0, 0, 0, 0, 0, 0, 0, 0, 0, 0, 0, 0, 0, 0, 0, 0, 0, 0, 0, 0, 0, 0, 0, 0, 0, 0, 0, 0, 0, 0, 0, 0, 0, 0, 0, 0, 0, 0, 0, 0, 0, 0, 0, 0, 0, 0, 0, 0, 0, 0, 0, 0, 0, 0, 0, 0, 0, 0, 0, 0, 0, 0, 0, 0, 0, 0, 0, 0, 0, 0, 0, 0, 0, 0, 0, 0, 0, 0, 0, 0, 0, 0, 0, 0, 0, 0, 0, 0, 0, 0, 0, 0, 0, 0, 0, 0, 0, 0, 0, 0, 0, 0, 0, 0, 0, 0, 0, 0, 0, 0, 0, 0, 0, 0, 0, 0, 0, 0, 0, 0, 0, 0, 0, 0, 0, 0, 0, 0, 0, 0, 0, 0, 0, 0, 0, 0, 0, 0, 0, 0, 0, 0, 0, 0, 0, 0, 0, 0, 0, 0, 0, 0, 0, 0, 0, 0, 0, 0, 0, 0, 0, 0, 0, 0, 0, 0, 0, 0, 0, 0, 0, 0, 0, 0, 0, 0, 0, 0, 0, 0, 0, 0, 0, 0, 0, 0, 0, 0, 0, 0, 0, 0, 0, 0, 0, 0, 0, 0, 0, 0, 0, 0, 0, 0, 0, 0, 0, 0, 0, 0, 0, 0, 0, 0, 0, 0, 0, 0, 0, 0, 0, 0, 0, 0, 0, 0, 0, 0, 0, 0, 0, 0, 0, 0, 0, 0, 0, 0, 0, 0, 0, 0, 0, 0, 0, 0, 0, 0, 0, 0, 0, 0, 0, 0, 0, 0, 0, 0, 0, 0, 0, 0, 0, 0, 0, 0, 0, 0, 0, 0, 0, 0, 0, 0, 0, 0, 0, 0, 0, 0, 0, 0, 0, 0, 0, 0, 0, 0, 0, 0, 0, 0, 0, 0, 0, 0, 0, 0, 0, 0, 0, 0, 0, 0, 0, 0, 0, 0, 0, 0, 0, 0, 0, 0, 0, 0, 0, 0, 0, 0, 0, 0, 0, 0, 0, 0, 0, 0, 0, 0, 0, 0, 0, 0, 0, 0, 0, 0, 0, 0, 0, 0, 0, 0, 0, 0, 0, 0, 0, 0, 0, 0, 0, 0, 0, 0, 0, 0, 0, 0, 0, 0, 0, 0, 0, 0, 0, 0, 0, 0, 0, 0, 0, 0, 0, 0, 0, 0, 0, 0, 0, 0, 0, 0, 0, 0, 0, 0, 0, 0, 0, 0, 0, 0, 0, 0, 0, 0, 0, 0, 0, 0, 0, 0, 0, 0, 0, 0, 0, 0, 0, 0, 0, 0, 0, 0, 0, 0, 0, 0, 0, 0, 0, 0, 0, 0, 0, 0, 0, 0, 0, 0, 1, 0, 0, 0, 0, 0, 0, 0, 0, 0, 0, 0, 0, 0, 0, 0, 0, 0, 0, 0, 0, 0, 0, 0, 0, 0, 0, 0, 0, 0, 0, 0, 0, 0, 0, 0, 2, 0, 0, 0, 0, 0, 0, 0, 0, 0, 0, 0, 0, 0, 0, 0, 0, 0, 0, 0, 0, 0, 0, 0, 0, 0, 0, 0, 0, 0, 0, 0, 0, 0, 0, 0, 0, 0, 0, 0, 0, 1, 0, 0, 0, 0, 0, 0, 0, 0, 0, 0, 0, 0, 0, 0, 0, 0, 0, 0, 0, 0, 0, 0, 0, 0, 0, 0, 0, 0, 0, 0, 0, 0, 0, 0, 0, 0, 0, 0, 0, 0, 0, 0, 0, 0, 0, 0, 0, 0, 0, 0, 0, 0, 0, 0, 0, 0, 0, 0, 0, 0, 0, 0, 0, 0, 0, 0, 0, 0, 0, 0, 0, 0, 0, 0, 0, 0, 0, 0, 0, 0, 0, 0, 0, 0, 0, 0, 0, 0, 0, 0, 0, 0, 0, 0, 0, 0, 0, 0, 0, 0, 0, 0, 0, 0, 0, 0, 0, 0, 0, 0, 0, 0, 0, 0, 0, 0, 0, 0, 0, 0, 0, 0, 0, 0, 0, 0, 0, 0, 0, 0, 0, 0, 0, 0, 0, 0, 0, 0, 0, 0, 0, 0, 0, 0, 0, 0, 0, 0, 0, 0, 0, 0, 0, 0, 0, 0, 0, 0, 0, 0, 0, 0, 0, 0, 0, 0, 0, 0, 0, 0, 0, 0, 0, 0, 0, 0, 0, 0, 0, 0, 0, 0, 0, 0, 0, 0, 0, 0, 0, 0, 0, 0, 0, 0, 0, 0, 0, 0, 0, 0, 0, 0, 0, 0, 0, 0, 0, 0, 0, 0, 0, 0, 0, 0, 0, 0, 0, 0, 0, 0, 0, 0, 0, 0, 0, 0, 0, 0, 0, 0, 0, 0, 0, 0, 0, 0, 0, 0, 0, 0, 0, 0, 0, 0, 0, 0, 0, 0, 0, 0, 0, 0, 0, 0, 0, 0, 0, 0, 0, 0, 0, 0, 0, 0, 0, 0, 0, 0, 0, 0, 0, 0, 0, 0, 0, 0, 0, 0, 0, 0, 0, 0, 0, 0, 0, 0, 0, 0, 0, 0, 0, 0, 0, 0, 0, 0, 0, 0, 0, 0, 0, 0, 0, 0, 0, 0, 0, 0, 0, 0, 0, 0, 0, 0, 0, 0, 0, 0, 0, 0, 0, 0, 0, 0, 0, 0, 0, 0, 0, 0, 0, 0, 0, 0, 0, 0, 0, 0, 0, 0, 0, 0, 0, 0, 0, 0, 0, 0, 0, 0, 0, 0, 0, 0, 0, 0, 0, 0, 0, 0, 0, 0, 0, 0, 0, 0, 0, 0, 0, 0, 0, 0, 0, 0, 0, 0, 0, 0, 0, 0, 0, 0, 0, 0, 0, 0, 0, 0, 0, 0, 0, 0, 0, 0, 0, 0, 0, 0, 0, 0, 0, 0, 0, 0, 0, 0, 0, 0, 0, 0, 0, 0, 0, 0, 0, 0, 0, 0, 0, 0, 0, 0, 0, 0, 0, 0, 0, 0, 0, 0, 0, 0, 0, 0, 0, 0, 0, 0, 0, 0, 0, 0, 0, 0, 0, 0, 0, 0, 0, 0, 0, 0, 0, 0, 0, 0, 0, 0, 0, 0, 0, 0, 0, 0, 0, 0, 0, 0, 0, 0, 0, 0, 0, 0, 0, 0, 0, 0, 0, 0, 0, 0, 0, 0, 0, 0, 0, 0, 0, 0, 0, 0, 0, 0, 0, 0, 0, 1, 0, 0, 0, 0, 0, 0, 0, 0, 0, 0, 0, 0, 0, 0, 0, 0, 0, 0, 0, 0, 0, 0, 0, 0, 0, 0, 0, 0, 0, 0, 0, 0, 0, 0, 0, 0, 0, 0, 0, 0, 0, 0, 0, 0, 0, 0, 0, 0, 0, 0, 0, 0, 0, 0, 0, 0, 0, 0, 0, 0, 0, 0, 0, 0, 0, 0, 0, 0, 0, 0, 0, 0, 0, 0, 0, 0, 0, 0, 0, 0, 0, 0, 0, 0, 0, 0, 0, 0, 0, 0, 0, 0, 0, 0, 0, 0, 0, 0, 0, 0, 0, 0, 0, 0, 0, 0, 0, 0, 0, 0, 2, 0, 0, 0, 0, 0, 0, 0, 0, 0, 0, 0, 0, 0, 0, 0, 0, 0, 0, 0, 0, 0, 0, 0, 0, 0, 0, 0, 0, 0, 0, 0, 0, 0, 0, 0, 0, 0, 0, 0, 0, 0, 0, 0, 0, 0, 0, 0, 0, 0, 0, 0, 0, 0, 0, 0, 0, 0, 0, 0, 0, 0, 0, 0, 0, 0, 0, 0, 0, 0, 0, 0, 0, 0, 0, 0, 0, 0, 0, 0, 0, 0, 0, 0, 0, 0, 0, 0, 0, 0, 0, 0, 0, 0, 0, 0, 0, 0, 0, 0, 0, 0, 0, 0, 0, 0, 0, 0, 0, 0, 0, 0, 0, 0, 0, 0, 0, 0, 0, 0, 0, 0, 0, 0, 0, 0, 0, 0, 0, 0, 0, 0, 0, 0, 0, 0, 0, 0, 0, 0, 0, 0, 0, 0, 0, 0, 0, 0, 0, 0, 0, 0, 0, 0, 0, 0, 0, 0, 0, 0, 0, 0, 0, 0, 0, 0, 0, 0, 0, 0, 0, 0, 0, 0, 0, 0, 0, 0, 0, 0, 0, 0, 0, 0, 0, 0, 0, 0, 0, 0, 0, 0, 0, 0, 0, 0, 0, 0, 0, 0, 0, 0, 0, 0, 0, 0, 0, 0, 0, 0, 0, 0, 0, 0, 0, 0, 0, 0, 0, 0, 0, 0, 0, 0, 0, 0, 0, 0, 0, 0, 0, 0, 0, 0, 0, 0, 0, 0, 0, 0, 0, 0, 0, 0, 0, 0, 0, 0, 0, 0, 0, 0, 0, 0, 0, 0, 0, 0, 0, 0, 0, 0, 0, 0, 0, 0, 0, 0, 0, 0, 0, 0, 0, 0, 0, 0, 0, 0, 0, 0, 0, 0, 0, 0, 0, 0, 0, 0, 0, 0, 0, 0, 0, 0, 0, 0, 0, 0, 0, 0, 0, 0, 0, 0, 0, 0, 0, 0, 0, 0, 0, 0, 0, 0, 0, 0, 0, 0, 0, 0, 0, 0, 0, 0, 0, 0, 0, 0, 0, 0, 0, 0, 0, 0, 0, 0, 0, 0, 0, 0, 0, 0, 0, 0, 0, 0, 0, 0, 0, 0, 0, 0, 0, 0, 0, 0, 0, 0, 0, 0, 0, 0, 0, 0, 0, 0, 0, 0, 0, 0, 0, 0, 0, 0, 0, 0, 0, 0, 0, 0, 0, 0, 0, 0, 0, 0, 0, 0, 0, 0, 0, 0, 0, 0, 0, 0, 0, 0, 0, 0, 0, 0, 0, 0, 0, 0, 0, 0, 0, 0, 0, 0, 0, 0, 0, 0, 0, 0, 0, 0, 0, 0, 0, 0, 0, 0, 0, 0, 0, 0, 0, 0, 0, 0, 0, 0, 0, 0, 0, 0, 0, 0, 0, 0, 0, 0, 0, 0, 0, 0, 0, 0, 0, 0, 0, 0, 0, 0, 0, 0, 0, 0, 0, 0, 0, 0, 0, 0, 0, 0, 0, 0, 0, 0, 0, 0, 0, 0, 0, 0, 0, 0, 0, 0, 0, 0, 0, 0, 0, 0, 0, 0, 0, 0, 0, 0, 0, 0, 0, 0, 0, 0, 0, 0, 0, 0, 0, 0, 0, 0, 0, 0, 0, 0, 0, 0, 0, 0, 0, 0, 0, 0, 0, 0, 0, 0, 0, 0, 0, 0, 0, 0, 0, 0, 0, 0, 0, 0, 0, 0, 0, 0, 0, 0, 0, 0, 0, 0, 0, 0, 0, 0, 0, 0, 0, 0, 0, 0, 0, 0, 0, 0, 0, 0, 0, 0, 0, 0, 0, 0, 0, 0, 0, 0, 0, 0, 0, 0, 0, 0, 0, 0, 0, 0, 0, 0, 0, 0, 0, 0, 0, 0, 0, 0, 0, 0, 0, 0, 0, 0, 0, 0, 0, 0, 0, 0, 0, 0, 0, 0, 0, 0, 0, 0, 0, 0, 0, 0, 0, 0, 0, 0, 0, 0, 0, 0, 0, 0, 0, 0, 0, 0, 0, 0, 0, 0, 0, 0, 0, 0, 0, 0, 0, 0, 0, 0, 0, 0, 0, 0, 0, 0, 0, 0, 0, 0, 0, 0, 0, 0, 0, 0, 0, 0, 0, 0, 0, 0, 0, 0, 0, 0, 0, 0, 0, 0, 0, 0, 0, 0, 0, 0, 0, 0, 0, 0, 0, 0, 0, 0, 0, 1, 0, 0, 0, 0, 0, 0, 0, 0, 0, 0, 0, 0, 0, 0, 0, 0, 0, 0, 0, 0, 0, 0, 0, 0, 0, 0, 0, 0, 0, 0, 0, 0, 0, 0, 0, 0, 0, 0, 0, 0, 0, 0, 0, 0, 0, 0, 0, 0, 0, 0, 0, 0, 0, 0, 0, 0, 0, 0, 0, 0, 0, 0, 0, 0, 0, 0, 0, 0, 0, 0, 0, 0, 0, 0, 0, 0, 0, 0, 0, 0, 0, 0, 0, 0, 0, 0, 0, 0, 0, 0, 0, 0, 0, 0, 0, 0, 0, 0, 0, 0, 0, 0, 0, 0, 0, 0, 0, 1, 0, 0, 0, 0, 0, 0, 0, 0, 0, 0, 0, 0, 0, 0, 0, 0, 0, 0, 0, 0, 0, 0, 0, 0, 0, 0, 0, 0, 0, 0, 0, 0, 0, 0, 0, 0, 0, 0, 0, 0, 0, 0, 0, 0, 0, 0, 0, 0, 0, 0, 0, 0, 0, 0, 0, 0, 0, 0, 0, 0, 0, 0, 0, 0, 0, 0, 0, 0, 0, 0, 0, 0, 0, 0, 0, 0, 0, 0, 0, 0, 0, 0, 0, 0, 0, 0, 0, 0, 0, 0, 0, 0, 0, 0, 0, 0, 0, 0, 0, 0, 0, 0, 0, 0, 0, 0, 0, 0, 0, 0, 0, 0, 0, 0, 0, 0, 0, 0, 0, 0, 0, 0, 0, 0, 0, 0, 0, 0, 0, 0, 0, 0, 0, 0, 0, 0, 0, 0, 0, 0, 0, 0, 0, 0, 0, 0, 0, 0, 0, 0, 0, 0, 0, 0, 0, 0, 0, 0, 0, 0, 0, 0, 0, 0, 0, 0, 0, 0, 0, 0, 0, 0, 0, 0, 0, 0, 0, 0, 0, 0, 0, 0, 0, 0, 0, 0, 0, 0, 0, 0, 0, 0, 0, 0, 0, 0, 0, 0, 0, 0, 0, 0, 0, 0, 0, 0, 0, 0, 0, 0, 0, 0, 0, 0, 0, 0, 0, 0, 0, 0, 0, 0, 0, 0, 0, 0, 0, 0, 0, 0, 0, 0, 0, 0, 0, 0, 0, 0, 0, 0, 0, 0, 0, 0, 0, 0, 0, 0, 0, 0, 0, 0, 0, 0, 0, 0, 0, 0, 0, 0, 0, 0, 0, 0, 0, 0, 0, 0, 0, 0, 0, 0, 0, 0, 0, 0, 0, 0, 0, 0, 0, 0, 0, 0, 0, 0, 0, 0, 0, 0, 0, 0, 0, 0, 0, 0, 0, 0, 0, 0, 0, 0, 0, 0, 0, 0, 0, 0, 0, 0, 0, 0, 0, 0, 0, 0, 0, 0, 0, 0, 0, 0, 0, 0, 0, 0, 0, 0, 0, 0, 0, 0, 0, 0, 0, 0, 0, 0, 0, 0, 0, 0, 0, 0, 0, 0, 0, 0, 0, 0, 0, 0, 0, 0, 0, 0, 0, 0, 0, 0, 0, 0, 0, 0, 0, 0, 0, 0, 0, 0, 0, 0, 0, 0, 0, 0, 0, 0, 0, 0, 0, 0, 0, 0, 0, 0, 0, 0, 0, 0, 0, 0, 0, 0, 0, 0, 0, 0, 0, 0, 0, 0, 0, 0, 0, 0, 0, 0, 0, 0, 0, 0, 0, 0, 0, 0, 0, 0, 0, 0, 0, 0, 0, 0, 0, 0, 0, 0, 0, 0, 0, 0, 0, 0, 0, 0, 0, 0, 0, 0, 0, 0, 0, 0, 0, 0, 0, 0, 0, 0, 0, 0, 0, 0, 0, 0, 0, 0, 0, 0, 0, 0, 0, 2, 0, 1, 0], type: <class 'list'>, valid types: <class 'bytes'>, <class 'bytearray'>, file-like object"
     ]
    }
   ],
   "source": [
    "response = runtime.invoke_endpoint(EndpointName = xgb_predictor.endpoint, # The name of the endpoint we created\n",
    "                                       ContentType = 'text/csv',                     # The data format that is expected\n",
    "                                       Body = test_bow)"
   ]
  },
  {
   "cell_type": "markdown",
   "metadata": {},
   "source": [
    "So why did we get an error?\n",
    "\n",
    "Because we tried to send the endpoint a list of integers but it expected us to send data of type `text/csv`. So, we need to convert it."
   ]
  },
  {
   "cell_type": "code",
   "execution_count": 46,
   "metadata": {},
   "outputs": [],
   "source": [
    "response = runtime.invoke_endpoint(EndpointName = xgb_predictor.endpoint, # The name of the endpoint we created\n",
    "                                       ContentType = 'text/csv',                     # The data format that is expected\n",
    "                                       Body = ','.join([str(val) for val in test_bow]).encode('utf-8'))"
   ]
  },
  {
   "cell_type": "code",
   "execution_count": 47,
   "metadata": {},
   "outputs": [
    {
     "name": "stdout",
     "output_type": "stream",
     "text": [
      "{'ResponseMetadata': {'RequestId': 'e7c0660c-1054-4a5f-af52-1d42738e1d62', 'HTTPStatusCode': 200, 'HTTPHeaders': {'x-amzn-requestid': 'e7c0660c-1054-4a5f-af52-1d42738e1d62', 'x-amzn-invoked-production-variant': 'AllTraffic', 'date': 'Mon, 29 Jun 2020 18:56:05 GMT', 'content-type': 'text/csv; charset=utf-8', 'content-length': '14'}, 'RetryAttempts': 0}, 'ContentType': 'text/csv; charset=utf-8', 'InvokedProductionVariant': 'AllTraffic', 'Body': <botocore.response.StreamingBody object at 0x7fa2de065908>}\n"
     ]
    }
   ],
   "source": [
    "print(response)"
   ]
  },
  {
   "cell_type": "markdown",
   "metadata": {},
   "source": [
    "As we can see, the response from our model is a somewhat complicated looking dict that contains a bunch of information. The bit that we are most interested in is `'Body'` object which is a streaming object that we need to `read` in order to make use of."
   ]
  },
  {
   "cell_type": "code",
   "execution_count": 48,
   "metadata": {},
   "outputs": [
    {
     "name": "stdout",
     "output_type": "stream",
     "text": [
      "0.482893526554\n"
     ]
    }
   ],
   "source": [
    "response = response['Body'].read().decode('utf-8')\n",
    "print(response)"
   ]
  },
  {
   "cell_type": "markdown",
   "metadata": {},
   "source": [
    "Now that we know how to process the incoming user data we can start setting up the infrastructure to make our simple web app work. To do this we will make use of two different services. Amazon's Lambda and API Gateway services.\n",
    "\n",
    "Lambda is a service which allows someone to write some relatively simple code and have it executed whenever a chosen trigger occurs. For example, you may want to update a database whenever new data is uploaded to a folder stored on S3.\n",
    "\n",
    "API Gateway is a service that allows you to create HTTP endpoints (url addresses) which are connected to other AWS services. One of the benefits to this is that you get to decide what credentials, if any, are required to access these endpoints.\n",
    "\n",
    "In our case we are going to set up an HTTP endpoint through API Gateway which is open to the public. Then, whenever anyone sends data to our public endpoint we will trigger a Lambda function which will send the input (in our case a review) to our model's endpoint and then return the result."
   ]
  },
  {
   "cell_type": "markdown",
   "metadata": {},
   "source": [
    "### Setting up a Lambda function\n",
    "\n",
    "The first thing we are going to do is set up a Lambda function. This Lambda function will be executed whenever our public API has data sent to it. When it is executed it will receive the data, perform any sort of processing that is required, send the data (the review) to the SageMaker endpoint we've created and then return the result.\n",
    "\n",
    "#### Part A: Create an IAM Role for the Lambda function\n",
    "\n",
    "Since we want the Lambda function to call a SageMaker endpoint, we need to make sure that it has permission to do so. To do this, we will construct a role that we can later give the Lambda function.\n",
    "\n",
    "Using the AWS Console, navigate to the **IAM** page and click on **Roles**. Then, click on **Create role**. Make sure that the **AWS service** is the type of trusted entity selected and choose **Lambda** as the service that will use this role, then click **Next: Permissions**.\n",
    "\n",
    "In the search box type `sagemaker` and select the check box next to the **AmazonSageMakerFullAccess** policy. Then, click on **Next: Review**.\n",
    "\n",
    "Lastly, give this role a name. Make sure you use a name that you will remember later on, for example `LambdaSageMakerRole`. Then, click on **Create role**."
   ]
  },
  {
   "cell_type": "markdown",
   "metadata": {},
   "source": [
    "#### Part B: Create a Lambda function\n",
    "\n",
    "Now it is time to actually create the Lambda function. Remember from earlier that in order to process the user provided input and send it to our endpoint we need to gather two pieces of information:\n",
    "\n",
    " - The name of the endpoint, and\n",
    " - the vocabulary object.\n",
    "\n",
    "We will copy these pieces of information to our Lambda function after we create it.\n",
    "\n",
    "To start, using the AWS Console, navigate to the AWS Lambda page and click on **Create a function**. When you get to the next page, make sure that **Author from scratch** is selected. Now, name your Lambda function, using a name that you will remember later on, for example `sentiment_analysis_xgboost_func`. Make sure that the **Python 3.6** runtime is selected and then choose the role that you created in the previous part. Then, click on **Create Function**.\n",
    "\n",
    "On the next page you will see some information about the Lambda function you've just created. If you scroll down you should see an editor in which you can write the code that will be executed when your Lambda function is triggered. Collecting the code we wrote above to process a single review and adding it to the provided example `lambda_handler` we arrive at the following.\n",
    "\n",
    "```python\n",
    "# We need to use the low-level library to interact with SageMaker since the SageMaker API\n",
    "# is not available natively through Lambda.\n",
    "import boto3\n",
    "\n",
    "# And we need the regular expression library to do some of the data processing\n",
    "import re\n",
    "\n",
    "REPLACE_NO_SPACE = re.compile(\"(\\.)|(\\;)|(\\:)|(\\!)|(\\')|(\\?)|(\\,)|(\\\")|(\\()|(\\))|(\\[)|(\\])\")\n",
    "REPLACE_WITH_SPACE = re.compile(\"(<br\\s*/><br\\s*/>)|(\\-)|(\\/)\")\n",
    "\n",
    "def review_to_words(review):\n",
    "    words = REPLACE_NO_SPACE.sub(\"\", review.lower())\n",
    "    words = REPLACE_WITH_SPACE.sub(\" \", words)\n",
    "    return words\n",
    "    \n",
    "def bow_encoding(words, vocabulary):\n",
    "    bow = [0] * len(vocabulary) # Start by setting the count for each word in the vocabulary to zero.\n",
    "    for word in words.split():  # For each word in the string\n",
    "        if word in vocabulary:  # If the word is one that occurs in the vocabulary, increase its count.\n",
    "            bow[vocabulary[word]] += 1\n",
    "    return bow\n",
    "\n",
    "\n",
    "def lambda_handler(event, context):\n",
    "    \n",
    "    vocab = \"*** ACTUAL VOCABULARY GOES HERE ***\"\n",
    "    \n",
    "    words = review_to_words(event['body'])\n",
    "    bow = bow_encoding(words, vocab)\n",
    "\n",
    "    # The SageMaker runtime is what allows us to invoke the endpoint that we've created.\n",
    "    runtime = boto3.Session().client('sagemaker-runtime')\n",
    "\n",
    "    # Now we use the SageMaker runtime to invoke our endpoint, sending the review we were given\n",
    "    response = runtime.invoke_endpoint(EndpointName = '***ENDPOINT NAME HERE***',# The name of the endpoint we created\n",
    "                                       ContentType = 'text/csv',                 # The data format that is expected\n",
    "                                       Body = ','.join([str(val) for val in bow]).encode('utf-8')) # The actual review\n",
    "\n",
    "    # The response is an HTTP response whose body contains the result of our inference\n",
    "    result = response['Body'].read().decode('utf-8')\n",
    "    \n",
    "    # Round the result so that our web app only gets '1' or '0' as a response.\n",
    "    result = round(float(result))\n",
    "\n",
    "    return {\n",
    "        'statusCode' : 200,\n",
    "        'headers' : { 'Content-Type' : 'text/plain', 'Access-Control-Allow-Origin' : '*' },\n",
    "        'body' : str(result)\n",
    "    }\n",
    "```"
   ]
  },
  {
   "cell_type": "markdown",
   "metadata": {},
   "source": [
    "Once you have copy and pasted the code above into the Lambda code editor, replace the `**ENDPOINT NAME HERE**` portion with the name of the endpoint that we deployed earlier. You can determine the name of the endpoint using the code cell below."
   ]
  },
  {
   "cell_type": "code",
   "execution_count": 49,
   "metadata": {},
   "outputs": [
    {
     "data": {
      "text/plain": [
       "'xgboost-2020-06-29-18-22-14-659'"
      ]
     },
     "execution_count": 49,
     "metadata": {},
     "output_type": "execute_result"
    }
   ],
   "source": [
    "xgb_predictor.endpoint"
   ]
  },
  {
   "cell_type": "markdown",
   "metadata": {},
   "source": [
    "In addition, you will need to copy the vocabulary dict to the appropriate place in the code at the beginning of the `lambda_handler` method. The cell below prints out the vocabulary dict in a way that is easy to copy and paste."
   ]
  },
  {
   "cell_type": "code",
   "execution_count": 50,
   "metadata": {},
   "outputs": [
    {
     "name": "stdout",
     "output_type": "stream",
     "text": [
      "{'first': 1736, 'saw': 3798, 'breaking': 570, 'glass': 1917, 'in': 2257, '1980': 20, 'and': 226, 'thought': 4462, 'that': 4424, 'it': 2366, 'would': 4957, 'be': 418, 'one': 3107, 'of': 3083, 'the': 4426, 'movie': 2926, 'classics': 837, 'this': 4457, 'film': 1716, 'is': 2360, 'great': 1964, 'look': 2646, 'into': 2332, 'music': 2946, 'industry': 2280, 'with': 4911, 'cast': 710, 'performers': 3232, 'should': 3951, 'collection': 874, 'everyone': 1542, 'any': 256, 'wants': 4791, 'to': 4507, 'get': 1899, 'cant': 671, 'wait': 4770, 'for': 1784, 'available': 361, 'on': 3105, 'dvd': 1391, 'like': 2599, 'all': 187, 'cult': 1077, 'tv': 4610, 'shows': 3960, 'there': 4438, 'group': 1980, 'people': 3221, 'who': 4871, 'love': 2669, 'twilight': 4614, 'zone': 4999, 'so': 4046, 'much': 2934, 'they': 4442, 'rate': 3526, 'practically': 3362, 'every': 1539, 'episode': 1507, 'are': 285, 'greatest': 1966, 'ever': 1538, 'while': 4868, 'several': 3905, 'them': 4432, 'indeed': 2271, 'wonderful': 4928, 'truth': 4599, 'were': 4848, 'mediocre': 2791, 'at': 331, 'least': 2554, 'however': 2183, 'die': 1243, 'hard': 2033, 'these': 4441, 'lovers': 2673, 'gold': 1932, 'fact': 1621, 'what': 4858, 'initially': 2291, 'got': 1944, 'me': 2778, 'review': 3676, 'some': 4061, 'individual': 2277, 'episodes': 1508, 'couple': 1016, 'series': 3890, 'instead': 2307, 'movies': 2927, 'usually': 4700, 'watch': 4811, 'isnt': 2362, 'worst': 4952, 'made': 2697, 'nor': 3032, 'among': 217, 'very': 4723, 'poor': 3328, 'by': 642, 'reasonable': 3558, 'standard': 4144, 'widow': 4883, 'watches': 4814, 'long': 2644, 'civil': 826, 'war': 4792, 'soldiers': 4054, 'going': 1931, 'past': 3207, 'her': 2085, 'home': 2142, 'end': 1468, 'unexpected': 4650, 'twist': 4617, 'revealed': 3671, 'whole': 4873, 'lot': 2661, 'excitement': 1562, 'or': 3124, 'suspense': 4330, 'here': 2086, 'obviously': 3072, 'didnt': 1242, 'care': 684, 'things': 4451, 'come': 886, 'aka': 168, 'shape': 3919, 'as': 311, 'most': 2909, 'viewers': 4739, 'means': 2783, 'good': 1937, 'chance': 747, 'youll': 4988, 'enjoy': 1484, 'more': 2904, 'than': 4420, 'did': 1241, 'you': 4986, 'might': 2835, 'find': 1726, 'useful': 4694, 'hear': 2061, 'described': 1195, 'from': 1840, 'another': 250, 'point': 3316, 'view': 4736, 'directed': 1259, 'william': 4887, 'cameron': 661, 'had': 2003, 'experience': 1580, 'production': 3419, 'even': 1533, 'an': 223, 'art': 304, 'director': 1264, 'adaptation': 113, 'wells': 4845, 'his': 2118, 'own': 3158, 'novel': 3052, 'same': 3778, 'name': 2960, 'my': 2951, 'eyes': 1613, 'helps': 2082, 'why': 4878, 'may': 2775, 'not': 3040, 'necessarily': 2983, 'turn': 4605, 'out': 3141, 'screenwriter': 3833, 'opens': 3115, 'london': 2641, 'worried': 4949, 'reach': 3536, 'does': 1308, 'turns': 4609, 'decades': 1145, 'affair': 135, 'basically': 407, 'civilization': 827, 'keep': 2449, 'jumping': 2431, 'forward': 1808, 'time': 4495, 'show': 3953, 'us': 4690, 'different': 1248, 'scenes': 3811, 'related': 3594, 'its': 2370, 'we': 4823, 'see': 3855, 'two': 4620, 'coming': 896, 'terms': 4406, 'consequences': 947, 'their': 4431, 'fighting': 1709, 'meet': 2793, 'post': 3352, 'community': 908, 'over': 3148, 'man': 2721, 'futuristic': 1857, 'society': 4050, 'way': 4820, 'technology': 4385, 'changing': 752, 'finally': 1724, 'taken': 4350, 'full': 1846, 'where': 4864, 'merits': 2817, 'moon': 2900, 'sound': 4081, 'potentially': 3356, 'exciting': 1563, 'but': 636, 'just': 2437, 'work': 4940, 'far': 1653, 'too': 4522, 'little': 2624, 'tie': 4488, 'together': 4511, 'third': 4455, 'segment': 3867, 'completely': 922, 'lost': 2660, 'interest': 2323, 'trying': 4601, 'track': 4544, 'characters': 760, 'barely': 399, 'been': 438, 'able': 66, 'sort': 4077, 'segments': 3868, 'theres': 4440, 'constant': 957, 'new': 3003, 'faces': 1618, 'dont': 1324, 'learn': 2550, 'anything': 260, 'about': 67, 'doesnt': 1309, 'help': 2079, 'tend': 4400, 'edited': 1420, 'also': 199, 'occasionally': 3075, 'manipulative': 2727, 'can': 665, 'almost': 193, 'begin': 442, 'feel': 1684, 'propaganda': 3435, 'maybe': 2776, 'bit': 488, 'cold': 872, 'dry': 1377, 'emotionally': 1460, 'section': 3853, 'video': 4733, 'if': 2222, 'features': 1680, 'shots': 3950, 'building': 615, 'city': 825, 'lots': 2662, 'large': 2517, 'guy': 2000, 'looks': 2649, 'waves': 4819, 'camera': 659, 'through': 4477, 'kind': 2476, 'somewhere': 4069, 'between': 475, 'horror': 2168, 'score': 3822, 'say': 3799, 'consists': 955, 'engaging': 1481, 'material': 2766, 'drama': 1346, 'common': 906, 'cry': 1073, 'support': 4303, 'ideas': 2215, 'true': 4596, 'problems': 3409, 'looked': 2647, 'still': 4188, 'make': 2713, 'visual': 4757, 'dramatic': 1348, 'many': 2732, 'presented': 3376, 'idea': 2213, 'thats': 4425, 'fine': 1729, 'thing': 4450, 'remarkably': 3614, 'world': 4946, 'ii': 2226, 'was': 4805, 'scripted': 3835, 'filmed': 1717, 'released': 3603, 'has': 2043, 'interesting': 2325, 'which': 4867, 'go': 1924, 'against': 147, 'usual': 4699, 'interpretation': 2328, 'example': 1553, 'ending': 1471, 'seems': 3864, 'suggest': 4280, 'will': 4886, 'moment': 2886, 'overall': 3150, 'message': 2819, 'showing': 3958, 'simply': 3986, 'part': 3193, 'human': 2188, 'nature': 2975, 'cannot': 670, 'although': 201, 'progress': 3425, 'certainly': 738, 'enough': 1491, 'scene': 3809, 'poignant': 3315, 'deals': 1137, 'complex': 923, 'pilot': 3276, 'shot': 3949, 'other': 3135, 'down': 1335, 'now': 3054, 'him': 2110, 'carrying': 701, 'gas': 1874, 'across': 96, 'field': 1704, 'both': 547, 'without': 4913, 'girl': 1909, 'comes': 891, 'along': 195, 'only': 3110, 'have': 2052, 'offers': 3090, 'mask': 2752, 'he': 2056, 'says': 3801, 'hes': 2093, 'dying': 1393, 'anyway': 261, 'do': 1302, 'itself': 2371, 'could': 1007, 'stretched': 4222, 'feature': 1678, 'length': 2569, 'bizarre': 492, 'helping': 2081, 'hurt': 2202, 'each': 1395, 'build': 614, 'during': 1387, 'featuring': 1681, 'environment': 1505, 'nasty': 2968, 'disease': 1285, 'called': 652, 'wandering': 4785, 'around': 297, 'victims': 4730, 'something': 4066, 'drunken': 1376, 'zombies': 4998, 'shoot': 3942, 'site': 4005, 'attempt': 340, 'off': 3084, 'dealt': 1138, 'deserved': 1200, 'similarly': 3980, 'presents': 3377, 'future': 1856, 'having': 2054, 'controversial': 978, 'impossible': 2249, 'effectively': 1430, 'deal': 1135, 'stuff': 4243, '100': 1, 'minutes': 2859, 'especially': 1520, 'when': 4862, 'supposed': 4306, 'attraction': 350, 'reasons': 3560, 'give': 1912, 'viewing': 4740, 'youre': 4992, 'sci': 3815, 'fi': 1701, 'buff': 611, 'historically': 2120, 'important': 2247, 'given': 1913, 'background': 380, 'set': 3898, 'designs': 1204, 'cinematography': 820, 'extremely': 1610, 'dated': 1119, 'how': 2181, 'either': 1438, 'humorous': 2193, 'particularly': 3195, 'enjoyed': 1486, 'strongly': 4231, 'reminiscent': 3621, 'george': 1893, 'trip': 4588, 'le': 2544, 'la': 2500, 'expect': 1575, 'watching': 4815, 'trailer': 4554, 'rex': 3683, 'think': 4452, 'bad': 382, 'buddy': 609, 'cop': 991, 'comedy': 890, 'goldberg': 1933, 'dinosaur': 1255, 'costume': 1005, 'mostly': 2910, 'story': 4207, 'batman': 413, 'forever': 1792, 'direction': 1261, 'style': 4249, 'weird': 4841, 'character': 758, 'tale': 4353, 'lame': 2510, 'whether': 4866, 'horrible': 2163, 'dinosaurs': 1256, 'brought': 600, 'back': 378, 'life': 2592, 'amazing': 209, 'talk': 4358, 'walk': 4775, 'humans': 2190, 'detective': 1220, 'never': 3001, 'seriously': 3892, 'after': 143, 'murdered': 2940, 'case': 707, 'up': 4683, 'duo': 1386, 'solve': 4060, 'murder': 2939, 'audience': 352, 'stay': 4166, 'awake': 365, 'piece': 3272, 'starts': 4159, 'picture': 3269, 'normal': 3033, 'acting': 99, 'unbearable': 4633, 'listen': 2619, 'reason': 3557, 'being': 448, 'comedian': 887, 'famous': 1647, 'accents': 79, 'truly': 4597, 'awful': 372, 'lines': 2612, 'butt': 638, 'wow': 4962, 'line': 2610, 'kids': 2467, 'caliber': 649, 'annoying': 249, 'hoping': 2160, 'bite': 489, 'head': 2057, 'entire': 1502, 'knew': 2486, 'wanted': 4789, 'action': 100, 'occur': 3076, 'no': 3020, 'humor': 2192, 'non': 3027, 'try': 4600, 'funny': 1852, 'results': 3662, 'straight': 4210, 'faced': 1617, 'theyre': 4445, 'violent': 4748, 'stated': 4161, 'earlier': 1399, 'bunch': 623, 'jokes': 2415, 'nothing': 3047, 'works': 4945, 'pretty': 3384, 'original': 3129, 'else': 1448, 'huge': 2185, 'rip': 3700, 'roger': 3724, 'rabbit': 3498, 'cartoons': 705, 'exact': 1550, 'plot': 3309, 'killed': 2469, 'guys': 2001, 'christopher': 811, 'lloyd': 2630, 'sounds': 4084, 'act': 97, 'club': 863, 'jessica': 2398, 'walks': 4780, 'stage': 4139, 'better': 472, 'vhs': 4725, 'rating': 3529, '90': 60, 'pg': 3250, 'mild': 2839, 'violence': 4747, 'language': 2516, 'crude': 1069, 'aware': 368, 'films': 1721, '1970s': 17, 'green': 1971, 'rather': 3528, 'cheesy': 781, 'feed': 1683, 'under': 4639, 'impression': 2252, 'caused': 724, 'failed': 1626, 'soviet': 4089, 'union': 4661, '1930s': 11, 'left': 2561, 'millions': 2848, 'dead': 1132, 'because': 432, 'day': 1129, 'tragedy': 4551, 'rural': 3758, 'china': 795, 'led': 2558, '30': 42, 'million': 2847, 'deaths': 1142, '1950s': 14, 'let': 2579, 'forget': 1793, 'africa': 141, '1980s': 21, '90s': 61, 'conflicts': 940, 'consider': 949, 'heavily': 2069, 'areas': 287, 'earth': 1403, 'hong': 2149, 'kong': 2494, 'suffered': 4276, 'modern': 2882, 'times': 4497, 'likewise': 2603, 'cities': 823, 'seen': 3865, 'strictly': 4223, 'paid': 3169, 'countryside': 1015, 'image': 2233, 'streets': 4217, 'york': 4985, 'sleep': 4024, 'somewhat': 4068, 'laughable': 2530, 'don': 1320, 'fooled': 1780, 'thinking': 4453, 'pile': 3275, 'corny': 997, 'tree': 4576, 'crap': 1031, 'best': 469, '70s': 56, 'plays': 3301, 'knowledge': 2491, 'themselves': 4435, 'joy': 2422, 'finding': 1727, 'fresh': 1833, 'meat': 2787, 'ice': 2210, 'delivers': 1172, 'classic': 835, 'afford': 138, 'smoke': 4039, 'three': 4469, 'memorable': 2802, 'images': 2235, 'wild': 4885, 'animals': 240, 'running': 3756, 'water': 4816, 'snow': 4045, 'covered': 1023, 'mountains': 2918, 'generation': 1883, 'known': 2492, 'haunting': 2051, 'makes': 2716, 'combined': 885, 'final': 1722, 'screen': 3829, 'appearance': 274, 'edward': 1426, 'robinson': 3716, 'wise': 4903, 'old': 3100, 'elvira': 1450, 'bigger': 479, 'she': 3923, 'keeps': 2451, 'wit': 4908, 'talent': 4354, 'attention': 345, 'looking': 2648, 'adams': 112, 'anna': 245, 'smith': 4038, 'distant': 1295, 'relatives': 3601, 'estate': 1525, 'discover': 1279, 'really': 3556, 'scary': 3807, 'chilling': 794, 'campy': 664, 'fare': 1655, 'references': 3583, 'such': 4268, 'mob': 2879, 'heroine': 2091, 'favorite': 1671, 'uses': 4697, 'marvelous': 2750, 'break': 569, 'keeping': 2450, 'locked': 2637, 'sweet': 4336, 'written': 4972, 'vegas': 4717, 'type': 4621, 'sequences': 3888, 'contrived': 976, 'provided': 3449, 'laugh': 2529, 'thrilling': 4474, 'cops': 993, 'lone': 2642, 'silly': 3976, 'werent': 4849, 'black': 493, 'actors': 104, 'played': 3297, 'stereotypes': 4179, 'baby': 376, 'added': 116, 'touch': 4533, 'sympathy': 4343, 'difficult': 1249, 'otherwise': 3137, 'disagree': 1269, 'punch': 3466, 'judge': 2424, 'mark': 2739, 'wanting': 4790, 'weak': 4824, 'values': 4710, 'special': 4097, 'effects': 1431, 'gross': 1978, 'well': 4843, 'done': 1322, 'brady': 561, 'super': 4295, 'hot': 2174, 'nude': 3058, 'robert': 3713, 'leader': 2546, 'gang': 1867, 'hilarious': 2106, 'members': 2801, 'actually': 109, 'saying': 3800, 'nuclear': 3057, 'waste': 4808, '10': 0, 'fair': 1630, 'decent': 1147, 'quality': 3484, 'wasnt': 4807, 'job': 2405, 'damn': 1100, 'ive': 2372, 'hang': 2022, 'regular': 3592, 'basis': 408, 'killer': 2470, 'biggest': 480, 'problem': 3408, 'real': 3547, 'sense': 3877, 'since': 3990, 'blue': 518, 'filmmakers': 1720, 'ha': 2002, 'yeah': 4977, 'continuity': 972, 'errors': 1516, 'mainly': 2708, 'ms': 2931, 'indie': 2276, 'slasher': 4020, 'sure': 4308, 'beginning': 443, 'excuse': 1564, 'girls': 1911, 'topless': 4527, 'dialog': 1232, 'overly': 3155, 'painful': 3171, 'high': 2100, 'expectations': 1576, 'wont': 4932, 'cameo': 657, 'wonderfully': 4929, 'understated': 4646, 'popular': 3333, 'member': 2800, 'second': 3846, 'numerous': 3062, 'guest': 1992, 'spots': 4132, 'commercials': 903, 'canada': 666, 'someone': 4064, 'create': 1036, 'supporting': 4304, 'quite': 3495, 'watched': 4813, 'refreshing': 3586, 'though': 4461, 'am': 204, 'listed': 2618, 'jane': 2380, '2004': 34, 'wrong': 4973, '2005': 35, 'appeared': 276, 'global': 1920, 'early': 1400, '2006': 36, 'hopefully': 2157, 'couldnt': 1008, 'corner': 996, 'know': 2489, 'companion': 909, 'pieces': 3273, 'comparison': 914, 'last': 2521, 'detail': 1217, 'stretch': 4221, 'west': 4852, 'texas': 4418, 'scenery': 3810, 'desert': 1198, 'female': 1693, 'prisoner': 3402, 'navy': 2976, 'script': 3834, 'surprising': 4315, 'dennis': 1179, 'hopper': 2161, 'space': 4090, 'writes': 4970, 'theater': 4427, 'came': 656, 'years': 4979, 'ago': 154, 'liked': 2600, 'again': 146, 'year': 4978, 'check': 777, 'compared': 912, 'tell': 4395, 'need': 2987, 'miss': 2866, 'minute': 2858, 'follow': 1772, 'understand': 4643, 'producer': 3415, 'suit': 4284, 'gundam': 1997, 'wing': 4896, 'fourth': 1813, 'unlike': 4670, 'previous': 3387, 'focused': 1767, 'massive': 2756, 'wars': 4804, 'army': 295, 'vs': 4767, 'situation': 4008, 'five': 1743, 'teenage': 4389, 'boys': 559, 'due': 1382, 'ability': 65, 'blend': 504, 'adults': 126, 'machines': 2694, 'metal': 2823, 'used': 4693, 'construction': 960, 'leads': 2548, 'destroyed': 1214, 'replaced': 3634, 'suits': 4287, 'less': 2575, 'weapon': 4828, 'dolls': 1316, 'ran': 3513, 'question': 3487, 'gives': 1914, 'edge': 1418, 'greater': 1965, 'portion': 3338, 'anime': 243, 'adapted': 114, 'jump': 2429, 'america': 212, 'sets': 3899, 'apart': 264, 'top': 4525, 'battles': 415, 'gods': 1928, 'melodramatic': 2798, 'events': 1536, 'seem': 3861, 'normally': 3034, 'few': 1700, 'small': 4033, 'battle': 414, 'take': 4349, 'half': 2007, 'hour': 2176, 'happen': 2026, 'making': 2718, 'knows': 2493, 'won': 4925, 'actions': 101, 'magic': 2703, 'details': 1219, 'emotion': 1458, 'martial': 2747, 'arts': 310, 'science': 3816, 'fiction': 1702, 'country': 1014, 'hates': 2048, 'note': 3044, 'author': 359, 'state': 4160, 'plausible': 3295, 'religious': 3608, 'subject': 4253, 'matter': 2769, 'core': 995, 'star': 4150, 'hate': 2046, 'seed': 3856, 'japanese': 2382, 'voice': 4761, 'american': 213, 'audiences': 353, 'weeks': 4839, 'season': 3843, 'catch': 714, 'dubbed': 1379, 'versions': 4721, 'air': 164, 'cartoon': 704, 'network': 3000, 'sides': 3967, 'technically': 4382, 'heroes': 2089, 'those': 4460, 'defend': 1158, 'rights': 3697, 'wealthy': 4827, 'band': 391, 'terrorists': 4414, 'costs': 1004, 'protagonists': 3442, 'total': 4531, 'person': 3238, 'street': 4216, 'target': 4366, 'attack': 337, 'complaint': 920, 'ten': 4399, 'goes': 1930, 'change': 749, 'present': 3374, 'flashback': 1746, 'reveals': 3673, 'drags': 1345, 'project': 3427, 'oz': 3160, '2001': 31, '2003': 33, 'endless': 1473, 'ahead': 159, 'low': 2676, 'budget': 610, 'williams': 4888, 'family': 1645, 'living': 2629, 'california': 650, 'become': 433, 'witness': 4914, 'level': 2584, 'apparently': 270, 'theyve': 4446, 'caught': 722, 'highly': 2105, 'amusing': 221, 'light': 2595, 'creatures': 1046, 'friendly': 1836, 'tiny': 4500, 'et': 1526, 'imagination': 2236, 'nice': 3008, 'richard': 3686, 'likes': 2602, 'david': 1124, 'allen': 188, 'cook': 988, 'peter': 3247, 'importantly': 2248, 'likable': 2598, 'key': 2458, 'child': 789, 'inside': 2297, 'flaws': 1752, 'narrative': 2966, 'presentation': 3375, 'found': 1811, 'resist': 3648, 'short': 3946, '80': 58, 'credit': 1049, 'john': 2409, 'bud': 607, 'kingdom': 2480, 'fame': 1642, 'executive': 1567, 'charles': 764, 'alive': 186, 'entertaining': 1499, 'japan': 2381, 'noticed': 3049, 'disappointed': 1273, 'loved': 2670, 'versus': 4722, 'directors': 1266, 'debut': 1143, 'heard': 2062, 'blood': 512, 'kinds': 2478, 'frankly': 1823, 'went': 4847, 'store': 4204, 'wall': 4781, 'then': 4436, 'your': 4991, 'pick': 3265, 'plenty': 3307, 'pay': 3216, 'driven': 1365, 'personally': 3243, 'worth': 4953, 'course': 1019, 'subtitles': 4259, 'using': 4698, 'term': 4405, 'foreign': 1790, 'object': 3066, 'effect': 1428, 'brutal': 603, 'needs': 2990, 'heart': 2064, 'kept': 2456, 'underground': 4640, 'cube': 1076, 'suffer': 4275, 'bonus': 534, 'intense': 2316, 'gothic': 1945, 'artistic': 308, 'flashbacks': 1747, 'dream': 1354, 'rent': 3626, 'rated': 3527, 'strong': 4229, 'sexual': 3908, '13': 4, 'canadian': 667, 'eddie': 1416, 'murphy': 2944, 'stand': 4143, 'starred': 4153, 'places': 3284, 'saturday': 3792, 'night': 3013, 'raw': 3532, 'talking': 4360, 'childhood': 790, 'fun': 1848, 'singers': 3994, 'michael': 2829, 'fan': 1648, 'late': 2523, 'cable': 644, 'channels': 754, 'start': 4156, 'bed': 436, 'telling': 4396, 'easy': 1410, 'anti': 254, 'gun': 1996, 'chose': 804, 'changes': 751, 'formula': 1802, 'often': 3095, 'lead': 2545, 'affect': 136, 'happens': 2029, 'afterwards': 145, 'wish': 4904, 'explored': 1595, 'issues': 2365, 'drugs': 1374, 'frightening': 1839, 'nightmares': 3015, 'started': 4157, 'until': 4680, 'recently': 3567, 'candy': 668, 'mental': 2808, 'illness': 2230, 'aspect': 321, 'relative': 3599, 'suffers': 4278, 'nuts': 3064, 'writer': 4968, 'certain': 737, 'hospital': 2172, 'want': 4788, 'buy': 640, 'before': 440, 'theyll': 4444, 'thank': 4421, 'our': 3139, 'slow': 4031, 'put': 3480, 'perspective': 3245, 'felt': 1692, 'older': 3101, 'hall': 2009, 'hours': 2177, 'serial': 3889, 'promising': 3433, 'slowly': 4032, 'loses': 2657, 'pace': 3161, 'stories': 4205, 'justice': 2438, 'shown': 3959, '20': 29, 'forced': 1787, 'connect': 944, 'worse': 4951, 'dialogues': 1235, 'repeated': 3631, 'cinema': 816, 'stupid': 4247, 'realise': 3548, 'play': 3296, 'role': 3726, 'utter': 4701, 'beauty': 430, 'skills': 4014, 'loud': 2664, 'face': 1616, 'twists': 4619, 'jim': 2402, 'carrey': 696, 'akshay': 169, 'already': 197, 'tired': 4501, 'roles': 3727, 'couples': 1017, 'brilliance': 582, 'gets': 1900, 'guess': 1989, 'separate': 3883, 'assistant': 326, 'mixed': 2877, 'beyond': 476, 'choice': 797, 'single': 3996, 'test': 4416, 'sitcom': 4004, 'agree': 155, 'television': 4394, 'michelle': 2830, 'cute': 1090, 'talked': 4359, 'sometimes': 4067, 'said': 3774, 'relate': 3593, 'children': 792, 'teens': 4392, 'families': 1644, 'struggle': 4234, 'rough': 3741, 'opportunity': 3121, 'accidentally': 85, 'stole': 4194, 'learned': 2551, 'lesson': 2577, 'stealing': 4171, 'working': 4944, 'recommend': 3571, 'danny': 1112, 'unseen': 4678, 'simplistic': 3985, 'thriller': 4472, 'predictable': 3367, 'particular': 3194, 'attempts': 343, 'surprises': 4314, 'whatsoever': 4861, 'literally': 2622, 'cliché': 844, 'genre': 1888, 'contrary': 974, 'friends': 1837, 'pleasantly': 3303, 'surprised': 4313, 'obscure': 3068, 'nevertheless': 3002, '80s': 59, 'shock': 3938, 'handful': 2017, 'downright': 1337, 'brilliant': 583, 'casting': 711, 'beautiful': 428, 'ambitious': 211, 'reporter': 3636, 'jennifer': 2392, 'fast': 1661, 'equally': 1510, 'attractive': 351, 'travel': 4567, 'town': 4541, 'documentary': 1307, 'festival': 1697, 'hotel': 2175, 'forgot': 1796, 'search': 3841, 'place': 3282, 'trio': 4587, 'runs': 3757, 'suspicious': 4332, 'museum': 2945, 'remote': 3622, 'mansion': 2731, 'sister': 4001, 'victoria': 4732, 'hide': 2097, 'dark': 1115, 'murderous': 2942, 'secret': 3849, 'house': 2178, 'easily': 1406, 'cheap': 774, 'ultimately': 4628, 'psycho': 3457, 'massacre': 2754, 'familiar': 1643, 'themes': 4434, 'became': 431, 'notorious': 3051, 'twisted': 4618, 'secrets': 3852, 'killers': 2471, 'treatment': 4574, 'negative': 2991, 'remarks': 3615, 'unsettling': 4679, 'clearly': 840, 'intended': 2315, 'decade': 1144, 'clear': 839, 'maintain': 2710, 'mystery': 2956, 'evil': 1548, 'title': 4504, 'promised': 3431, 'choices': 798, 'performances': 3229, 'above': 68, 'patient': 3211, 'ideal': 2214, 'naturally': 2974, 'exactly': 1551, 'needed': 2988, 'stephen': 4176, 'eventually': 1537, 'away': 369, 'tremendous': 4579, 'performance': 3228, 'junior': 2435, 'acts': 107, 'authentic': 358, 'close': 853, 'basement': 405, 'genuinely': 1892, 'appeal': 271, 'fans': 1650, 'exploitation': 1592, 'generally': 1881, 'hands': 2020, 'rest': 3657, 'tone': 4517, 'uneven': 4649, 'compare': 911, 'legendary': 2565, 'stop': 4201, 'midnight': 2834, 'sun': 4292, 'realize': 3552, 'keaton': 2448, 'terrible': 4407, 'seemed': 3862, 'giving': 1915, 'effort': 1432, 'must': 2950, 'money': 2888, 'explanation': 1590, 'miller': 2846, 'death': 1141, 'sally': 3776, 'musical': 2947, 'four': 1812, 'dance': 1103, 'numbers': 3061, 'sings': 3997, 'songs': 4072, 'alone': 194, 'including': 2264, 'tune': 4602, 'latter': 2528, 'amateurish': 207, 'dancing': 1107, 'badly': 383, 'stock': 4193, 'stale': 4141, 'unfunny': 4655, 'situations': 4009, 'interested': 2324, 'performer': 3231, 'general': 1880, 'entertainment': 1500, 'hidden': 2096, 'dear': 1140, 'hand': 2015, 'bugs': 613, 'storyline': 4208, 'loose': 2650, 'unnecessary': 4672, 'purpose': 3474, 'description': 1197, 'delivered': 1170, 'despite': 1211, 'cut': 1089, 'unusual': 4681, 'independent': 2272, 'based': 404, 'dialogue': 1234, 'brilliantly': 584, 'father': 1666, 'son': 4070, 'planning': 3291, 'masterpiece': 2759, 'tragic': 4552, 'managed': 2723, 'anybody': 257, 'emotional': 1459, 'scale': 3802, 'laughter': 2535, 'tears': 4380, 'perfect': 3224, 'balance': 387, 'dentist': 1180, 'morning': 2906, 'dr': 1340, 'alan': 171, 'wife': 4884, 'linda': 2609, 'hoffman': 2128, 'wedding': 4836, 'surface': 4310, 'mr': 2929, 'mrs': 2930, 'los': 2653, 'angeles': 233, 'successful': 4266, 'career': 686, 'responsibility': 3655, 'beneath': 464, 'discovers': 1281, 'matt': 2768, 'swimming': 4338, 'pool': 3327, 'add': 115, 'sex': 3907, 'roberts': 3714, 'next': 3007, 'door': 1328, 'neck': 2985, 'shed': 3924, 'load': 2631, 'lose': 2654, 'mind': 2849, 'himself': 2111, 'everything': 1544, 'rotten': 3740, 'patients': 3212, 'teeth': 4393, 'fix': 1744, 'begins': 444, 'anger': 235, 'young': 4989, 'boy': 557, 'named': 2961, 'brian': 576, 'april': 284, 'deliberately': 1166, 'performs': 3234, 'starting': 4158, 'tried': 4584, 'gordon': 1940, 'surprise': 4312, 'expecting': 1578, 'friday': 1834, '13th': 5, 'body': 527, 'count': 1010, 'villain': 4744, 'turned': 4606, 'study': 4242, 'mans': 2730, 'descent': 1193, 'madness': 2698, 'im': 2232, 'subsequent': 4257, 'moves': 2925, 'connection': 946, 'sees': 3866, 'pass': 3201, 'odd': 3080, 'anyone': 259, 'probably': 3407, 'ill': 2228, 'extent': 1605, 'takes': 4351, 'fear': 1676, 'torture': 4529, 'pulling': 3463, 'peoples': 3222, 'sexually': 3910, 'performing': 3233, 'gore': 1941, 'dog': 1310, 'knife': 2487, 'angles': 237, 'splatter': 4118, 'floor': 1759, 'wide': 4880, 'angle': 236, 'unconvincing': 4638, 'involved': 2346, 'putting': 3482, 'cool': 989, 'favourite': 1673, 'ken': 2453, 'finest': 1730, 'expected': 1577, 'perhaps': 3235, 'checking': 778, 'definitely': 1162, 'june': 2433, 'cultural': 1078, 'identity': 2217, 'succeed': 4262, 'approach': 282, 'drew': 1360, 'wealth': 4826, 'spanish': 4092, 'song': 4071, 'twelve': 4611, 'allowing': 191, 'power': 3359, 'creative': 1041, 'use': 4692, 'moved': 2922, 'throughout': 4478, 'screens': 3832, 'shadows': 3913, 'fire': 1734, 'rain': 3506, 'glorious': 1921, 'program': 3424, 'passion': 3205, 'creator': 1043, 'elderly': 1440, 'dancers': 1105, 'traditional': 4550, 'poorly': 3329, 'executed': 1565, 'mean': 2779, 'johnny': 2410, 'quest': 3486, 'obnoxious': 3067, 'blond': 510, 'hair': 2005, 'twin': 4615, 'genius': 1887, 'sisters': 4002, 'dad': 1095, 'smart': 4035, 'busy': 635, 'oh': 3096, 'god': 1926, 'mother': 2911, 'crazy': 1035, 'maker': 2714, 'gay': 1876, 'shame': 3918, 'travesty': 4570, 'word': 4937, 'words': 4938, 'describe': 1194, 'folks': 1771, 'list': 2617, 'animated': 241, 'playing': 3300, 'pre': 3365, 'escape': 1517, 'later': 2525, 'british': 589, 'thrills': 4475, 'dare': 1113, 'whilst': 4869, 'survival': 4320, 'run': 3755, 'relies': 3606, 'pure': 3471, 'simple': 3983, 'effective': 1429, 'yes': 4982, 'believable': 453, 'carry': 700, 'thru': 4483, 'amount': 219, 'adventure': 130, 'perfectly': 3226, 'frame': 1815, 'big': 478, 'thumbs': 4485, 'absolutely': 72, 'stunning': 4244, 'aids': 161, 'relationship': 3597, 'fears': 1677, 'sensitive': 3879, 'lives': 2628, 'outside': 3146, 'room': 3735, 'whatever': 4859, 'destiny': 1212, 'incredibly': 2270, 'endearing': 1469, 'private': 3404, 'offensive': 3086, 'grown': 1984, 'ups': 4686, 'regret': 3591, 'hadnt': 2004, 'read': 3543, 'yet': 4984, 'totally': 4532, 'jewish': 2401, 'primary': 3394, 'except': 1556, 'howard': 2182, 'campbell': 663, 'terrific': 4409, 'spy': 4135, 'usa': 4691, 'wwii': 4975, 'humanity': 2189, 'questions': 3489, 'opinion': 3118, 'bear': 420, 'guilt': 1994, 'hero': 2088, 'live': 2625, 'paying': 3217, 'political': 3324, 'protagonist': 3441, 'guilty': 1995, 'date': 1118, '60': 53, 'matters': 2770, 'absolute': 71, 'besides': 468, 'women': 4923, 'actress': 105, 'portraying': 3343, 'max': 2774, 'doing': 1312, 'gorgeous': 1942, 'footage': 1782, 'current': 1084, 'boring': 543, 'acted': 98, 'repeat': 3630, 'dollar': 1314, 'write': 4967, 'trash': 4565, 'convey': 982, 'garbage': 1870, 'columbo': 881, 'undoubtedly': 4648, 'ranks': 3519, 'tedious': 4387, 'pointless': 3318, 'unwatchable': 4682, 'drivel': 1364, 'talents': 4356, 'bored': 541, 'falk': 1636, 'slightest': 4028, 'hint': 2112, 'ingredients': 2289, 'success': 4265, 'proceedings': 3410, 'possibly': 3351, 'introduced': 2337, 'producers': 3416, 'altogether': 202, 'ridiculous': 3693, 'avoid': 363, 'plague': 3285, 'task': 4368, 'sit': 4003, 'move': 2921, 'stopped': 4202, 'period': 3236, 'conversations': 981, 'groups': 1981, 'tied': 4489, 'rare': 3523, 'captures': 678, 'essence': 1521, 'mid': 2832, 'obsession': 3070, 'supposedly': 4307, 'remember': 3616, 'kid': 2464, 'grave': 1962, 'bodies': 526, 'sacrifice': 3766, 'satan': 3787, '24': 39, 'bought': 552, 'bucks': 606, 'suck': 4269, 'cover': 1022, 'extreme': 1609, 'gotta': 1946, 'shoots': 3944, 'crowd': 1067, 'awesome': 371, 'ones': 3108, 'youth': 4994, 'teenager': 4390, 'embarrassed': 1453, 'dogs': 1311, 'abandoned': 62, 'finds': 1728, 'enjoyable': 1485, 'shirley': 3936, 'temple': 4398, 'lively': 2627, 'opening': 3114, 'gag': 1861, 'dealing': 1136, 'taste': 4369, 'quickly': 3491, 'forgotten': 1797, 'highlight': 2103, 'climactic': 848, 'realistic': 3550, 'overlooked': 3154, 'today': 4508, 'reel': 3581, 'subjects': 4254, 'studios': 4241, 'training': 4558, 'front': 1841, 'behind': 447, 'creating': 1039, 'writing': 4971, 'produce': 3413, 'capable': 672, 'range': 3516, 'soccer': 4048, 'husband': 2204, 'trademark': 4548, 'goal': 1925, 'pitch': 3279, 'equivalent': 1512, 'ball': 388, 'baseball': 403, 'spectacular': 4101, 'main': 2707, 'bedroom': 437, 'parents': 3188, 'number': 3060, 'property': 3438, 'homage': 2141, 'friend': 1835, 'lesbian': 2573, 'gags': 1862, 'sports': 4130, 'england': 1482, 'gift': 1906, 'seemingly': 3863, 'overcome': 3151, 'absence': 70, 'professional': 3421, 'womens': 4924, 'league': 2549, 'uk': 4626, 'hence': 2083, 'indian': 2274, 'fashioned': 1660, 'ways': 4822, 'allow': 189, 'daughters': 1122, 'engage': 1479, 'contact': 961, 'portrayed': 3342, 'figures': 1713, 'ironic': 2355, 'fat': 1663, 'greek': 1970, 'loves': 2674, 'hell': 2077, 'growing': 1983, 'ok': 3098, 'hitchcock': 2123, 'feeling': 1685, 'develop': 1222, 'disappoint': 1272, 'surreal': 4317, 'superb': 4296, 'soundtrack': 4085, 'infamous': 2284, 'mass': 2753, 'suicide': 4283, 'incident': 2260, 'jones': 2418, 'built': 618, 'church': 813, 'empire': 1464, 'sleazy': 4023, 'committed': 905, 'drinking': 1362, 'aid': 160, 'horrifying': 2167, 'sadistic': 3768, 'ned': 2986, 'beatty': 427, 'leo': 2571, 'ryan': 3765, 'foster': 1809, 'brad': 560, 'brenda': 575, 'burton': 630, 'powers': 3361, 'stands': 4147, 'becomes': 434, 'riveting': 3708, 'thus': 4486, 'wonder': 4926, 'manages': 2725, 'twenty': 4612, 'revolution': 3680, 'tom': 4514, 'al': 170, 'pacino': 3164, 'arrive': 300, 'immediately': 2242, 'annie': 247, 'getting': 1901, 'bits': 490, 'chain': 741, 'link': 2613, 'fired': 1735, 'standing': 4146, 'ground': 1979, 'following': 1774, 'model': 2880, 'washington': 4806, 'english': 1483, 'captain': 674, 'indians': 2275, 'plan': 3287, 'sneak': 4043, 'kick': 2460, 'officer': 3092, 'donald': 1321, 'hugh': 2186, 'hudson': 2184, 'unique': 4662, 'atmosphere': 333, 'thick': 4447, 'painting': 3175, 'monsters': 2893, 'once': 3106, 'hollywoods': 2138, 'hatred': 2049, 'steven': 4182, 'appears': 278, 'soldier': 4053, 'near': 2979, 'closing': 859, 'central': 735, 'basic': 406, 'mess': 2818, 'ray': 3533, 'hope': 2155, 'vast': 4716, 'majority': 2712, 'considered': 951, 'relevant': 3604, 'mundane': 2938, 'vague': 4705, 'humour': 2194, 'routine': 3743, 'rich': 3685, 'bring': 585, 'deliver': 1169, 'laughs': 2534, 'thin': 4449, 'side': 3965, 'sorts': 4078, 'alongside': 196, 'notably': 3042, 'resulting': 3661, 'romance': 3732, 'mildly': 2840, 'bare': 398, 'dynamic': 1394, 'unfortunately': 4654, 'mentioned': 2811, 'rarely': 3524, 'typical': 4623, 'kate': 2446, 'business': 633, 'woman': 4921, 'hired': 2117, 'class': 833, 'dumb': 1385, 'blonde': 511, 'amy': 222, 'unlikely': 4671, 'decides': 1150, 'leave': 2555, 'hopeless': 2158, 'carl': 692, 'obvious': 3071, 'differences': 1247, 'premise': 3370, 'lacks': 2505, 'aforementioned': 139, 'chemistry': 782, 'semi': 3874, 'fail': 1625, 'personality': 3242, 'dimensional': 1253, 'demand': 1174, 'laughed': 2532, 'moments': 2887, 'fell': 1690, 'scripts': 3836, 'page': 3167, 'multi': 2935, 'grade': 1951, 'plastic': 3294, 'capital': 673, 'bore': 540, 'costumes': 1006, 'painted': 3174, 'blues': 519, 'fantasy': 1652, 'arent': 288, 'romantic': 3733, 'ultimate': 4627, 'failure': 1629, 'purely': 3472, 'value': 4709, 'similar': 3978, 'boat': 523, 'slight': 4027, 'respect': 3652, 'remarkable': 3613, 'worthy': 4956, 'comedic': 888, 'headed': 2058, 'shallow': 3917, 'jamie': 2379, 'ward': 4793, 'creepy': 1052, 'plain': 3286, 'centers': 734, 'carries': 699, 'dull': 1384, 'seeing': 3857, 'barbara': 397, 'eye': 1611, 'gem': 1877, 'thousands': 4466, 'miles': 2843, 'entirely': 1503, 'obsessed': 3069, 'herself': 2092, 'media': 2789, 'self': 3869, 'brand': 565, 'admire': 121, 'anymore': 258, 'united': 4664, 'happened': 2027, 'sold': 4052, 'soul': 4079, 'buck': 605, 'days': 1130, 'team': 4378, 'gain': 1863, 'basketball': 409, 'rule': 3753, 'football': 1783, 'false': 1641, 'cringe': 1059, 'red': 3576, 'throwing': 4480, 'desperately': 1209, 'onto': 3111, 'arm': 292, 'save': 3794, 'marriage': 2743, 'stunt': 4245, 'pathetic': 3210, 'mistake': 2871, 'importance': 2246, 'feels': 1687, 'grace': 1950, 'learning': 2552, 'complain': 919, 'constantly': 958, 'luck': 2681, 'joe': 2407, 'baker': 385, 'clark': 832, 'downhill': 1336, 'ugly': 4625, 'rolling': 3730, 'sheriff': 3929, 'mafia': 2700, 'hit': 2122, 'rules': 3754, 'wearing': 4831, 'cowboy': 1025, 'french': 1830, 'seventies': 3904, 'always': 203, 'public': 3460, 'viewer': 4738, 'criminals': 1058, 'satisfied': 3789, 'car': 680, 'etc': 1527, 'critic': 1061, 'towards': 4540, 'died': 1244, 'hed': 2072, 'stuck': 4237, 'proves': 3447, 'beat': 423, 'timeless': 4496, 'pleasure': 3306, 'titles': 4506, 'book': 535, 'right': 3696, 'discovered': 1280, 'prisoners': 3403, 'cell': 730, 'placed': 3283, 'company': 910, 'builds': 617, 'mad': 2696, 'reading': 3544, 'male': 2719, 'fight': 1707, '1999': 27, 'dangerous': 1110, 'meanwhile': 2785, 'suddenly': 4273, 'experiment': 1583, 'reveal': 3670, 'terrifying': 4410, 'staged': 4140, 'within': 4912, 'prison': 3401, 'suited': 4286, 'limited': 2606, 'conclusion': 936, 'necessary': 2984, 'serves': 3895, 'doomed': 1327, 'closed': 854, 'elsewhere': 1449, 'trapped': 4564, 'victim': 4729, 'criminal': 1057, 'wishing': 4907, 'price': 3389, 'irony': 2357, 'form': 1798, 'imagine': 2238, 'greatly': 1967, 'eric': 1514, 'succeeds': 4264, 'critics': 1064, 'adult': 125, 'instance': 2304, 'develops': 1226, 'delivery': 1173, 'aspects': 322, 'hardly': 2036, 'puts': 3481, 'foot': 1781, 'table': 4346, 'genuine': 1891, 'men': 2805, 'darkness': 1117, 'pages': 3168, 'pacing': 3163, 'cutting': 1092, 'hollywood': 2137, 'productions': 3420, 'culture': 1079, 'quick': 3490, 'european': 1530, 'manner': 2729, 'shocking': 3940, '1983': 22, 'excellent': 1555, 'journey': 2421, 'taking': 4352, 'soon': 4074, 'release': 3602, 'received': 3564, 'tension': 4404, 'worthwhile': 4955, 'product': 3418, 'ah': 158, 'crew': 1053, 'asleep': 320, 'summary': 4290, 'win': 4892, 'charlotte': 766, 'strange': 4211, 'fever': 1699, 'causes': 725, 'creation': 1040, 'bleak': 503, 'sad': 3767, 'middle': 2833, 'lonely': 2643, 'lacking': 2504, 'drawing': 1350, 'draw': 1349, 'legs': 2566, 'frequently': 1832, 'figure': 1711, 'whats': 4860, 'process': 3412, 'tries': 4585, 'harder': 2035, 'wake': 4774, 'kill': 2468, 'trap': 4563, 'sum': 4289, 'poetic': 3313, 'explain': 1586, 'serious': 3891, 'exceptionally': 1559, 'childrens': 793, 'meant': 2784, 'memories': 2803, 'rose': 3739, 'creates': 1038, 'moody': 2899, 'backdrop': 379, 'stays': 4169, 'qualities': 3483, 'leaves': 2556, 'symbolism': 4341, 'sink': 3999, 'enjoys': 1489, 'games': 1865, 'impressed': 2251, 'powerful': 3360, 'finale': 1723, 'smile': 4036, 'tear': 4379, 'visuals': 4759, 'parts': 3199, 'shes': 3930, 'award': 366, 'proper': 3436, 'toward': 4539, 'overlook': 3153, 'wished': 4905, 'took': 4523, 'darker': 1116, 'proved': 3446, 'books': 536, 'deserves': 1201, 'lover': 2672, 'ride': 3692, 'told': 4513, 'innocent': 2294, 'splendid': 4119, 'setting': 3900, 'island': 2361, 'addition': 118, 'ready': 3546, 'pity': 3281, 'fall': 1637, 'shooting': 3943, 'event': 1535, 'accurate': 90, 'prince': 3396, 'granted': 1957, 'intention': 2319, 'judging': 2425, 'court': 1020, 'historical': 2119, 'expert': 1585, 'ie': 2221, 'princess': 3397, 'mouth': 2920, 'speaking': 4095, 'prime': 3395, 'sympathetic': 4342, 'shoes': 3941, 'whose': 4877, 'convincing': 985, 'brown': 601, 'queen': 3485, 'honest': 2146, 'techniques': 4384, 'distracting': 1297, 'result': 3660, 'satisfying': 3791, 'samurai': 3779, 'seeks': 3860, 'physical': 3262, 'inspired': 2301, 'mature': 2773, 'territory': 4411, 'missed': 2867, 'detailed': 1218, 'reviews': 3679, 'neat': 2982, 'unrealistic': 4677, 'control': 977, 'weekend': 4838, 'cabin': 643, 'bill': 481, 'hill': 2108, 'police': 3322, 'owner': 3159, 'wreck': 4965, 'dragged': 1343, 'useless': 4695, 'admit': 122, 'intrigued': 2334, 'mysterious': 2955, 'angry': 238, 'offended': 3085, 'wouldnt': 4958, 'flat': 1748, 'host': 2173, 'painfully': 3172, 'editing': 1421, 'fairly': 1631, 'tortured': 4530, 'snake': 4042, 'shut': 3961, 'aside': 315, 'minor': 2857, 'similarities': 3979, 'atmospheric': 334, 'worthless': 4954, 'flick': 1754, 'library': 2589, 'market': 2740, 'junk': 2436, 'flicks': 1755, 'mysteries': 2954, 'titanic': 4503, 'solid': 4057, 'imdb': 2240, 'user': 4696, 'nowadays': 3055, 'theaters': 4428, 'twice': 4613, 'month': 2896, 'safe': 3771, 'disaster': 1276, 'killing': 2472, 'ship': 3934, 'challenge': 743, 'james': 2378, 'lets': 2580, 'jack': 2373, 'someones': 4065, 'lovely': 2671, 'dedicated': 1153, 'workers': 4943, 'blows': 517, 'bettie': 473, 'soft': 4051, 'porn': 3336, 'remains': 3611, 'actual': 108, 'mary': 2751, 'desired': 1206, 'sexuality': 3909, 'todays': 4509, 'standards': 4145, 'color': 877, 'spiritual': 4116, 'nudity': 3059, 'dressing': 1359, 'underlying': 4641, 'deeply': 1156, 'pictures': 3270, 'content': 966, 'captured': 677, 'nicely': 3009, 'social': 4049, 'depicted': 1183, 'turner': 4607, 'glad': 1916, 'age': 148, 'brings': 587, 'faith': 1633, 'points': 3319, 'attempted': 341, 'id': 2212, 'spoiler': 4123, 'warning': 4800, 'pushed': 3478, 'breaks': 571, 'appear': 273, 'tells': 4397, 'partner': 3198, 'phone': 3255, 'hasnt': 2044, 'drink': 1361, 'mention': 2810, 'report': 3635, 'drunk': 1375, 'huh': 2187, 'surprisingly': 4316, 'considering': 952, 'faults': 1669, 'answer': 251, 'dropped': 1370, 'opened': 3113, 'actresses': 106, 'fully': 1847, 'gave': 1875, 'oscar': 3133, 'levels': 2585, 'via': 4726, 'havent': 2053, 'formulaic': 1803, 'teen': 4388, 'school': 3813, 'crying': 1074, 'stereotypical': 4180, 'actor': 103, 'shine': 3931, 'blockbuster': 509, 'buried': 624, 'removed': 3624, 'stupidity': 4248, '50': 51, 'vision': 4754, 'funniest': 1851, 'intent': 2318, 'wasting': 4810, 'wasted': 4809, 'offer': 3087, 'sky': 4017, 'stiff': 4187, 'appreciate': 279, 'flash': 1745, 'theyd': 4443, 'advice': 133, 'neither': 2996, 'reminds': 3620, 'couldve': 1009, 'worked': 4941, 'scream': 3826, 'lack': 2502, 'inspiration': 2300, 'hip': 2114, 'tongue': 4518, 'cheek': 779, 'recent': 3566, 'parody': 3192, 'neo': 2998, 'direct': 1258, 'fictional': 1703, 'commentary': 899, 'finished': 1733, 'killings': 2473, '12': 3, 'students': 4239, 'professor': 3422, 'decided': 1149, 'tap': 4364, 'surviving': 4323, 'finish': 1732, 'returns': 3668, 'dies': 1245, 'quote': 3496, 'degree': 1164, 'development': 1225, 'daughter': 1121, 'ruined': 3751, 'wouldve': 4959, 'none': 3028, 'whoever': 4872, 'lucky': 2683, 'cuts': 1091, 'climax': 849, 'urban': 4688, 'legend': 2564, 'concept': 930, 'sequel': 3885, 'par': 3184, 'avoided': 364, 'roots': 3738, 'honesty': 2148, 'unfortunate': 4653, 'angels': 234, 'translation': 4562, 'involves': 2348, 'meeting': 2794, 'cross': 1066, 'focuses': 1768, 'others': 3136, 'morgan': 2905, 'freeman': 1829, 'research': 3644, 'ends': 1474, 'spending': 4106, 'lady': 2507, 'lane': 2515, 'land': 2511, 'secretary': 3850, 'merely': 2815, 'lower': 2677, 'grows': 1985, 'upset': 4687, 'stood': 4199, 'sincere': 3991, 'friendship': 1838, 'convincingly': 986, 'presence': 3373, 'credibility': 1047, 'charm': 767, 'tough': 4537, 'nonsense': 3030, 'successfully': 4267, 'artist': 307, 'road': 3709, 'richards': 3687, 'directs': 1267, 'dressed': 1358, 'silver': 3977, 'outfit': 3144, 'destroying': 1215, 'evidence': 1546, 'kinda': 2477, 'largely': 2518, 'average': 362, 'chest': 784, 'below': 462, 'fits': 1741, 'naked': 2959, 'appealing': 272, 'utterly': 4702, 'rubbish': 3748, 'redeeming': 3577, 'ratings': 3530, 'skip': 4016, 'trilogy': 4586, 'trust': 4598, 'missing': 2869, 'agent': 150, 'matrix': 2767, 'created': 1037, 'ships': 3935, 'holding': 2130, 'button': 639, 'latest': 2526, 'lies': 2591, 'fantastic': 1651, 'talented': 4355, 'academy': 77, 'awards': 367, 'dislike': 1288, 'nomination': 3026, '11': 2, 'oscars': 3134, 'shouldnt': 3952, 'grinch': 1975, 'seasons': 3844, 'nightmare': 3014, 'christmas': 810, 'principal': 3398, 'villains': 4745, 'higher': 2101, 'pack': 3165, 'moral': 2902, 'doll': 1313, 'movements': 2924, 'unreal': 4676, 'saves': 3796, 'portrayal': 3341, 'fool': 1779, 'unless': 4669, 'call': 651, 'contains': 964, 'italian': 2367, 'del': 1165, 'prefer': 3368, 'sea': 3838, 'strangely': 4212, 'camp': 662, 'soap': 4047, 'opera': 3116, 'freak': 1824, 'notice': 3048, 'zombie': 4997, 'hilariously': 2107, 'preview': 3386, 'screening': 3830, 'insult': 2309, 'receives': 3565, 'emma': 1457, 'existence': 1571, 'version': 4720, '1996': 26, 'confidence': 938, 'faithful': 1634, 'paltrow': 3178, 'pleasant': 3302, 'virtually': 4751, 'existent': 1572, 'superior': 4300, 'flawed': 1750, 'masterful': 2758, 'conversation': 980, 'happiness': 2031, 'frank': 1821, 'achieve': 92, 'loss': 2659, 'promise': 3430, 'realizes': 3554, 'transition': 4561, 'selfish': 3870, 'behavior': 446, 'thoughtful': 4463, 'dvds': 1392, 'ourselves': 3140, 'share': 3920, 'positive': 3346, 'theme': 4433, 'singer': 3993, 'dancer': 1104, 'bird': 484, 'comedies': 889, 'lifestyle': 2593, '40': 48, 'arthur': 305, 'fortune': 1806, 'susan': 4326, 'chosen': 805, 'thinks': 4454, 'falls': 1640, 'waitress': 4773, 'petty': 3249, 'thief': 4448, 'moore': 2901, 'worlds': 4947, 'antics': 255, 'admittedly': 123, 'ladies': 2506, 'appropriate': 283, 'sir': 4000, 'portrays': 3344, 'butler': 637, 'witty': 4917, 'credits': 1050, 'roll': 3728, 'listening': 2620, 'audio': 354, 'scott': 3824, 'excited': 1561, 'disappointment': 1275, 'six': 4010, 'capture': 676, 'trees': 4577, 'witch': 4909, 'invasion': 2340, 'clever': 841, 'raised': 3508, 'magnificent': 2705, 'carried': 698, 'survivors': 4325, 'plane': 3288, 'crash': 1033, 'heres': 2087, 'gonna': 1936, 'sucks': 4271, 'creators': 1044, 'directing': 1260, 'unbelievable': 4634, 'notch': 3043, 'beats': 426, 'clues': 865, 'adds': 119, 'changed': 750, 'major': 2711, 'thoughts': 4464, 'beating': 425, 'flawless': 1751, 'impressive': 2253, 'instant': 2305, 'reached': 3537, 'further': 1853, 'comment': 898, 'believing': 457, 'disney': 1289, 'gadget': 1860, 'names': 2963, 'brain': 562, 'reduced': 3579, 'fancy': 1649, 'horrors': 2169, 'security': 3854, 'guard': 1988, 'inspector': 2299, 'disneys': 1290, 'blatant': 502, 'introduce': 2336, 'opposite': 3123, 'nowhere': 3056, 'guessed': 1990, 'sake': 3775, 'comic': 893, 'relief': 3605, 'paper': 3183, 'ass': 323, 'months': 2897, 'displayed': 1292, 'videos': 4734, 'kapoor': 2443, 'happy': 2032, 'starring': 4154, 'rock': 3720, 'falling': 1639, 'plots': 3310, 'rescue': 3643, 'airplane': 166, 'various': 4715, 'whenever': 4863, 'possible': 3350, 'depressed': 1187, 'sheer': 3925, 'calling': 653, 'whom': 4875, 'accent': 78, 'maggie': 2702, 'exposure': 1599, 'sadly': 3769, 'east': 1407, 'reminded': 3619, 'sinatra': 3989, 'chinese': 796, 'park': 3190, 'hopes': 2159, 'challenging': 744, 'include': 2261, 'sorry': 4076, 'ages': 152, 'asking': 318, 'longer': 2645, 'wondering': 4930, 'fred': 1825, 'trite': 4589, 'wrote': 4974, 'loosely': 2651, 'online': 3109, 'drop': 1369, 'local': 2634, 'college': 875, 'producing': 3417, 'teach': 4374, 'structure': 4233, 'miike': 2837, 'lately': 2524, 'nervous': 2999, 'return': 3665, 'treat': 4572, 'bothered': 549, 'cgi': 740, 'fit': 1740, 'continues': 971, 'hearted': 2065, 'stars': 4155, 'attached': 336, 'blow': 514, 'curse': 1086, 'kelly': 2452, 're': 3535, 'clichés': 846, 'menacing': 2807, 'overdone': 3152, 'lit': 2621, 'mood': 2898, 'showcase': 3954, 'food': 1778, 'kidnapped': 2466, 'fellow': 1691, 'order': 3126, 'hold': 2129, 'tense': 4403, 'prevent': 3385, 'website': 4834, 'sitting': 4007, 'lord': 2652, 'filmmaker': 1719, 'styles': 4250, 'ordinary': 3128, '1990s': 25, 'silent': 3975, 'moronic': 2907, 'laws': 2540, 'believe': 454, 'tim': 4494, 'signed': 3971, 'losing': 2658, 'multiple': 2936, 'hollow': 2135, 'prove': 3445, 'theatre': 4429, 'waited': 4771, 'walked': 4776, 'youd': 4987, 'neil': 2995, 'remake': 3612, 'confusing': 942, 'disjointed': 1287, 'robots': 3718, 'jumps': 2432, 'giant': 1905, 'monster': 2892, 'robot': 3717, 'causing': 726, 'destruction': 1216, 'logical': 2639, 'flying': 1764, 'retarded': 3663, 'creature': 1045, 'laughing': 2533, 'kidding': 2465, 'iii': 2227, 'box': 555, 'scientist': 3818, 'machine': 2693, 'designed': 1203, 'protect': 3443, 'mentions': 2813, 'rushed': 3760, 'device': 1227, 'exists': 1573, 'risk': 3704, 'annoyed': 248, 'source': 4086, 'idiot': 2218, 'animation': 242, 'depressing': 1188, 'doubt': 1332, 'thrown': 4481, 'rid': 3690, 'south': 4087, 'week': 4837, 'babe': 375, 'pops': 3332, 'editor': 1423, 'crack': 1027, 'opinions': 3119, 'pulls': 3464, 'execution': 1566, 'prom': 3429, 'cardboard': 682, 'blame': 499, 'lousy': 2667, 'inept': 2281, 'brave': 567, 'bomb': 531, 'robbins': 3712, 'matthau': 2771, 'plus': 3311, 'shines': 3932, 'noted': 3045, 'highlights': 2104, 'speech': 4102, 'poetry': 3314, 'kudos': 2497, 'writers': 4969, 'curtis': 1087, 'chick': 786, 'eight': 1436, 'hey': 2095, 'kevin': 2457, 'entertain': 1497, 'inner': 2292, 'deserve': 1199, 'vampire': 4711, 'idiotic': 2219, 'complete': 921, 'race': 3499, 'vampires': 4712, 'brothers': 599, 'melodrama': 2797, 'center': 732, 'bottom': 551, 'beautifully': 429, 'native': 2972, 'funeral': 1849, 'lived': 2626, 'blind': 506, 'birth': 486, 'inevitably': 2283, 'sight': 3969, 'insight': 2298, 'familys': 1646, 'believes': 456, 'solution': 4059, 'conventional': 979, 'subtle': 4260, 'pat': 3208, 'gradually': 1952, 'accept': 80, 'significant': 3972, 'decision': 1151, 'represent': 3637, 'boyfriend': 558, 'fascinating': 1658, 'remain': 3609, 'cared': 685, 'innovative': 2295, 'careful': 688, 'cinematic': 818, 'narration': 2965, 'saving': 3797, 'technique': 4383, 'spooky': 4128, 'forest': 1791, 'household': 2179, 'larger': 2519, 'history': 2121, 'trade': 4547, 'elements': 1443, 'critical': 1062, 'distinct': 1296, 'bloody': 513, 'miserable': 2863, 'king': 2479, 'storytelling': 4209, 'nearly': 2981, 'theory': 4437, 'disturbing': 1300, 'recognition': 3568, 'breasts': 572, 'likely': 2601, 'de': 1131, 'niro': 3019, 'chase': 769, 'force': 1786, 'arguably': 289, 'yourself': 4993, 'surfing': 4311, 'sean': 3840, 'catherine': 719, 'girlfriend': 1910, 'drug': 1373, 'pal': 3177, 'hints': 2113, 'spends': 4107, 'slightly': 4029, 'landscapes': 2514, 'mainstream': 2709, 'trouble': 4592, 'plant': 3293, 'enters': 1496, 'orders': 3127, 'refuses': 3587, 'reality': 3551, 'factor': 1622, 'enjoyment': 1488, 'german': 1896, 'exaggerated': 1552, 'occasional': 3074, 'willing': 4889, 'germans': 1897, 'argue': 290, 'dreams': 1355, 'colors': 879, 'contemporary': 965, 'lights': 2597, 'appearing': 277, 'alternate': 200, 'universe': 4666, 'represents': 3639, 'describes': 1196, 'amazingly': 210, 'moving': 2928, 'ford': 1789, 'touching': 4536, 'provoking': 3452, 'achievement': 94, 'intelligent': 2314, 'celluloid': 731, 'seven': 3903, 'generous': 1886, 'trick': 4582, 'improvement': 2256, 'incredible': 2269, 'rangers': 3517, 'myself': 2953, 'fifteen': 1706, 'embarrassment': 1455, 'types': 4622, 'fails': 1628, 'halloween': 2010, 'acceptable': 81, 'dust': 1388, 'heights': 2073, 'ear': 1397, 'marks': 2742, 'suspenseful': 4331, 'scare': 3803, 'category': 718, 'regard': 3588, 'afraid': 140, 'talks': 4361, 'horrific': 2166, 'nail': 2957, 'doctor': 1304, 'pain': 3170, 'international': 2326, 'losers': 2656, 'system': 4345, 'andrew': 228, 'inventive': 2341, 'personal': 3240, 'aged': 149, 'path': 3209, 'bottle': 550, 'apartment': 265, 'loving': 2675, 'ruthless': 3764, 'grandmother': 1955, 'steals': 4172, 'provides': 3450, 'winner': 4897, 'passed': 3202, 'march': 2734, '2002': 32, 'double': 1331, 'anthony': 253, 'facial': 1619, 'expressions': 1603, 'spoke': 4125, 'doubts': 1333, 'desperation': 1210, 'depth': 1190, 'tracy': 4546, 'hyde': 2206, 'profound': 3423, 'winters': 4901, 'vulnerable': 4768, 'believed': 455, 'repeatedly': 3632, 'messed': 2821, 'stick': 4185, 'spoilers': 4124, 'brother': 598, 'drive': 1363, 'remotely': 3623, 'fake': 1635, 'flesh': 1753, 'idiots': 2220, 'hood': 2151, 'contained': 963, 'doctors': 1305, 'wear': 4830, 'please': 3304, 'intellectual': 2312, 'endure': 1475, 'somehow': 4063, 'mistaken': 2872, 'brief': 579, 'drawn': 1351, 'repetitive': 3633, 'base': 402, 'superficial': 4298, 'irrelevant': 2358, 'compelled': 915, 'jumped': 2430, 'raising': 3509, 'dollars': 1315, 'operation': 3117, 'joke': 2414, 'nonsensical': 3031, 'terribly': 4408, 'snl': 4044, 'extra': 1606, 'essentially': 1523, 'andy': 230, 'includes': 2263, 'disappointing': 1274, 'pull': 3461, 'chair': 742, 'co': 867, 'funnier': 1850, 'pride': 3391, 'relatively': 3600, 'portray': 3340, 'picked': 3266, 'attitude': 346, 'gentle': 1890, 'ensemble': 1492, '40s': 49, 'flow': 1762, 'europe': 1529, 'selling': 3873, 'hooked': 2153, 'hal': 2006, 'minimum': 2856, '30s': 44, 'blew': 505, 'record': 3573, 'copy': 994, 'borrowed': 545, 'dialogs': 1233, 'wolf': 4920, 'commented': 900, 'comments': 901, 'sell': 3871, 'offered': 3088, 'open': 3112, 'minded': 2850, 'westerns': 4854, 'hung': 2197, 'mountain': 2917, 'warriors': 4803, 'eastern': 1408, 'crime': 1055, 'slapstick': 4019, 'ancient': 225, 'represented': 3638, 'possibilities': 3348, 'alike': 185, 'deep': 1154, 'instantly': 2306, 'deeper': 1155, 'presumably': 3380, 'heavy': 2070, 'duty': 1390, 'accomplished': 87, 'oliver': 3102, 'blair': 497, 'julia': 2427, 'struggles': 4235, 'atrocious': 335, 'lyrics': 2692, 'awkward': 374, 'broadway': 592, 'filming': 1718, 'bargain': 400, 'locations': 2636, 'props': 3439, 'competent': 917, 'step': 4175, 'threw': 4470, 'mini': 2854, 'cause': 723, 'transformation': 4560, 'redemption': 3578, 'nicholas': 3010, 'firstly': 1737, 'cage': 645, 'honestly': 2147, 'ears': 1402, 'secondly': 3847, 'relations': 3596, 'gotten': 1947, 'appreciation': 281, 'kissing': 2484, 'santa': 3783, 'wicked': 4879, 'grew': 1972, 'bitter': 491, 'toys': 4543, 'spirit': 4113, 'harris': 2038, 'paul': 3214, 'gory': 1943, 'fulci': 1845, 'cat': 713, 'prostitute': 3440, 'brutally': 604, 'miserably': 2864, 'giallo': 1904, 'compelling': 916, 'incoherent': 2265, 'introduces': 2338, 'potential': 3355, 'inane': 2258, 'thoroughly': 4459, 'photography': 3260, 'thankfully': 4422, 'advise': 134, '2000': 30, 'walter': 4784, 'extraordinary': 1607, 'meaning': 2780, 'president': 3378, 'bank': 394, 'purposes': 3475, 'homeless': 2143, 'miracle': 2860, 'simon': 3982, 'restaurant': 3658, 'clean': 838, 'resort': 3650, 'chooses': 800, 'unhappy': 4656, 'circumstances': 822, 'met': 2822, 'laura': 2536, 'worker': 4942, 'unknown': 4668, 'free': 1827, 'daniel': 1111, 'wonders': 4931, 'reflect': 3584, 'handsome': 2021, 'projects': 3428, 'spite': 4117, 'fallen': 1638, 'meets': 2795, 'noble': 3021, 'ridden': 3691, 'pseudo': 3454, 'turkey': 4604, 'filled': 1715, 'beer': 439, 'exception': 1557, 'dirty': 1268, 'chicago': 785, 'experiences': 1582, 'murders': 2943, 'returned': 3666, 'bible': 477, 'acid': 95, 'distance': 1294, 'monk': 2889, 'steps': 4177, 'goofy': 1939, 'position': 3345, 'string': 4227, 'alex': 179, 'mike': 2838, 'game': 1864, 'helped': 2080, '1968': 16, 'roy': 3745, 'married': 2744, 'divorce': 1301, 'relationships': 3598, 'okay': 3099, 'revenge': 3675, 'sticks': 4186, 'freddy': 1826, 'lisa': 2616, 'demons': 1178, 'dean': 1139, 'bat': 410, '15': 7, 'according': 88, 'reviewers': 3678, 'players': 3299, 'enter': 1494, '1960s': 15, 'produced': 3414, 'spare': 4093, 'upon': 4684, 'imagery': 2234, 'sentimental': 3882, 'element': 1442, 'joseph': 2419, 'glimpse': 1919, 'conceived': 929, 'lifetime': 2594, 'horribly': 2164, 'lengthy': 2570, 'whos': 4876, 'commercial': 902, 'helen': 2075, 'hunt': 2198, 'persona': 3239, 'portrait': 3339, 'calls': 654, 'response': 3654, 'expression': 1602, 'design': 1202, 'seat': 3845, 'kills': 2474, '1972': 18, 'sinister': 3998, 'concerning': 933, 'gruesome': 1986, 'involving': 2349, 'murderer': 2941, 'insane': 2296, 'requires': 3642, 'ridiculously': 3694, 'fashion': 1659, 'catchy': 717, 'germany': 1898, 'pleased': 3305, 'sequence': 3887, 'rats': 3531, 'em': 1452, 'rape': 3521, 'leading': 2547, 'print': 3399, 'loads': 2633, 'extras': 1608, 'boot': 538, 'thanks': 4423, 'asian': 314, 'closer': 856, 'cameras': 660, 'horses': 2171, 'trek': 4578, 'river': 3707, 'guessing': 1991, 'rise': 3702, 'feet': 1688, 'era': 1513, 'facing': 1620, 'slaughter': 4021, 'explained': 1587, 'reunion': 3669, 'citizen': 824, 'kane': 2442, 'dawn': 1127, 'ghost': 1902, 'leslie': 2574, 'holmes': 2139, 'asks': 319, 'grey': 1973, 'analysis': 224, 'signs': 3973, 'bullets': 621, 'decide': 1148, 'cinderella': 815, 'law': 2538, 'pop': 3330, 'blown': 516, 'sandra': 3782, 'ben': 463, 'lazy': 2543, 'forgettable': 1794, 'underrated': 4642, 'birthday': 487, 'chris': 806, 'pitt': 3280, 'royal': 3746, 'gene': 1879, 'astaire': 330, 'clothing': 861, 'rooms': 3736, 'walls': 4783, 'jerry': 2396, 'mouse': 2919, 'wears': 4832, 'white': 4870, 'briefly': 580, 'mgm': 2828, 'studio': 4240, 'saved': 3795, 'plans': 3292, 'spend': 4105, 'information': 2288, 'ask': 316, 'aunt': 355, 'increasingly': 2268, 'complicated': 925, 'misses': 2868, 'sleeping': 4025, 'train': 4556, 'suppose': 4305, 'irritating': 2359, 'singing': 3995, 'concert': 935, 'beaten': 424, 'ruins': 3752, 'interview': 2329, 'ashamed': 312, 'oddly': 3081, 'pamela': 3179, 'brooklyn': 595, 'aint': 163, 'sophisticated': 4075, 'juvenile': 2441, 'began': 441, 'searching': 3842, 'properly': 3437, 'developed': 1223, 'victor': 4731, 'bet': 470, 'simmons': 3981, 'vincent': 4746, 'advance': 127, 'switch': 4339, 'throw': 4479, 'sword': 4340, 'rat': 3525, 'survivor': 4324, 'born': 544, 'originally': 3131, 'broadcast': 591, 'remembered': 3617, 'bbc': 417, 'dramas': 1347, 'sunday': 4293, 'eyre': 1614, 'spot': 4131, 'rochester': 3719, 'st': 4137, 'dalton': 1098, 'timothy': 4499, 'arms': 294, 'memory': 2804, 'tricks': 4583, 'perfection': 3225, 'passing': 3204, 'noir': 3023, 'lie': 2590, 'nobody': 3022, 'jay': 2386, 'interaction': 2322, 'fate': 1665, 'becoming': 435, 'difference': 1246, 'hills': 2109, 'jackie': 2374, 'chan': 746, 'martin': 2748, 'lawrence': 2539, 'fed': 1682, 'nights': 3016, 'lacked': 2503, 'dragon': 1344, 'settle': 3902, 'afternoon': 144, 'realism': 3549, 'natural': 2973, 'frustrated': 1842, 'virgin': 4749, 'grow': 1982, 'party': 3200, 'tales': 4357, 'females': 1694, 'youve': 4995, 'walking': 4779, 'zero': 4996, 'commit': 904, 'grab': 1949, 'stomach': 4196, 'makers': 2715, 'adventures': 131, 'golden': 1934, 'danger': 1109, 'damage': 1099, 'wind': 4893, 'douglas': 1334, 'master': 2757, 'spoiled': 4122, 'bacall': 377, 'miscast': 2862, 'dorothy': 1330, 'strength': 4219, 'alcoholic': 177, 'lucy': 2684, 'frustration': 1843, 'intensity': 2317, 'explosion': 1596, 'crappy': 1032, 'craig': 1030, 'intentions': 2321, 'travels': 4569, 'aired': 165, 'irish': 2353, 'rebel': 3561, 'oil': 3097, 'concerns': 934, 'government': 1948, 'lawyer': 2541, 'australia': 356, 'trial': 4580, 'accused': 91, 'wave': 4818, 'hanging': 2023, 'understanding': 4645, 'beliefs': 452, 'web': 4833, 'sudden': 4272, 'discovery': 1282, 'continue': 969, 'contrast': 975, 'scientific': 3817, 'lee': 2559, 'dinner': 1254, 'disturbed': 1299, 'charlie': 765, 'investigation': 2343, 'surrounding': 4319, 'convinced': 984, 'troubled': 4593, 'priest': 3392, 'answers': 252, '25': 40, 'doom': 1326, 'possibility': 3349, 'realized': 3553, 'ashley': 313, 'joey': 2408, 'dave': 1123, 'uncle': 4636, 'jesse': 2397, 'macy': 2695, 'mitchell': 2875, 'mentally': 2809, 'creep': 1051, 'farce': 1654, 'messages': 2820, 'phony': 3256, 'aging': 153, 'waiting': 4772, 'lucas': 2680, 'conflict': 939, 'health': 2060, 'proud': 3444, 'survived': 4322, 'exercise': 1568, 'logic': 2638, 'shark': 3921, 'fill': 1714, 'artists': 309, 'covers': 1024, 'halfway': 2008, 'stinker': 4191, 'joined': 2413, 'popcorn': 3331, 'stevens': 4183, 'edgar': 1417, '60s': 54, 'belief': 451, 'terry': 4415, 'richardson': 3688, 'gangster': 1868, 'karen': 2444, 'drops': 1372, '50s': 52, 'sits': 4006, 'unintentional': 4658, 'terror': 4412, 'fx': 1858, 'former': 1800, 'pet': 3246, 'directly': 1263, 'naive': 2958, 'facts': 1624, 'cia': 814, 'returning': 3667, 'variety': 4714, 'feelings': 1686, 'shadow': 3912, 'september': 3884, 'react': 3540, 'dignity': 1252, 'consistent': 953, 'spread': 4133, 'blacks': 494, 'regardless': 3590, 'states': 4163, 'dubbing': 1380, 'exceptional': 1558, 'military': 2844, 'scientists': 3819, 'itll': 2369, 'proceeds': 3411, 'guns': 1998, 'worry': 4950, 'contain': 962, 'epic': 1506, 'cleverly': 842, 'con': 928, 'bumbling': 622, 'neighbor': 2992, 'warm': 4794, 'rising': 3703, 'computer': 927, 'sub': 4252, 'displays': 1293, 'kim': 2475, 'abusive': 75, 'somebody': 4062, 'cars': 702, 'devoted': 1231, 'mall': 2720, 'thugs': 4484, 'iron': 2354, 'woods': 4935, 'screaming': 3827, 'insulting': 2310, 'lighting': 2596, 'upper': 4685, 'relation': 3595, 'evening': 1534, 'godfather': 1927, 'lion': 2614, 'energy': 1478, 'humble': 2191, 'grand': 1953, 'silence': 3974, 'continued': 970, 'jean': 2389, 'nose': 3037, 'kicked': 2461, 'haunted': 2050, 'surely': 4309, 'amanda': 205, 'random': 3514, 'unforgettable': 4652, 'panic': 3181, 'emotions': 1461, 'confusion': 943, 'unfolds': 4651, 'rage': 3505, 'driving': 1368, 'forces': 1788, 'sarah': 3785, 'office': 3091, 'floating': 1758, 'inevitable': 2282, 'abilities': 64, 'offering': 3089, 'appreciated': 280, 'characterization': 759, 'viewed': 4737, 'sons': 4073, 'louis': 2665, 'factory': 1623, 'enterprise': 1495, 'france': 1816, 'paris': 3189, 'staff': 4138, 'motion': 2913, 'size': 4012, 'piano': 3264, 'strip': 4228, 'newly': 3004, 'per': 3223, 'maria': 2736, 'showed': 3956, 'determined': 1221, '16': 8, 'magazine': 2701, 'weight': 4840, 'location': 2635, 'spring': 4134, 'riding': 3695, 'photographed': 3258, 'arrival': 299, 'dozen': 1338, 'sat': 3786, 'movement': 2923, 'doors': 1329, 'ignore': 2224, 'transfer': 4559, 'kung': 2498, 'fu': 1844, 'needless': 2989, 'bruce': 602, 'cup': 1080, 'tea': 4373, 'kicks': 2463, 'method': 2824, 'nonetheless': 3029, 'philip': 3252, 'outstanding': 3147, 'rogers': 3725, 'quiet': 3492, 'typically': 4624, 'ann': 244, 'adorable': 124, 'gifted': 1907, 'jon': 2416, 'eerie': 1427, 'dress': 1357, 'recommended': 3572, 'wrestling': 4966, 'russian': 3762, 'intelligence': 2313, 'clint': 850, 'eastwood': 1409, 'hippie': 2115, 'kay': 2447, 'scenario': 3808, 'match': 2762, 'intimate': 2331, 'uncomfortable': 4637, 'trained': 4557, 'african': 142, 'spoken': 4126, 'jr': 2423, 'credible': 1048, 'responsible': 3656, 'concerned': 932, 'exist': 1569, 'feminist': 1695, 'muslim': 2949, 'politically': 3325, 'correct': 1000, 'fonda': 1777, 'wins': 4899, 'sexy': 3911, 'henry': 2084, 'synopsis': 4344, 'montage': 2894, 'hardcore': 2034, 'laid': 2508, 'required': 3641, 'serve': 3893, 'arrives': 302, 'partly': 3197, 'knowing': 2490, 'immensely': 2243, 'rubber': 3747, 'introduction': 2339, 'ex': 1549, 'sent': 3880, 'focus': 1766, 'mere': 2814, 'window': 4894, 'blob': 507, 'burn': 625, 'buildings': 616, 'clothes': 860, 'cards': 683, 'therefore': 4439, 'bringing': 586, 'mindless': 2851, 'crafted': 1029, 'barry': 401, 'fox': 1814, 'reputation': 3640, 'sloppy': 4030, 'mile': 2842, 'pie': 3271, 'minds': 2852, 'erotic': 1515, 'originality': 3130, 'ho': 2127, 'amateur': 206, 'renting': 3629, 'sick': 3963, 'interviews': 2330, 'individuals': 2278, 'happening': 2028, 'abc': 63, 'wrap': 4963, 'currently': 1085, 'forgive': 1795, 'entertained': 1498, 'map': 2733, 'clichéd': 845, 'torn': 4528, 'struck': 4232, 'forbidden': 1785, '2007': 37, 'blowing': 515, 'recorded': 3574, 'apparent': 269, 'australian': 357, 'rachel': 3500, 'speaks': 4096, 'breathtaking': 574, 'sounding': 4083, 'fbi': 1675, 'trail': 4553, 'card': 681, 'benefit': 465, 'counter': 1011, 'convoluted': 987, 'leaving': 2557, 'hook': 2152, 'reactions': 3542, 'pot': 3354, 'odds': 3082, 'houses': 2180, 'contract': 973, 'topic': 4526, 'internet': 2327, 'shocked': 3939, 'teenagers': 4391, 'comfortable': 892, 'western': 4853, 'account': 89, 'digital': 1251, 'jeremy': 2394, 'triumph': 4590, 'mistakes': 2873, 'initial': 2290, 'birds': 485, 'investigate': 2342, 'yesterday': 4983, 'spent': 4108, 'warn': 4797, 'lol': 2640, 'heck': 2071, 'loaded': 2632, 'strangers': 4214, 'stone': 4197, 'tony': 4521, 'montana': 2895, 'player': 3298, 'florida': 1761, 'harsh': 2040, 'unpleasant': 4674, 'elizabeth': 1445, 'abraham': 69, 'angel': 231, 'rented': 3628, 'thrillers': 4473, 'mexican': 2826, 'voices': 4763, 'opposed': 3122, 'pretending': 3382, 'tends': 4402, 'ballet': 389, 'learns': 2553, 'everyday': 1541, 'persons': 3244, 'spoil': 4121, 'fond': 1776, 'discussion': 1284, 'discuss': 1283, 'everybody': 1540, 'planet': 3289, 'happily': 2030, 'sounded': 4082, 'claire': 831, 'danes': 1108, 'vacation': 4704, 'follows': 1775, 'innocence': 2293, 'politics': 3326, 'ps': 3453, 'walker': 4778, 'charming': 768, 'delightful': 1168, 'eating': 1413, 'mom': 2885, 'asked': 317, 'steve': 4181, 'ritter': 3705, 'till': 4493, 'provide': 3448, 'issue': 2364, 'cousin': 1021, 'robin': 3715, 'senseless': 3878, 'flynn': 1765, 'billy': 482, 'threatening': 4468, 'finger': 1731, 'hbo': 2055, 'cash': 709, 'hire': 2116, 'courage': 1018, 'notable': 3041, 'split': 4120, 'safety': 3772, 'mine': 2853, 'substance': 4258, 'tribute': 4581, 'ad': 110, 'raise': 3507, 'behave': 445, 'survive': 4321, 'gone': 1935, '20th': 38, 'century': 736, 'species': 4098, 'stronger': 4230, 'disappear': 1270, 'hitler': 2124, 'countries': 1013, 'peace': 3219, 'beings': 449, 'essential': 1522, 'restored': 3659, 'edition': 1422, 'crucial': 1068, 'animal': 239, 'farm': 1656, '1984': 23, 'university': 4667, 'glenn': 1918, 'subplot': 4255, 'magical': 2704, 'touches': 4535, 'plight': 3308, 'ultra': 4629, 'notion': 3050, 'definition': 1163, 'quotes': 3497, 'charge': 761, 'holiday': 2134, 'border': 539, 'eve': 1532, 'fights': 1710, 'everywhere': 1545, 'simplicity': 3984, 'carrie': 697, 'anne': 246, 'chaplin': 756, 'encounters': 1467, 'bland': 500, 'jerk': 2395, 'cost': 1003, 'nations': 2971, 'involvement': 2347, 'sequels': 3886, 'satire': 3788, 'alas': 172, 'spin': 4112, 'truck': 4595, 'driver': 1366, 'hearing': 2063, 'devils': 1229, 'kicking': 2462, 'hundred': 2195, 'bath': 411, 'guts': 1999, 'yelling': 4980, 'staring': 4152, 'lewis': 2586, 'gangsters': 1869, 'shell': 3927, 'elegant': 1441, 'albeit': 173, 'accident': 84, 'thrill': 4471, 'treasure': 4571, 'grasp': 1960, 'intriguing': 2335, 'assigned': 325, 'corpse': 999, 'mission': 2870, 'confused': 941, 'charismatic': 763, 'lesser': 2576, 'staying': 4168, 'ignorant': 2223, 'equal': 1509, 'manage': 2722, 'generated': 1882, 'adequate': 120, 'americans': 214, 'gary': 1873, 'backgrounds': 381, 'horse': 2170, 'toy': 4542, 'cox': 1026, 'handle': 2018, 'abuse': 74, 'poem': 3312, 'village': 4743, 'picking': 3267, 'cuba': 1075, 'news': 3005, 'quit': 3494, 'despair': 1207, 'sole': 4055, 'broken': 594, 'saga': 3773, 'landscape': 2513, 'guide': 1993, 'incomprehensible': 2267, 'invisible': 2344, 'ghosts': 1903, 'fathers': 1667, 'curious': 1083, 'awe': 370, 'struggling': 4236, 'allows': 192, 'poster': 3353, 'explicit': 1591, 'elvis': 1451, 'brains': 563, 'tunes': 4603, 'amazed': 208, 'hits': 2125, '1973': 19, 'india': 2273, 'iran': 2350, 'teacher': 4375, 'nearby': 2980, 'holy': 2140, 'sadness': 3770, 'nation': 2969, 'vote': 4766, 'brazil': 568, 'flaw': 1749, 'heads': 2059, 'heaven': 2068, 'deaf': 1134, 'ignored': 2225, 'jail': 2376, 'lips': 2615, 'nominated': 3025, 'lessons': 2578, 'witnessed': 4915, 'scared': 3805, 'kiss': 2483, 'teachers': 4376, 'cruise': 1071, 'smiling': 4037, 'corporate': 998, 'winds': 4895, 'integrity': 2311, 'receive': 3563, 'virginia': 4750, 'draws': 1352, 'yellow': 4981, 'alfred': 181, 'rendition': 3625, 'motivation': 2914, 'previously': 3388, 'berlin': 467, 'nazi': 2977, 'handled': 2019, 'nazis': 2978, 'fortunately': 1805, 'daring': 1114, 'mel': 2796, 'brooks': 596, 'lovable': 2668, 'stunts': 4246, 'wallace': 4782, 'rival': 3706, 'north': 3036, 'francis': 1818, 'creativity': 1042, 'younger': 4990, 'sappy': 3784, 'dude': 1381, 'san': 3780, 'francisco': 1819, 'recall': 3562, 'recording': 3575, 'nick': 3012, 'hype': 2207, 'tame': 4363, 'anywhere': 263, 'rental': 3627, 'overrated': 3156, 'cliche': 843, 'defeat': 1157, 'weapons': 4829, 'ninja': 3018, 'tall': 4362, 'hat': 2045, 'bob': 524, 'wannabe': 4787, 'claims': 830, 'dig': 1250, 'alright': 198, 'forth': 1804, 'turning': 4608, 'tiger': 4491, 'jobs': 2406, 'ring': 3698, 'delivering': 1171, 'hammer': 2014, 'dracula': 1341, 'unintentionally': 4659, 'purchased': 3470, 'cats': 721, 'matched': 2763, 'womans': 4922, 'unpredictable': 4675, 'favorites': 1672, 'countless': 1012, 'tons': 4520, 'alcohol': 176, 'myers': 2952, 'chances': 748, 'arrogant': 303, 'stereotype': 4178, 'nostalgic': 3039, 'boxing': 556, 'round': 3742, 'ended': 1470, 'parker': 3191, 'judy': 2426, 'surrounded': 4318, 'guarantee': 1987, 'hamilton': 2012, 'vietnam': 4735, 'empty': 1465, 'shake': 3914, 'send': 3875, 'examples': 1554, 'superman': 4301, 'visually': 4758, 'frankenstein': 1822, 'entry': 1504, 'weve': 4856, 'bright': 581, 'belong': 459, 'decisions': 1152, 'screenplay': 3831, 'pays': 3218, 'careers': 687, 'marry': 2745, 'physically': 3263, 'wishes': 4906, 'colorful': 878, 'calm': 655, 'isolated': 2363, 'influence': 2286, 'explains': 1589, 'walken': 4777, 'stiller': 4189, 'desperate': 1208, 'cary': 706, 'grant': 1956, 'cole': 873, 'louise': 2666, 'jason': 2383, 'jaws': 2385, 'bond': 532, 'nostalgia': 3038, 'voiced': 4762, 'resembles': 3646, 'clumsy': 866, 'castle': 712, 'personalities': 3241, 'slap': 4018, 'thousand': 4465, 'seek': 3858, 'pig': 3274, 'merit': 2816, 'perform': 3227, 'sutherland': 4333, 'assumed': 329, 'fault': 1668, 'serving': 3897, 'remind': 3618, 'carpenter': 694, 'shower': 3957, 'chasing': 772, 'mtv': 2933, 'sixties': 4011, 'gratuitous': 1961, 'skill': 4013, 'slick': 4026, 'mix': 2876, 'cried': 1054, 'graphic': 1958, 'edie': 1419, 'promises': 3432, 'ruby': 3749, 'prize': 3405, 'daily': 1097, 'flies': 1756, 'beach': 419, 'goodness': 1938, 'shop': 3945, 'enjoying': 1487, 'vicious': 4728, 'tradition': 4549, 'heston': 2094, 'reaction': 3541, 'escaped': 1518, 'clip': 851, 'attempting': 342, 'followed': 1773, 'cooper': 990, 'paulie': 3215, 'ludicrous': 2685, 'eg': 1434, 'attacks': 339, 'cusack': 1088, 'hank': 2024, 'greedy': 1969, 'americas': 215, 'technical': 4381, 'racist': 3503, 'chased': 770, 'lynch': 2691, 'suspend': 4329, 'disbelief': 1277, 'justin': 2440, 'dreadful': 1353, 'developing': 1224, 'eccentric': 1414, 'unbelievably': 4635, 'fest': 1696, 'italy': 2368, 'seeking': 3859, 'steel': 4173, 'mothers': 2912, 'measure': 2786, 'cake': 648, 'stress': 4220, 'shakespeare': 3915, 'branagh': 564, 'precious': 3366, 'clown': 862, 'porno': 3337, 'sucked': 4270, 'buying': 641, 'join': 2412, 'hoped': 2156, 'da': 1094, 'area': 286, 'enemy': 1477, 'bride': 577, 'slave': 4022, 'morality': 2903, 'scope': 3821, 'wes': 4851, 'exotic': 1574, 'crocodile': 1065, 'held': 2074, 'honor': 2150, 'glover': 1923, '1940s': 13, 'letters': 2582, 'arrested': 298, 'student': 4238, 'express': 1600, 'madonna': 2699, 'skin': 4015, 'winning': 4898, 'ticket': 4487, 'masterpieces': 2760, 'imaginative': 2237, 'block': 508, 'van': 4713, 'sullivan': 4288, 'jimmy': 2403, 'stewart': 4184, 'warming': 4795, 'generations': 1884, 'channel': 753, 'ruin': 3750, 'treated': 4573, 'tape': 4365, 'jesus': 2399, 'appearances': 275, 'mistress': 2874, 'streep': 4215, 'sam': 3777, 'beloved': 461, 'depiction': 1185, 'warrior': 4802, 'suspects': 4328, 'dolph': 1317, 'wisdom': 4902, 'rush': 3759, 'godzilla': 1929, 'dick': 1239, 'albert': 174, 'disgusting': 1286, 'atlantis': 332, 'reasonably': 3559, 'newspaper': 3006, 'horrendous': 2162, 'revolves': 3682, 'steal': 4170, 'randomly': 3515, 'destroy': 1213, 'activities': 102, 'mail': 2706, 'pushing': 3479, 'status': 4165, 'cases': 708, 'narrator': 2967, 'chuck': 812, 'raped': 3522, 'spirited': 4114, 'included': 2262, 'omen': 3104, 'unable': 4631, 'supernatural': 4302, 'makeup': 2717, 'carefully': 689, 'belongs': 460, 'norman': 3035, 'wondered': 4927, 'fly': 1763, 'fisher': 1739, 'burns': 628, 'eat': 1411, 'stayed': 4167, 'emily': 1456, 'comparing': 913, 'medium': 2792, '1990': 24, 'eva': 1531, 'swim': 4337, 'lake': 2509, 'illogical': 2231, '70': 55, 'assume': 328, 'catching': 716, 'kurt': 2499, 'thomas': 4458, 'spain': 4091, 'spielberg': 4110, 'tight': 4492, 'shelf': 3926, 'suggests': 4282, 'quirky': 3493, 'summer': 4291, 'vice': 4727, 'tomatoes': 4515, 'national': 2970, 'closet': 858, 'toilet': 4512, 'cynical': 1093, 'meaningless': 2782, 'taught': 4370, 'recognized': 3570, 'franchise': 1817, 'education': 1424, 'cinemas': 817, 'britain': 588, 'blunt': 520, 'universal': 4665, 'warner': 4799, 'fitting': 1742, 'closely': 855, 'troubles': 4594, 'allowed': 190, 'freedom': 1828, 'achieved': 93, 'emphasis': 1463, 'speed': 4103, 'foul': 1810, 'domestic': 1318, 'sue': 4274, 'reflection': 3585, 'olivier': 3103, 'ralph': 3510, 'dozens': 1339, 'christians': 809, 'bush': 632, 'christian': 808, 'code': 869, 'bold': 528, 'sharp': 3922, 'superhero': 4299, 'hart': 2041, 'wounded': 4961, 'helicopter': 2076, 'alert': 178, 'corruption': 1002, 'impact': 2244, 'paced': 3162, 'anderson': 227, 'choose': 799, 'lay': 2542, 'authority': 360, 'planned': 3290, 'row': 3744, 'philosophy': 3254, 'pointed': 3317, 'whereas': 4865, 'banned': 395, 'classical': 836, 'stooges': 4200, 'shorts': 3948, 'constructed': 959, 'sing': 3992, 'combine': 884, 'leonard': 2572, 'philosophical': 3253, 'sentence': 3881, 'disc': 1278, 'seconds': 3848, 'suspect': 4327, 'bin': 483, 'reviewer': 3677, 'trashy': 4566, 'angela': 232, 'vaguely': 4706, 'extended': 1604, 'visits': 4756, 'psychiatrist': 3455, 'caine': 647, 'picks': 3268, 'stranger': 4213, 'attacked': 338, 'blade': 495, 'blake': 498, 'nancy': 2964, 'witnesses': 4916, 'psychological': 3458, 'motives': 2916, 'suggested': 4281, 'root': 3737, 'uninspired': 4657, 'inappropriate': 2259, 'desire': 1205, 'boss': 546, 'watchable': 4812, 'sunshine': 4294, 'hysterical': 2208, 'ironically': 2356, 'uninteresting': 4660, 'speak': 4094, 'wanna': 4786, 'definite': 1161, 'holds': 2131, 'agreed': 156, 'inferior': 2285, '1st': 28, 'revealing': 3672, 'aliens': 184, 'awfully': 373, 'remaining': 3610, 'population': 3335, 'showdown': 3955, 'inducing': 2279, 'settings': 3901, 'hitting': 2126, 'competition': 918, 'incompetent': 2266, 'urge': 4689, 'eighties': 1437, 'reaching': 3539, 'charisma': 762, 'adding': 117, 'understood': 4647, 'tiresome': 4502, 'hiding': 2099, 'wrapped': 4964, 'subtlety': 4261, 'crush': 1072, 'pan': 3180, 'considerable': 950, 'pretend': 3381, 'viewings': 4741, 'criticism': 1063, 'regarding': 3589, 'efforts': 1433, 'understandable': 4644, 'breath': 573, 'visit': 4755, 'rings': 3699, 'threat': 4467, 'trailers': 4555, 'wilson': 4891, 'poverty': 3357, 'occasion': 3073, 'stilted': 4190, 'domino': 1319, 'harvey': 2042, 'hunter': 2199, 'boredom': 542, 'hunters': 2200, 'mickey': 2831, 'sin': 3988, 'chorus': 803, 'bother': 548, 'experienced': 1581, 'hideous': 2098, 'outrageous': 3145, 'severe': 3906, 'novels': 3053, 'furthermore': 1854, 'davies': 1125, 'taylor': 4372, 'parallel': 3185, 'spoof': 4127, 'garbo': 1871, 'recognize': 3569, 'hated': 2047, 'connected': 945, 'advanced': 128, 'outcome': 3142, 'absurd': 73, 'endings': 1472, 'ethan': 1528, 'julie': 2428, 'progresses': 3426, 'touched': 4534, 'primarily': 3393, 'jaw': 2384, 'pit': 3278, 'ed': 1415, 'taxi': 4371, 'rocket': 3721, 'mars': 2746, 'eyed': 1612, 'cheese': 780, 'mildred': 2841, 'imitation': 2241, 'photographer': 3259, 'thirty': 4456, 'dub': 1378, 'packed': 3166, 'ego': 1435, 'pursuit': 3476, 'mighty': 2836, 'hunting': 2201, 'racism': 3502, 'advertising': 132, 'landing': 2512, 'pretentious': 3383, 'meaningful': 2781, 'swear': 4334, 'worn': 4948, 'kings': 2481, 'condition': 937, 'display': 1291, 'reference': 3582, 'deadly': 1133, 'hurts': 2203, 'ron': 3734, 'lab': 2501, 'teaching': 4377, 'resolution': 3649, 'radio': 3504, 'molly': 2884, 'dire': 1257, 'smooth': 4041, 'harry': 2039, 'comical': 894, 'chicks': 787, '35': 45, 'gritty': 1977, 'joan': 2404, 'cagney': 646, 'push': 3477, 'jungle': 2434, 'leg': 2562, 'raymond': 3534, 'bone': 533, 'figured': 1712, 'bar': 396, 'fabulous': 1615, 'gripping': 1976, 'depression': 1189, 'photos': 3261, 'scares': 3806, 'alien': 183, 'burning': 627, 'intentionally': 2320, 'testament': 4417, 'punishment': 3467, 'wives': 4918, 'garden': 1872, 'sends': 3876, 'swedish': 4335, 'bridge': 578, 'throws': 4482, 'blah': 496, 'reads': 3545, 'kubrick': 2496, 'command': 897, 'timing': 4498, 'ya': 4976, 'russell': 3761, 'holly': 2136, 'dan': 1102, 'der': 1191, 'educational': 1425, 'documentaries': 1306, 'wound': 4960, '1933': 12, 'dickens': 1240, 'monkeys': 2891, 'warned': 4798, 'jenny': 2393, 'werewolf': 4850, 'bergman': 466, 'cg': 739, 'blank': 501, 'pants': 3182, 'medical': 2790, 'secretly': 3851, 'vehicle': 4718, 'coffee': 870, 'horrid': 2165, 'overacting': 3149, 'ham': 2011, 'opportunities': 3120, 'husbands': 2205, 'tracks': 4545, 'virus': 4752, 'nine': 3017, 'praise': 3364, 'carter': 703, 'classes': 834, 'widely': 4881, 'identify': 2216, 'nyc': 3065, 'knock': 2488, 'hanks': 2025, 'unaware': 4632, 'occurs': 3078, 'rob': 3710, 'pink': 3277, 'realizing': 3555, 'deceased': 1146, 'easier': 1405, 'statement': 4162, 'willis': 4890, 'jeffrey': 2391, 'distribution': 1298, '18': 10, 'colonel': 876, 'official': 3094, 'von': 4765, 'southern': 4088, 'shining': 3933, 'devil': 1228, 'tommy': 4516, 'winter': 4900, 'warmth': 4796, 'expensive': 1579, 'suffering': 4277, 'holes': 2133, 'existed': 1570, 'mummy': 2937, 'earned': 1401, 'context': 968, 'robbery': 3711, 'musicals': 2948, 'satisfy': 3790, 'hole': 2132, 'waters': 4817, 'celebrity': 729, 'ease': 1404, 'heat': 2067, 'matthew': 2772, 'lugosi': 2686, 'demon': 1177, 'consistently': 954, 'li': 2587, 'improved': 2255, 'broad': 590, 'combat': 882, 'spirits': 4115, 'stylish': 4251, 'storm': 4206, '14': 6, 'suitable': 4285, 'questionable': 3488, 'focusing': 1769, 'perry': 3237, 'everyones': 1543, 'improve': 2254, 'fay': 1674, 'grim': 1974, 'arrived': 301, 'jeff': 2390, 'modesty': 2883, 'captivating': 675, 'prior': 3400, 'korean': 2495, 'affected': 137, 'enemies': 1476, 'caring': 691, 'faster': 1662, 'dances': 1106, 'cares': 690, '2nd': 41, 'accompanied': 86, 'visible': 4753, 'pro': 3406, 'parties': 3196, 'mill': 2845, 'curiosity': 1082, 'crimes': 1056, 'unit': 4663, 'hearts': 2066, 'views': 4742, 'expressed': 1601, 'chess': 783, 'polished': 3323, 'crisis': 1060, 'ensues': 1493, 'centered': 733, 'subplots': 4256, 'delight': 1167, 'specifically': 4100, 'valley': 4707, 'jet': 2400, 'fields': 1705, 'justify': 2439, 'folk': 1770, 'bus': 631, 'concern': 931, 'daddy': 1096, 'associated': 327, 'woody': 4936, 'adam': 111, 'wacky': 4769, 'favor': 1670, 'choreographed': 801, 'smaller': 4034, 'shelley': 3928, 'rocks': 3722, 'shall': 3916, 'veteran': 4724, 'broke': 593, 'purchase': 3469, 'text': 4419, 'strike': 4224, 'stellar': 4174, 'wooden': 4934, 'amounts': 220, 'possessed': 3347, 'station': 4164, 'earl': 1398, 'conspiracy': 956, 'lowest': 2678, 'legal': 2563, 'dutch': 1389, 'kitchen': 2485, 'rick': 3689, 'coherent': 871, 'racial': 3501, 'generic': 1885, 'bo': 521, 'ted': 4386, 'voight': 4764, 'proof': 3434, 'flop': 1760, 'colour': 880, 'kennedy': 2454, 'resident': 3647, 'mate': 2765, 'catches': 715, 'tad': 4347, 'theatrical': 4430, 'troops': 4591, 'lust': 2689, 'striking': 4226, 'patrick': 3213, 'attorney': 348, 'corrupt': 1001, 'rap': 3520, 'mst3k': 2932, 'championship': 745, 'luckily': 2682, 'matches': 2764, 'choreography': 802, 'sandler': 3781, 'bette': 471, 'engaged': 1480, 'agents': 151, 'succeeded': 4263, 'chases': 771, 'explosions': 1597, 'escapes': 1519, 'capturing': 679, 'explaining': 1588, 'bullet': 620, 'monkey': 2890, 'evident': 1547, '3rd': 47, 'installment': 2303, 'practice': 3363, 'clips': 852, 'elm': 1447, 'solely': 4056, 'aimed': 162, 'arnold': 296, 'alice': 182, 'wholly': 4874, 'fatal': 1664, 'access': 83, 'stolen': 4195, 'christ': 807, 'hundreds': 2196, 'duke': 1383, 'luke': 2687, 'davis': 1126, 'burt': 629, 'reynolds': 3684, 'simpson': 3987, 'nelson': 2997, 'pair': 3176, 'excessive': 1560, 'buffs': 612, 'sidekick': 3966, 'hamlet': 2013, 'chief': 788, 'ties': 4490, 'mann': 2728, 'ruth': 3763, 'childish': 791, 'roman': 3731, 'passes': 3203, 'craft': 1028, 'complexity': 924, 'demands': 1175, 'lemmon': 2567, 'felix': 1689, 'ginger': 1908, 'welcome': 4842, 'department': 1182, 'featured': 1679, 'bobby': 525, 'cd': 728, 'dating': 1120, 'liners': 2611, 'masses': 2755, 'sport': 4129, 'letter': 2581, 'loyal': 2679, 'psychotic': 3459, 'terrorist': 4413, 'lasted': 2522, 'smoking': 4040, 'involve': 2345, 'clue': 864, 'unoriginal': 4673, 'attracted': 349, 'lying': 2690, 'bell': 458, 'demented': 1176, 'genres': 1889, 'fascinated': 1657, 'wore': 4939, 'parent': 3187, 'bela': 450, 'journalist': 2420, 'bull': 619, 'convince': 983, 'defined': 1160, 'menace': 2806, 'combination': 883, 'weakest': 4825, 'abysmal': 76, 'established': 1524, 'artificial': 306, 'drag': 1342, 'passionate': 3206, 'johnson': 2411, 'shirt': 3937, 'scheme': 3812, 'jonathan': 2417, 'depicts': 1186, 'directorial': 1265, 'nurse': 3063, 'providing': 3451, 'graphics': 1959, 'jackson': 2375, 'album': 175, 'liberal': 2588, 'sign': 3970, 'intrigue': 2333, 'respected': 3653, 'board': 522, 'conservative': 948, 'amongst': 218, 'betty': 474, '17': 9, '45': 50, 'larry': 2520, 'wed': 4835, 'jazz': 2387, 'letting': 2583, 'doc': 1303, 'agrees': 157, 'embarrassing': 1454, 'strikes': 4225, 'rank': 3518, 'vengeance': 4719, 'icon': 2211, 'gandhi': 1866, 'nicholson': 3011, 'brosnan': 597, 'jake': 2377, 'orange': 3125, 'cheating': 776, 'mexico': 2827, 'flight': 1757, 'fury': 1855, 'fighter': 1708, 'seagal': 3839, 'twins': 4616, 'format': 1799, 'derek': 1192, 'tour': 4538, 'paint': 3173, 'drives': 1367, 'inspiring': 2302, 'wizard': 4919, '3d': 46, 'cameos': 658, 'popularity': 3334, 'tender': 4401, 'notes': 3046, 'kirk': 2482, 'service': 3896, 'forms': 1801, 'advantage': 129, 'airport': 167, 'wayne': 4821, 'cruel': 1070, 'suffice': 4279, 'tonight': 4519, 'loser': 2655, 'failing': 1627, 'prepared': 3371, 'scooby': 3820, 'doo': 1325, 'punk': 3468, 'businessman': 634, 'appalling': 268, 'homer': 2144, 'spider': 4109, 'priceless': 3390, 'lily': 2605, 'revelation': 3674, 'literature': 2623, 'limits': 2607, 'mixture': 2878, 'directions': 1262, 'lincoln': 2608, 'titled': 4505, 'buddies': 608, 'ocean': 3079, 'eager': 1396, 'orson': 3132, 'welles': 4844, 'frequent': 1831, 'composed': 926, 'vivid': 4760, 'scottish': 3825, 'ought': 3138, 'powell': 3358, 'wood': 4933, 'enthusiasm': 1501, 'photo': 3257, 'closest': 857, 'marty': 2749, 'grandfather': 1954, 'handed': 2016, 'ian': 2209, 'streisand': 4218, 'carol': 693, 'khan': 2459, 'religion': 3607, 'bollywood': 530, 'marie': 2737, 'resemblance': 3645, 'performed': 3230, 'fairy': 1632, 'ripped': 3701, 'bands': 392, 'laughably': 2531, 'bag': 384, 'enormous': 1490, 'equipment': 1511, 'noise': 3024, 'accepted': 82, 'che': 773, 'communist': 907, 'revolutionary': 3681, 'damon': 1101, 'diamond': 1236, 'pulled': 3462, 'gerard': 1895, 'laurel': 2537, 'retired': 3664, 'kenneth': 2455, 'influenced': 2287, 'hello': 2078, 'pulp': 3465, 'illegal': 2229, 'cave': 727, 'fetched': 1698, 'scrooge': 3837, 'contest': 967, 'square': 4136, 'lou': 2663, 'wendy': 4846, 'namely': 2962, 'disappeared': 1271, 'uwe': 4703, 'boll': 529, 'implausible': 2245, 'glory': 1922, 'served': 3894, 'claimed': 829, 'argument': 291, 'claim': 828, 'masters': 2761, 'impress': 2250, 'superbly': 4297, 'margaret': 2735, 'manager': 2724, 'witches': 4910, 'cannibal': 669, 'rocky': 3723, 'minimal': 2855, 'methods': 2825, 'tooth': 4524, 'ramones': 3512, 'bang': 393, 'chapter': 757, 'copies': 992, 'attitudes': 347, 'empathy': 1462, 'ellen': 1446, 'tag': 4348, 'cure': 1081, 'spike': 4111, 'neighborhood': 2993, 'lees': 2560, 'throat': 4476, 'dawson': 1128, 'lena': 2568, 'mirror': 2861, 'misery': 2865, 'tarzan': 4367, 'ape': 266, 'un': 4630, 'models': 2881, 'anyways': 262, 'defense': 1159, 'polanski': 3321, 'spell': 4104, 'comics': 895, 'homosexual': 2145, 'bay': 416, 'instinct': 2308, 'donna': 1323, 'reed': 3580, 'heroic': 2090, 'scarecrow': 3804, 'encounter': 1466, 'stanwyck': 4149, 'press': 3379, 'brando': 566, 'stanley': 4148, 'iraq': 2351, 'burned': 626, 'exposed': 1598, 'stinks': 4192, 'gender': 1878, 'explore': 1594, 'rambo': 3511, 'stops': 4203, 'bears': 421, 'savage': 3793, 'stan': 4142, 'hardy': 2037, 'solo': 4058, 'treats': 4575, 'elephant': 1444, 'catholic': 720, 'exploration': 1593, 'widmark': 4882, 'peters': 3248, 'reaches': 3538, 'elaborate': 1439, 'warren': 4801, 'apes': 267, 'jealous': 2388, 'occurred': 3077, 'diana': 1237, 'officers': 3093, 'liking': 2604, 'diane': 1238, 'cliff': 847, 'screams': 3828, 'overwhelming': 3157, 'mentioning': 2812, 'depicting': 1184, 'karloff': 2445, 'fish': 1738, 'shy': 3962, 'financial': 1725, 'latin': 2527, 'hop': 2154, 'valuable': 4708, 'shortly': 3947, 'prequel': 3372, 'outer': 3143, 'devoid': 1230, 'stargate': 4151, 'cinematographer': 819, 'neighbors': 2994, 'motivations': 2915, 'stones': 4198, 'denzel': 1181, 'imagined': 2239, 'traveling': 4568, 'cheated': 775, 'georges': 1894, 'attend': 344, 'balls': 390, 'resources': 3651, 'schools': 3814, 'pregnant': 3369, 'sidney': 3968, 'dreary': 1356, '3000': 43, 'psychic': 3456, 'greed': 1968, 'purple': 3473, 'craven': 1034, 'circle': 821, 'pearl': 3220, 'manhattan': 2726, 'gray': 1963, 'wet': 4855, 'marketing': 2741, 'chaos': 755, 'phantom': 3251, 'sid': 3964, 'franco': 1820, 'bound': 553, 'armed': 293, 'scores': 3823, 'bathroom': 412, 'assault': 324, 'andrews': 229, 'paranoia': 3186, 'bakshi': 386, 'beast': 422, 'morris': 2908, 'highest': 2102, 'boom': 537, 'specific': 4099, 'ireland': 2352, 'experiments': 1584, 'mechanical': 2788, 'mayor': 2777, 'mario': 2738, 'carradine': 695, '75': 57, 'dropping': 1371, 'bourne': 554, 'alexander': 180, 'todd': 4510, 'eaten': 1412, 'melting': 2799, 'gabriel': 1859, 'forty': 1807, 'rolled': 3729, 'coach': 868, 'souls': 4080, 'whale': 4857, 'sellers': 3872, 'lumet': 2688, 'amitabh': 216, 'pokemon': 3320}\n"
     ]
    }
   ],
   "source": [
    "print(str(vocabulary))"
   ]
  },
  {
   "cell_type": "markdown",
   "metadata": {},
   "source": [
    "Once you have added the endpoint name to the Lambda function, click on **Save**. Your Lambda function is now up and running. Next we need to create a way for our web app to execute the Lambda function."
   ]
  },
  {
   "cell_type": "markdown",
   "metadata": {},
   "source": [
    "### Setting up API Gateway\n",
    "\n",
    "Now that our Lambda function is set up, it is time to create a new API using API Gateway that will trigger the Lambda function we have just created.\n",
    "\n",
    "Using AWS Console, navigate to **Amazon API Gateway** and then click on **Get started**.\n",
    "\n",
    "On the next page, make sure that **New API** is selected and give the new api a name, for example, `sentiment_analysis_web_app`. Then, click on **Create API**.\n",
    "\n",
    "Now we have created an API, however it doesn't currently do anything. What we want it to do is to trigger the Lambda function that we created earlier.\n",
    "\n",
    "Select the **Actions** dropdown menu and click **Create Method**. A new blank method will be created, select its dropdown menu and select **POST**, then click on the check mark beside it.\n",
    "\n",
    "For the integration point, make sure that **Lambda Function** is selected and click on the **Use Lambda Proxy integration**. This option makes sure that the data that is sent to the API is then sent directly to the Lambda function with no processing. It also means that the return value must be a proper response object as it will also not be processed by API Gateway.\n",
    "\n",
    "Type the name of the Lambda function you created earlier into the **Lambda Function** text entry box and then click on **Save**. Click on **OK** in the pop-up box that then appears, giving permission to API Gateway to invoke the Lambda function you created.\n",
    "\n",
    "The last step in creating the API Gateway is to select the **Actions** dropdown and click on **Deploy API**. You will need to create a new Deployment stage and name it anything you like, for example `prod`.\n",
    "\n",
    "You have now successfully set up a public API to access your SageMaker model. Make sure to copy or write down the URL provided to invoke your newly created public API as this will be needed in the next step. This URL can be found at the top of the page, highlighted in blue next to the text **Invoke URL**."
   ]
  },
  {
   "cell_type": "markdown",
   "metadata": {},
   "source": [
    "## Step 7: Deploying our web app\n",
    "\n",
    "Now that we have a publicly available API, we can start using it in a web app. For our purposes, we have provided a simple static html file which can make use of the public api you created earlier.\n",
    "\n",
    "In the `website` folder there should be a file called `index.html`. Download the file to your computer and open that file up in a text editor of your choice. There should be a line which contains **\\*\\*REPLACE WITH PUBLIC API URL\\*\\***. Replace this string with the url that you wrote down in the last step and then save the file.\n",
    "\n",
    "Now, if you open `index.html` on your local computer, your browser will behave as a local web server and you can use the provided site to interact with your SageMaker model.\n",
    "\n",
    "If you'd like to go further, you can host this html file anywhere you'd like, for example using github or hosting a static site on Amazon's S3. Once you have done this you can share the link with anyone you'd like and have them play with it too!\n",
    "\n",
    "> **Important Note** In order for the web app to communicate with the SageMaker endpoint, the endpoint has to actually be deployed and running. This means that you are paying for it. Make sure that the endpoint is running when you want to use the web app but that you shut it down when you don't need it, otherwise you will end up with a surprisingly large AWS bill."
   ]
  },
  {
   "cell_type": "markdown",
   "metadata": {},
   "source": [
    "### Delete the endpoint\n",
    "\n",
    "Remember to always shut down your endpoint if you are no longer using it. You are charged for the length of time that the endpoint is running so if you forget and leave it on you could end up with an unexpectedly large bill."
   ]
  },
  {
   "cell_type": "code",
   "execution_count": 51,
   "metadata": {},
   "outputs": [],
   "source": [
    "xgb_predictor.delete_endpoint()"
   ]
  },
  {
   "cell_type": "markdown",
   "metadata": {},
   "source": [
    "## Optional: Clean up\n",
    "\n",
    "The default notebook instance on SageMaker doesn't have a lot of excess disk space available. As you continue to complete and execute notebooks you will eventually fill up this disk space, leading to errors which can be difficult to diagnose. Once you are completely finished using a notebook it is a good idea to remove the files that you created along the way. Of course, you can do this from the terminal or from the notebook hub if you would like. The cell below contains some commands to clean up the created files from within the notebook."
   ]
  },
  {
   "cell_type": "code",
   "execution_count": 52,
   "metadata": {},
   "outputs": [],
   "source": [
    "# First we will remove all of the files contained in the data_dir directory\n",
    "!rm $data_dir/*\n",
    "\n",
    "# And then we delete the directory itself\n",
    "!rmdir $data_dir\n",
    "\n",
    "# Similarly we remove the files in the cache_dir directory and the directory itself\n",
    "!rm $cache_dir/*\n",
    "!rmdir $cache_dir"
   ]
  },
  {
   "cell_type": "code",
   "execution_count": null,
   "metadata": {},
   "outputs": [],
   "source": []
  }
 ],
 "metadata": {
  "kernelspec": {
   "display_name": "Python 3",
   "language": "python",
   "name": "python3"
  },
  "language_info": {
   "codemirror_mode": {
    "name": "ipython",
    "version": 3
   },
   "file_extension": ".py",
   "mimetype": "text/x-python",
   "name": "python",
   "nbconvert_exporter": "python",
   "pygments_lexer": "ipython3",
   "version": "3.7.4"
  }
 },
 "nbformat": 4,
 "nbformat_minor": 2
}
